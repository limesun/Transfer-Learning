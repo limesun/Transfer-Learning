{
  "nbformat": 4,
  "nbformat_minor": 0,
  "metadata": {
    "colab": {
      "name": "ULMFiT 20 newsgroup",
      "version": "0.3.2",
      "provenance": [],
      "collapsed_sections": [],
      "include_colab_link": true
    },
    "kernelspec": {
      "name": "python3",
      "display_name": "Python 3"
    },
    "accelerator": "GPU"
  },
  "cells": [
    {
      "cell_type": "markdown",
      "metadata": {
        "id": "view-in-github",
        "colab_type": "text"
      },
      "source": [
        "<a href=\"https://colab.research.google.com/github/limesun/Transfer-Learning/blob/master/ULMFiT_20_newsgroup.ipynb\" target=\"_parent\"><img src=\"https://colab.research.google.com/assets/colab-badge.svg\" alt=\"Open In Colab\"/></a>"
      ]
    },
    {
      "cell_type": "code",
      "metadata": {
        "id": "nyPvw1hDpMkq",
        "colab_type": "code",
        "outputId": "4ed6d0db-3798-48b1-c1f6-21273d9c54b1",
        "colab": {
          "base_uri": "https://localhost:8080/",
          "height": 1129
        }
      },
      "source": [
        "!pip install torch_nightly -f https://download.pytorch.org/whl/nightly/cu92/torch_nightly.html\n",
        "!pip install fastai "
      ],
      "execution_count": 0,
      "outputs": [
        {
          "output_type": "stream",
          "text": [
            "Looking in links: https://download.pytorch.org/whl/nightly/cu92/torch_nightly.html\n",
            "Collecting torch_nightly\n",
            "\u001b[?25l  Downloading https://download.pytorch.org/whl/nightly/cu92/torch_nightly-1.0.0.dev20181206-cp36-cp36m-linux_x86_64.whl (576.2MB)\n",
            "\u001b[K    100% |████████████████████████████████| 576.2MB 27kB/s \n",
            "tcmalloc: large alloc 1073750016 bytes == 0x62ebe000 @  0x7f6370e452a4 0x591a07 0x5b5d56 0x502e9a 0x506859 0x502209 0x502f3d 0x506859 0x504c28 0x502540 0x502f3d 0x506859 0x504c28 0x502540 0x502f3d 0x506859 0x504c28 0x502540 0x502f3d 0x507641 0x502209 0x502f3d 0x506859 0x504c28 0x502540 0x502f3d 0x507641 0x504c28 0x502540 0x502f3d 0x507641\n",
            "\u001b[?25hInstalling collected packages: torch-nightly\n",
            "Successfully installed torch-nightly-1.0.0.dev20181206\n",
            "Requirement already satisfied: fastai in /usr/local/lib/python3.6/dist-packages (1.0.41)\n",
            "Requirement already satisfied: numexpr in /usr/local/lib/python3.6/dist-packages (from fastai) (2.6.9)\n",
            "Requirement already satisfied: torch>=1.0.0 in /usr/local/lib/python3.6/dist-packages (from fastai) (1.0.0)\n",
            "Requirement already satisfied: fastprogress>=0.1.18 in /usr/local/lib/python3.6/dist-packages (from fastai) (0.1.18)\n",
            "Requirement already satisfied: pyyaml in /usr/local/lib/python3.6/dist-packages (from fastai) (3.13)\n",
            "Requirement already satisfied: requests in /usr/local/lib/python3.6/dist-packages (from fastai) (2.18.4)\n",
            "Requirement already satisfied: pandas in /usr/local/lib/python3.6/dist-packages (from fastai) (0.22.0)\n",
            "Requirement already satisfied: matplotlib in /usr/local/lib/python3.6/dist-packages (from fastai) (3.0.2)\n",
            "Requirement already satisfied: nvidia-ml-py3 in /usr/local/lib/python3.6/dist-packages (from fastai) (7.352.0)\n",
            "Requirement already satisfied: scipy in /usr/local/lib/python3.6/dist-packages (from fastai) (1.1.0)\n",
            "Requirement already satisfied: Pillow in /usr/local/lib/python3.6/dist-packages (from fastai) (4.0.0)\n",
            "Requirement already satisfied: typing in /usr/local/lib/python3.6/dist-packages (from fastai) (3.6.6)\n",
            "Requirement already satisfied: packaging in /usr/local/lib/python3.6/dist-packages (from fastai) (19.0)\n",
            "Requirement already satisfied: dataclasses; python_version < \"3.7\" in /usr/local/lib/python3.6/dist-packages (from fastai) (0.6)\n",
            "Requirement already satisfied: spacy>=2.0.18 in /usr/local/lib/python3.6/dist-packages (from fastai) (2.0.18)\n",
            "Requirement already satisfied: beautifulsoup4 in /usr/local/lib/python3.6/dist-packages (from fastai) (4.6.3)\n",
            "Requirement already satisfied: torchvision in /usr/local/lib/python3.6/dist-packages (from fastai) (0.2.1)\n",
            "Requirement already satisfied: numpy>=1.12 in /usr/local/lib/python3.6/dist-packages (from fastai) (1.14.6)\n",
            "Requirement already satisfied: bottleneck in /usr/local/lib/python3.6/dist-packages (from fastai) (1.2.1)\n",
            "Requirement already satisfied: idna<2.7,>=2.5 in /usr/local/lib/python3.6/dist-packages (from requests->fastai) (2.6)\n",
            "Requirement already satisfied: urllib3<1.23,>=1.21.1 in /usr/local/lib/python3.6/dist-packages (from requests->fastai) (1.22)\n",
            "Requirement already satisfied: certifi>=2017.4.17 in /usr/local/lib/python3.6/dist-packages (from requests->fastai) (2018.11.29)\n",
            "Requirement already satisfied: chardet<3.1.0,>=3.0.2 in /usr/local/lib/python3.6/dist-packages (from requests->fastai) (3.0.4)\n",
            "Requirement already satisfied: pytz>=2011k in /usr/local/lib/python3.6/dist-packages (from pandas->fastai) (2018.9)\n",
            "Requirement already satisfied: python-dateutil>=2 in /usr/local/lib/python3.6/dist-packages (from pandas->fastai) (2.5.3)\n",
            "Requirement already satisfied: cycler>=0.10 in /usr/local/lib/python3.6/dist-packages (from matplotlib->fastai) (0.10.0)\n",
            "Requirement already satisfied: pyparsing!=2.0.4,!=2.1.2,!=2.1.6,>=2.0.1 in /usr/local/lib/python3.6/dist-packages (from matplotlib->fastai) (2.3.1)\n",
            "Requirement already satisfied: kiwisolver>=1.0.1 in /usr/local/lib/python3.6/dist-packages (from matplotlib->fastai) (1.0.1)\n",
            "Requirement already satisfied: olefile in /usr/local/lib/python3.6/dist-packages (from Pillow->fastai) (0.46)\n",
            "Requirement already satisfied: six in /usr/local/lib/python3.6/dist-packages (from packaging->fastai) (1.11.0)\n",
            "Requirement already satisfied: regex==2018.01.10 in /usr/local/lib/python3.6/dist-packages (from spacy>=2.0.18->fastai) (2018.1.10)\n",
            "Requirement already satisfied: murmurhash<1.1.0,>=0.28.0 in /usr/local/lib/python3.6/dist-packages (from spacy>=2.0.18->fastai) (1.0.1)\n",
            "Requirement already satisfied: plac<1.0.0,>=0.9.6 in /usr/local/lib/python3.6/dist-packages (from spacy>=2.0.18->fastai) (0.9.6)\n",
            "Requirement already satisfied: cymem<2.1.0,>=2.0.2 in /usr/local/lib/python3.6/dist-packages (from spacy>=2.0.18->fastai) (2.0.2)\n",
            "Requirement already satisfied: dill<0.3,>=0.2 in /usr/local/lib/python3.6/dist-packages (from spacy>=2.0.18->fastai) (0.2.9)\n",
            "Requirement already satisfied: ujson>=1.35 in /usr/local/lib/python3.6/dist-packages (from spacy>=2.0.18->fastai) (1.35)\n",
            "Requirement already satisfied: preshed<2.1.0,>=2.0.1 in /usr/local/lib/python3.6/dist-packages (from spacy>=2.0.18->fastai) (2.0.1)\n",
            "Requirement already satisfied: thinc<6.13.0,>=6.12.1 in /usr/local/lib/python3.6/dist-packages (from spacy>=2.0.18->fastai) (6.12.1)\n",
            "Requirement already satisfied: setuptools in /usr/local/lib/python3.6/dist-packages (from kiwisolver>=1.0.1->matplotlib->fastai) (40.6.3)\n",
            "Requirement already satisfied: tqdm<5.0.0,>=4.10.0 in /usr/local/lib/python3.6/dist-packages (from thinc<6.13.0,>=6.12.1->spacy>=2.0.18->fastai) (4.28.1)\n",
            "Requirement already satisfied: msgpack<0.6.0,>=0.5.6 in /usr/local/lib/python3.6/dist-packages (from thinc<6.13.0,>=6.12.1->spacy>=2.0.18->fastai) (0.5.6)\n",
            "Requirement already satisfied: msgpack-numpy<0.4.4 in /usr/local/lib/python3.6/dist-packages (from thinc<6.13.0,>=6.12.1->spacy>=2.0.18->fastai) (0.4.3.2)\n",
            "Requirement already satisfied: cytoolz<0.10,>=0.9.0 in /usr/local/lib/python3.6/dist-packages (from thinc<6.13.0,>=6.12.1->spacy>=2.0.18->fastai) (0.9.0.1)\n",
            "Collecting wrapt<1.11.0,>=1.10.0 (from thinc<6.13.0,>=6.12.1->spacy>=2.0.18->fastai)\n",
            "  Downloading https://files.pythonhosted.org/packages/a0/47/66897906448185fcb77fc3c2b1bc20ed0ecca81a0f2f88eda3fc5a34fc3d/wrapt-1.10.11.tar.gz\n",
            "Requirement already satisfied: toolz>=0.8.0 in /usr/local/lib/python3.6/dist-packages (from cytoolz<0.10,>=0.9.0->thinc<6.13.0,>=6.12.1->spacy>=2.0.18->fastai) (0.9.0)\n",
            "Building wheels for collected packages: wrapt\n",
            "  Running setup.py bdist_wheel for wrapt ... \u001b[?25l-\b \b\\\b \b|\b \bdone\n",
            "\u001b[?25h  Stored in directory: /root/.cache/pip/wheels/48/5d/04/22361a593e70d23b1f7746d932802efe1f0e523376a74f321e\n",
            "Successfully built wrapt\n",
            "\u001b[31mspacy 2.0.18 has requirement numpy>=1.15.0, but you'll have numpy 1.14.6 which is incompatible.\u001b[0m\n",
            "Installing collected packages: wrapt\n",
            "  Found existing installation: wrapt 1.11.1\n",
            "    Uninstalling wrapt-1.11.1:\n",
            "      Successfully uninstalled wrapt-1.11.1\n",
            "Successfully installed wrapt-1.10.11\n"
          ],
          "name": "stdout"
        }
      ]
    },
    {
      "cell_type": "code",
      "metadata": {
        "id": "tyspaGVAp0Lk",
        "colab_type": "code",
        "colab": {}
      },
      "source": [
        "# import libraries\n",
        "import fastai\n",
        "from fastai import *\n",
        "from fastai.text import * \n",
        "import pandas as pd\n",
        "import numpy as np\n",
        "from functools import partial\n",
        "import io\n",
        "import os"
      ],
      "execution_count": 0,
      "outputs": []
    },
    {
      "cell_type": "code",
      "metadata": {
        "id": "hl5pyzmTqjvK",
        "colab_type": "code",
        "outputId": "2d4e4524-218a-4812-92be-92a46c87268d",
        "colab": {
          "base_uri": "https://localhost:8080/",
          "height": 52
        }
      },
      "source": [
        "from sklearn.datasets import fetch_20newsgroups\n",
        "dataset = fetch_20newsgroups(shuffle=True, random_state=1, remove=('headers', 'footers', 'quotes'))\n",
        "documents = dataset.data\n"
      ],
      "execution_count": 0,
      "outputs": [
        {
          "output_type": "stream",
          "text": [
            "Downloading 20news dataset. This may take a few minutes.\n",
            "Downloading dataset from https://ndownloader.figshare.com/files/5975967 (14 MB)\n"
          ],
          "name": "stderr"
        }
      ]
    },
    {
      "cell_type": "code",
      "metadata": {
        "id": "XSz0kSAi9UKr",
        "colab_type": "code",
        "outputId": "4acc881d-3366-4ef6-9c07-5839b8f5cd9e",
        "colab": {
          "base_uri": "https://localhost:8080/",
          "height": 89
        }
      },
      "source": [
        "documents[:3]"
      ],
      "execution_count": 0,
      "outputs": [
        {
          "output_type": "execute_result",
          "data": {
            "text/plain": [
              "[\"Well i'm not sure about the story nad it did seem biased. What\\nI disagree with is your statement that the U.S. Media is out to\\nruin Israels reputation. That is rediculous. The U.S. media is\\nthe most pro-israeli media in the world. Having lived in Europe\\nI realize that incidences such as the one described in the\\nletter have occured. The U.S. media as a whole seem to try to\\nignore them. The U.S. is subsidizing Israels existance and the\\nEuropeans are not (at least not to the same degree). So I think\\nthat might be a reason they report more clearly on the\\natrocities.\\n\\tWhat is a shame is that in Austria, daily reports of\\nthe inhuman acts commited by Israeli soldiers and the blessing\\nreceived from the Government makes some of the Holocaust guilt\\ngo away. After all, look how the Jews are treating other races\\nwhen they got power. It is unfortunate.\\n\",\n",
              " \"\\n\\n\\n\\n\\n\\n\\nYeah, do you expect people to read the FAQ, etc. and actually accept hard\\natheism?  No, you need a little leap of faith, Jimmy.  Your logic runs out\\nof steam!\\n\\n\\n\\n\\n\\n\\n\\nJim,\\n\\nSorry I can't pity you, Jim.  And I'm sorry that you have these feelings of\\ndenial about the faith you need to get by.  Oh well, just pretend that it will\\nall end happily ever after anyway.  Maybe if you start a new newsgroup,\\nalt.atheist.hard, you won't be bummin' so much?\\n\\n\\n\\n\\n\\n\\nBye-Bye, Big Jim.  Don't forget your Flintstone's Chewables!  :) \\n--\\nBake Timmons, III\",\n",
              " \"Although I realize that principle is not one of your strongest\\npoints, I would still like to know why do do not ask any question\\nof this sort about the Arab countries.\\n\\n   If you want to continue this think tank charade of yours, your\\nfixation on Israel must stop.  You might have to start asking the\\nsame sort of questions of Arab countries as well.  You realize it\\nwould not work, as the Arab countries' treatment of Jews over the\\nlast several decades is so bad that your fixation on Israel would\\nbegin to look like the biased attack that it is.\\n\\n   Everyone in this group recognizes that your stupid 'Center for\\nPolicy Research' is nothing more than a fancy name for some bigot\\nwho hates Israel.\"]"
            ]
          },
          "metadata": {
            "tags": []
          },
          "execution_count": 4
        }
      ]
    },
    {
      "cell_type": "code",
      "metadata": {
        "id": "aQMnUMQYMcxj",
        "colab_type": "code",
        "outputId": "7c2d7289-8d51-4035-a31d-ac192e0eb418",
        "colab": {
          "base_uri": "https://localhost:8080/",
          "height": 364
        }
      },
      "source": [
        "dataset.target_names"
      ],
      "execution_count": 0,
      "outputs": [
        {
          "output_type": "execute_result",
          "data": {
            "text/plain": [
              "['alt.atheism',\n",
              " 'comp.graphics',\n",
              " 'comp.os.ms-windows.misc',\n",
              " 'comp.sys.ibm.pc.hardware',\n",
              " 'comp.sys.mac.hardware',\n",
              " 'comp.windows.x',\n",
              " 'misc.forsale',\n",
              " 'rec.autos',\n",
              " 'rec.motorcycles',\n",
              " 'rec.sport.baseball',\n",
              " 'rec.sport.hockey',\n",
              " 'sci.crypt',\n",
              " 'sci.electronics',\n",
              " 'sci.med',\n",
              " 'sci.space',\n",
              " 'soc.religion.christian',\n",
              " 'talk.politics.guns',\n",
              " 'talk.politics.mideast',\n",
              " 'talk.politics.misc',\n",
              " 'talk.religion.misc']"
            ]
          },
          "metadata": {
            "tags": []
          },
          "execution_count": 5
        }
      ]
    },
    {
      "cell_type": "code",
      "metadata": {
        "id": "HfRqE0_VyNLr",
        "colab_type": "code",
        "colab": {}
      },
      "source": [
        "df = pd.DataFrame({'label':dataset.target, 'text':dataset.data})"
      ],
      "execution_count": 0,
      "outputs": []
    },
    {
      "cell_type": "code",
      "metadata": {
        "id": "ZKzd92B6yUkL",
        "colab_type": "code",
        "outputId": "72821d2d-cda9-4a82-b0bc-20dd04382544",
        "colab": {
          "base_uri": "https://localhost:8080/",
          "height": 35
        }
      },
      "source": [
        "df.shape"
      ],
      "execution_count": 0,
      "outputs": [
        {
          "output_type": "execute_result",
          "data": {
            "text/plain": [
              "(11314, 2)"
            ]
          },
          "metadata": {
            "tags": []
          },
          "execution_count": 7
        }
      ]
    },
    {
      "cell_type": "code",
      "metadata": {
        "id": "mUdvfKyc5Uov",
        "colab_type": "code",
        "outputId": "872f94e7-8230-4384-9816-3b4d1c2af565",
        "colab": {
          "base_uri": "https://localhost:8080/",
          "height": 202
        }
      },
      "source": [
        "df.head()"
      ],
      "execution_count": 0,
      "outputs": [
        {
          "output_type": "execute_result",
          "data": {
            "text/html": [
              "<div>\n",
              "<style scoped>\n",
              "    .dataframe tbody tr th:only-of-type {\n",
              "        vertical-align: middle;\n",
              "    }\n",
              "\n",
              "    .dataframe tbody tr th {\n",
              "        vertical-align: top;\n",
              "    }\n",
              "\n",
              "    .dataframe thead th {\n",
              "        text-align: right;\n",
              "    }\n",
              "</style>\n",
              "<table border=\"1\" class=\"dataframe\">\n",
              "  <thead>\n",
              "    <tr style=\"text-align: right;\">\n",
              "      <th></th>\n",
              "      <th>label</th>\n",
              "      <th>text</th>\n",
              "    </tr>\n",
              "  </thead>\n",
              "  <tbody>\n",
              "    <tr>\n",
              "      <th>0</th>\n",
              "      <td>17</td>\n",
              "      <td>Well i'm not sure about the story nad it did s...</td>\n",
              "    </tr>\n",
              "    <tr>\n",
              "      <th>1</th>\n",
              "      <td>0</td>\n",
              "      <td>\\n\\n\\n\\n\\n\\n\\nYeah, do you expect people to re...</td>\n",
              "    </tr>\n",
              "    <tr>\n",
              "      <th>2</th>\n",
              "      <td>17</td>\n",
              "      <td>Although I realize that principle is not one o...</td>\n",
              "    </tr>\n",
              "    <tr>\n",
              "      <th>3</th>\n",
              "      <td>11</td>\n",
              "      <td>Notwithstanding all the legitimate fuss about ...</td>\n",
              "    </tr>\n",
              "    <tr>\n",
              "      <th>4</th>\n",
              "      <td>10</td>\n",
              "      <td>Well, I will have to change the scoring on my ...</td>\n",
              "    </tr>\n",
              "  </tbody>\n",
              "</table>\n",
              "</div>"
            ],
            "text/plain": [
              "   label                                               text\n",
              "0     17  Well i'm not sure about the story nad it did s...\n",
              "1      0  \\n\\n\\n\\n\\n\\n\\nYeah, do you expect people to re...\n",
              "2     17  Although I realize that principle is not one o...\n",
              "3     11  Notwithstanding all the legitimate fuss about ...\n",
              "4     10  Well, I will have to change the scoring on my ..."
            ]
          },
          "metadata": {
            "tags": []
          },
          "execution_count": 8
        }
      ]
    },
    {
      "cell_type": "code",
      "metadata": {
        "id": "v1TIr4m_V-dV",
        "colab_type": "code",
        "colab": {}
      },
      "source": [
        "df.label[df.label == 8].index.tolist()"
      ],
      "execution_count": 0,
      "outputs": []
    },
    {
      "cell_type": "code",
      "metadata": {
        "id": "DvDPqfDo5iGh",
        "colab_type": "code",
        "outputId": "020321f9-f130-44b8-cc5e-761b433d70bc",
        "colab": {
          "base_uri": "https://localhost:8080/",
          "height": 693
        }
      },
      "source": [
        "df.groupby(['label']).count()"
      ],
      "execution_count": 0,
      "outputs": [
        {
          "output_type": "execute_result",
          "data": {
            "text/html": [
              "<div>\n",
              "<style scoped>\n",
              "    .dataframe tbody tr th:only-of-type {\n",
              "        vertical-align: middle;\n",
              "    }\n",
              "\n",
              "    .dataframe tbody tr th {\n",
              "        vertical-align: top;\n",
              "    }\n",
              "\n",
              "    .dataframe thead th {\n",
              "        text-align: right;\n",
              "    }\n",
              "</style>\n",
              "<table border=\"1\" class=\"dataframe\">\n",
              "  <thead>\n",
              "    <tr style=\"text-align: right;\">\n",
              "      <th></th>\n",
              "      <th>text</th>\n",
              "    </tr>\n",
              "    <tr>\n",
              "      <th>label</th>\n",
              "      <th></th>\n",
              "    </tr>\n",
              "  </thead>\n",
              "  <tbody>\n",
              "    <tr>\n",
              "      <th>0</th>\n",
              "      <td>480</td>\n",
              "    </tr>\n",
              "    <tr>\n",
              "      <th>1</th>\n",
              "      <td>584</td>\n",
              "    </tr>\n",
              "    <tr>\n",
              "      <th>2</th>\n",
              "      <td>591</td>\n",
              "    </tr>\n",
              "    <tr>\n",
              "      <th>3</th>\n",
              "      <td>590</td>\n",
              "    </tr>\n",
              "    <tr>\n",
              "      <th>4</th>\n",
              "      <td>578</td>\n",
              "    </tr>\n",
              "    <tr>\n",
              "      <th>5</th>\n",
              "      <td>593</td>\n",
              "    </tr>\n",
              "    <tr>\n",
              "      <th>6</th>\n",
              "      <td>585</td>\n",
              "    </tr>\n",
              "    <tr>\n",
              "      <th>7</th>\n",
              "      <td>594</td>\n",
              "    </tr>\n",
              "    <tr>\n",
              "      <th>8</th>\n",
              "      <td>598</td>\n",
              "    </tr>\n",
              "    <tr>\n",
              "      <th>9</th>\n",
              "      <td>597</td>\n",
              "    </tr>\n",
              "    <tr>\n",
              "      <th>10</th>\n",
              "      <td>600</td>\n",
              "    </tr>\n",
              "    <tr>\n",
              "      <th>11</th>\n",
              "      <td>595</td>\n",
              "    </tr>\n",
              "    <tr>\n",
              "      <th>12</th>\n",
              "      <td>591</td>\n",
              "    </tr>\n",
              "    <tr>\n",
              "      <th>13</th>\n",
              "      <td>594</td>\n",
              "    </tr>\n",
              "    <tr>\n",
              "      <th>14</th>\n",
              "      <td>593</td>\n",
              "    </tr>\n",
              "    <tr>\n",
              "      <th>15</th>\n",
              "      <td>599</td>\n",
              "    </tr>\n",
              "    <tr>\n",
              "      <th>16</th>\n",
              "      <td>546</td>\n",
              "    </tr>\n",
              "    <tr>\n",
              "      <th>17</th>\n",
              "      <td>564</td>\n",
              "    </tr>\n",
              "    <tr>\n",
              "      <th>18</th>\n",
              "      <td>465</td>\n",
              "    </tr>\n",
              "    <tr>\n",
              "      <th>19</th>\n",
              "      <td>377</td>\n",
              "    </tr>\n",
              "  </tbody>\n",
              "</table>\n",
              "</div>"
            ],
            "text/plain": [
              "       text\n",
              "label      \n",
              "0       480\n",
              "1       584\n",
              "2       591\n",
              "3       590\n",
              "4       578\n",
              "5       593\n",
              "6       585\n",
              "7       594\n",
              "8       598\n",
              "9       597\n",
              "10      600\n",
              "11      595\n",
              "12      591\n",
              "13      594\n",
              "14      593\n",
              "15      599\n",
              "16      546\n",
              "17      564\n",
              "18      465\n",
              "19      377"
            ]
          },
          "metadata": {
            "tags": []
          },
          "execution_count": 61
        }
      ]
    },
    {
      "cell_type": "markdown",
      "metadata": {
        "id": "k_4Pu5aI7Ayc",
        "colab_type": "text"
      },
      "source": [
        "**Model performance test on 20newsgroup dataset by making sub-datasets with 2 categories**"
      ]
    },
    {
      "cell_type": "code",
      "metadata": {
        "id": "DWjInYkDyWei",
        "colab_type": "code",
        "colab": {}
      },
      "source": [
        "df1 = df[df['label'].isin([1,10])]  #  1 = comp.graphic, 10 = rec.sport.hockey\n",
        "df1 = df1.reset_index(drop = True)"
      ],
      "execution_count": 0,
      "outputs": []
    },
    {
      "cell_type": "code",
      "metadata": {
        "id": "xqDSZfoYWr2c",
        "colab_type": "code",
        "outputId": "f3bd1523-35cd-4f26-982d-4fad6fc687de",
        "colab": {
          "base_uri": "https://localhost:8080/",
          "height": 202
        }
      },
      "source": [
        "df1.head()"
      ],
      "execution_count": 0,
      "outputs": [
        {
          "output_type": "execute_result",
          "data": {
            "text/html": [
              "<div>\n",
              "<style scoped>\n",
              "    .dataframe tbody tr th:only-of-type {\n",
              "        vertical-align: middle;\n",
              "    }\n",
              "\n",
              "    .dataframe tbody tr th {\n",
              "        vertical-align: top;\n",
              "    }\n",
              "\n",
              "    .dataframe thead th {\n",
              "        text-align: right;\n",
              "    }\n",
              "</style>\n",
              "<table border=\"1\" class=\"dataframe\">\n",
              "  <thead>\n",
              "    <tr style=\"text-align: right;\">\n",
              "      <th></th>\n",
              "      <th>label</th>\n",
              "      <th>text</th>\n",
              "    </tr>\n",
              "  </thead>\n",
              "  <tbody>\n",
              "    <tr>\n",
              "      <th>0</th>\n",
              "      <td>10</td>\n",
              "      <td>Well, I will have to change the scoring on my ...</td>\n",
              "    </tr>\n",
              "    <tr>\n",
              "      <th>1</th>\n",
              "      <td>1</td>\n",
              "      <td>Archive-name: graphics/resources-list/part1\\nL...</td>\n",
              "    </tr>\n",
              "    <tr>\n",
              "      <th>2</th>\n",
              "      <td>10</td>\n",
              "      <td>\\nAnd of course, Mike Ramsey was (at one time)...</td>\n",
              "    </tr>\n",
              "    <tr>\n",
              "      <th>3</th>\n",
              "      <td>10</td>\n",
              "      <td>As I promised, I would give you the name of th...</td>\n",
              "    </tr>\n",
              "    <tr>\n",
              "      <th>4</th>\n",
              "      <td>10</td>\n",
              "      <td>GAME(S) OF 4/15\\n---------------\\nADIRONDACK 6...</td>\n",
              "    </tr>\n",
              "  </tbody>\n",
              "</table>\n",
              "</div>"
            ],
            "text/plain": [
              "   label                                               text\n",
              "0     10  Well, I will have to change the scoring on my ...\n",
              "1      1  Archive-name: graphics/resources-list/part1\\nL...\n",
              "2     10  \\nAnd of course, Mike Ramsey was (at one time)...\n",
              "3     10  As I promised, I would give you the name of th...\n",
              "4     10  GAME(S) OF 4/15\\n---------------\\nADIRONDACK 6..."
            ]
          },
          "metadata": {
            "tags": []
          },
          "execution_count": 12
        }
      ]
    },
    {
      "cell_type": "code",
      "metadata": {
        "id": "xyY-Dt2-yYlq",
        "colab_type": "code",
        "outputId": "8d388b2f-551c-4d60-db6a-5edd4a85678b",
        "colab": {
          "base_uri": "https://localhost:8080/",
          "height": 69
        }
      },
      "source": [
        "df1['label'].value_counts()"
      ],
      "execution_count": 0,
      "outputs": [
        {
          "output_type": "execute_result",
          "data": {
            "text/plain": [
              "10    600\n",
              "1     584\n",
              "Name: label, dtype: int64"
            ]
          },
          "metadata": {
            "tags": []
          },
          "execution_count": 13
        }
      ]
    },
    {
      "cell_type": "code",
      "metadata": {
        "id": "QMJw3ZQFJDaL",
        "colab_type": "code",
        "outputId": "a3a59176-c9b2-4b0f-986c-fc78e8c7dd05",
        "colab": {
          "base_uri": "https://localhost:8080/",
          "height": 35
        }
      },
      "source": [
        "dic = dict (enumerate(df1.label.unique()))\n",
        "dic\n"
      ],
      "execution_count": 0,
      "outputs": [
        {
          "output_type": "execute_result",
          "data": {
            "text/plain": [
              "{0: 10, 1: 1}"
            ]
          },
          "metadata": {
            "tags": []
          },
          "execution_count": 98
        }
      ]
    },
    {
      "cell_type": "code",
      "metadata": {
        "id": "8hS6owwyRFL9",
        "colab_type": "code",
        "outputId": "bf3d58a3-f98b-4ec7-8890-902e0d46e61d",
        "colab": {
          "base_uri": "https://localhost:8080/",
          "height": 1949
        }
      },
      "source": [
        "df1[df1['label'] == 10]"
      ],
      "execution_count": 0,
      "outputs": [
        {
          "output_type": "execute_result",
          "data": {
            "text/html": [
              "<div>\n",
              "<style scoped>\n",
              "    .dataframe tbody tr th:only-of-type {\n",
              "        vertical-align: middle;\n",
              "    }\n",
              "\n",
              "    .dataframe tbody tr th {\n",
              "        vertical-align: top;\n",
              "    }\n",
              "\n",
              "    .dataframe thead th {\n",
              "        text-align: right;\n",
              "    }\n",
              "</style>\n",
              "<table border=\"1\" class=\"dataframe\">\n",
              "  <thead>\n",
              "    <tr style=\"text-align: right;\">\n",
              "      <th></th>\n",
              "      <th>label</th>\n",
              "      <th>text</th>\n",
              "    </tr>\n",
              "  </thead>\n",
              "  <tbody>\n",
              "    <tr>\n",
              "      <th>0</th>\n",
              "      <td>10</td>\n",
              "      <td>Well, I will have to change the scoring on my ...</td>\n",
              "    </tr>\n",
              "    <tr>\n",
              "      <th>2</th>\n",
              "      <td>10</td>\n",
              "      <td>\\nAnd of course, Mike Ramsey was (at one time)...</td>\n",
              "    </tr>\n",
              "    <tr>\n",
              "      <th>3</th>\n",
              "      <td>10</td>\n",
              "      <td>As I promised, I would give you the name of th...</td>\n",
              "    </tr>\n",
              "    <tr>\n",
              "      <th>4</th>\n",
              "      <td>10</td>\n",
              "      <td>GAME(S) OF 4/15\\n---------------\\nADIRONDACK 6...</td>\n",
              "    </tr>\n",
              "    <tr>\n",
              "      <th>6</th>\n",
              "      <td>10</td>\n",
              "      <td>You think that's bad?  I'm in Bowling Green, O...</td>\n",
              "    </tr>\n",
              "    <tr>\n",
              "      <th>7</th>\n",
              "      <td>10</td>\n",
              "      <td>] \\tAnyone who really believes that the Caps c...</td>\n",
              "    </tr>\n",
              "    <tr>\n",
              "      <th>8</th>\n",
              "      <td>10</td>\n",
              "      <td>^^^^^^^^^^^^^^^^^^^^^^^^\\n  ...</td>\n",
              "    </tr>\n",
              "    <tr>\n",
              "      <th>9</th>\n",
              "      <td>10</td>\n",
              "      <td>\\nChris Chelios was Montreal's co-captain with...</td>\n",
              "    </tr>\n",
              "    <tr>\n",
              "      <th>12</th>\n",
              "      <td>10</td>\n",
              "      <td>Has anyone heard what game ESPN is showing ton...</td>\n",
              "    </tr>\n",
              "    <tr>\n",
              "      <th>13</th>\n",
              "      <td>10</td>\n",
              "      <td></td>\n",
              "    </tr>\n",
              "    <tr>\n",
              "      <th>14</th>\n",
              "      <td>10</td>\n",
              "      <td>\\nDuring the regular season, when the intensit...</td>\n",
              "    </tr>\n",
              "    <tr>\n",
              "      <th>16</th>\n",
              "      <td>10</td>\n",
              "      <td>Here we go again. Is this the same idiot who p...</td>\n",
              "    </tr>\n",
              "    <tr>\n",
              "      <th>18</th>\n",
              "      <td>10</td>\n",
              "      <td>Well put, Jason.  I am not from Wisconsin, but...</td>\n",
              "    </tr>\n",
              "    <tr>\n",
              "      <th>19</th>\n",
              "      <td>10</td>\n",
              "      <td>Just heard on the news that Mike Keenan former...</td>\n",
              "    </tr>\n",
              "    <tr>\n",
              "      <th>24</th>\n",
              "      <td>10</td>\n",
              "      <td>: &gt;                         MVP           Bigg...</td>\n",
              "    </tr>\n",
              "    <tr>\n",
              "      <th>27</th>\n",
              "      <td>10</td>\n",
              "      <td>You can't.  But good luck trying.</td>\n",
              "    </tr>\n",
              "    <tr>\n",
              "      <th>28</th>\n",
              "      <td>10</td>\n",
              "      <td>\\nI think this guy is going to be just a littl...</td>\n",
              "    </tr>\n",
              "    <tr>\n",
              "      <th>32</th>\n",
              "      <td>10</td>\n",
              "      <td>\\n\\nTo put it mildly.  As I watched the Flyers...</td>\n",
              "    </tr>\n",
              "    <tr>\n",
              "      <th>33</th>\n",
              "      <td>10</td>\n",
              "      <td>Just Testing !!!\\n\\tNo flames please !</td>\n",
              "    </tr>\n",
              "    <tr>\n",
              "      <th>34</th>\n",
              "      <td>10</td>\n",
              "      <td>\\n\\nThe Selke candidate forwards main purpose ...</td>\n",
              "    </tr>\n",
              "    <tr>\n",
              "      <th>39</th>\n",
              "      <td>10</td>\n",
              "      <td>\\n\\n\\nWoops!  This is rec.sport.hockey! Not re...</td>\n",
              "    </tr>\n",
              "    <tr>\n",
              "      <th>43</th>\n",
              "      <td>10</td>\n",
              "      <td>\\n\\nAw, just take a moment to digest it and I'...</td>\n",
              "    </tr>\n",
              "    <tr>\n",
              "      <th>45</th>\n",
              "      <td>10</td>\n",
              "      <td>I'm starting an informal poll on goalie masks....</td>\n",
              "    </tr>\n",
              "    <tr>\n",
              "      <th>46</th>\n",
              "      <td>10</td>\n",
              "      <td>The Hawks won the Norris div, and sealed their...</td>\n",
              "    </tr>\n",
              "    <tr>\n",
              "      <th>48</th>\n",
              "      <td>10</td>\n",
              "      <td>Group A\\t\\t\\t\\t\\tGroup B\\n~~~~~~~\\t\\t\\t\\t\\t~~~...</td>\n",
              "    </tr>\n",
              "    <tr>\n",
              "      <th>49</th>\n",
              "      <td>10</td>\n",
              "      <td>\\n\\n\\n\\nI disagree.  McNall has demonstrated w...</td>\n",
              "    </tr>\n",
              "    <tr>\n",
              "      <th>52</th>\n",
              "      <td>10</td>\n",
              "      <td>Showing a meaningless (relatively) baseball ga...</td>\n",
              "    </tr>\n",
              "    <tr>\n",
              "      <th>54</th>\n",
              "      <td>10</td>\n",
              "      <td>What's the deal?  c.s.h. has nothing on it yet...</td>\n",
              "    </tr>\n",
              "    <tr>\n",
              "      <th>56</th>\n",
              "      <td>10</td>\n",
              "      <td>True rumor.  Fact!  A big three way deal!\\n\\nE...</td>\n",
              "    </tr>\n",
              "    <tr>\n",
              "      <th>57</th>\n",
              "      <td>10</td>\n",
              "      <td>\\tAre people here stupid or what??? It is a ti...</td>\n",
              "    </tr>\n",
              "    <tr>\n",
              "      <th>...</th>\n",
              "      <td>...</td>\n",
              "      <td>...</td>\n",
              "    </tr>\n",
              "    <tr>\n",
              "      <th>1127</th>\n",
              "      <td>10</td>\n",
              "      <td>: You should be ashamed to call yourself an Ul...</td>\n",
              "    </tr>\n",
              "    <tr>\n",
              "      <th>1130</th>\n",
              "      <td>10</td>\n",
              "      <td>\\nIn the interests of saving badnwidth during ...</td>\n",
              "    </tr>\n",
              "    <tr>\n",
              "      <th>1131</th>\n",
              "      <td>10</td>\n",
              "      <td>Aargh!\\n\\nPaul Stewart is the worst and most b...</td>\n",
              "    </tr>\n",
              "    <tr>\n",
              "      <th>1134</th>\n",
              "      <td>10</td>\n",
              "      <td>Roger Maynard shares his views, with the masse...</td>\n",
              "    </tr>\n",
              "    <tr>\n",
              "      <th>1135</th>\n",
              "      <td>10</td>\n",
              "      <td>\\nLosers like us? You are the fucking moron wh...</td>\n",
              "    </tr>\n",
              "    <tr>\n",
              "      <th>1136</th>\n",
              "      <td>10</td>\n",
              "      <td>1992-93 Los Angeles Kings notes and game repor...</td>\n",
              "    </tr>\n",
              "    <tr>\n",
              "      <th>1137</th>\n",
              "      <td>10</td>\n",
              "      <td>During the Detroit game Mon night there wer...</td>\n",
              "    </tr>\n",
              "    <tr>\n",
              "      <th>1138</th>\n",
              "      <td>10</td>\n",
              "      <td>\\n\\n: I have one complaint for the cameramen d...</td>\n",
              "    </tr>\n",
              "    <tr>\n",
              "      <th>1140</th>\n",
              "      <td>10</td>\n",
              "      <td>\\tNeed I say more???????\\n\\n</td>\n",
              "    </tr>\n",
              "    <tr>\n",
              "      <th>1141</th>\n",
              "      <td>10</td>\n",
              "      <td>\\nWe're probably stuck, as Mike Burger pointed...</td>\n",
              "    </tr>\n",
              "    <tr>\n",
              "      <th>1143</th>\n",
              "      <td>10</td>\n",
              "      <td>In &lt;1993Apr16.140953.5025@vax.cns..edu&gt;, jbrow...</td>\n",
              "    </tr>\n",
              "    <tr>\n",
              "      <th>1144</th>\n",
              "      <td>10</td>\n",
              "      <td>\\nSince everybody wants to see Pittsburgh play...</td>\n",
              "    </tr>\n",
              "    <tr>\n",
              "      <th>1147</th>\n",
              "      <td>10</td>\n",
              "      <td>\\n\\n\\n\\n\\nSheesh.  The rumor mill strikes agai...</td>\n",
              "    </tr>\n",
              "    <tr>\n",
              "      <th>1151</th>\n",
              "      <td>10</td>\n",
              "      <td>United States Coverage:\\nSunday April 18\\n  N....</td>\n",
              "    </tr>\n",
              "    <tr>\n",
              "      <th>1152</th>\n",
              "      <td>10</td>\n",
              "      <td>It's the \"opening-game effect\" maybe. Pros ar...</td>\n",
              "    </tr>\n",
              "    <tr>\n",
              "      <th>1156</th>\n",
              "      <td>10</td>\n",
              "      <td>Jesus Christ!!!\\n\\nThe score is now 6-0. The P...</td>\n",
              "    </tr>\n",
              "    <tr>\n",
              "      <th>1160</th>\n",
              "      <td>10</td>\n",
              "      <td>\\nYou obviously don't understand how TV schedu...</td>\n",
              "    </tr>\n",
              "    <tr>\n",
              "      <th>1161</th>\n",
              "      <td>10</td>\n",
              "      <td>\\n: Speaking of great players, man-oh-man can ...</td>\n",
              "    </tr>\n",
              "    <tr>\n",
              "      <th>1163</th>\n",
              "      <td>10</td>\n",
              "      <td>I am not sure about the tie breaker rules. How...</td>\n",
              "    </tr>\n",
              "    <tr>\n",
              "      <th>1164</th>\n",
              "      <td>10</td>\n",
              "      <td>\\nNo.  Patrick Roy is the reason the game was ...</td>\n",
              "    </tr>\n",
              "    <tr>\n",
              "      <th>1165</th>\n",
              "      <td>10</td>\n",
              "      <td>Ottawa picks first, because they had fewer win...</td>\n",
              "    </tr>\n",
              "    <tr>\n",
              "      <th>1168</th>\n",
              "      <td>10</td>\n",
              "      <td>\\nPeople are seeming to be less concerned abou...</td>\n",
              "    </tr>\n",
              "    <tr>\n",
              "      <th>1170</th>\n",
              "      <td>10</td>\n",
              "      <td>\\nActually, this part was really interesting. ...</td>\n",
              "    </tr>\n",
              "    <tr>\n",
              "      <th>1172</th>\n",
              "      <td>10</td>\n",
              "      <td>RA&gt;    Here's the point: there are far too man...</td>\n",
              "    </tr>\n",
              "    <tr>\n",
              "      <th>1173</th>\n",
              "      <td>10</td>\n",
              "      <td>\\nRoger? Lecture someone on not using smileys?...</td>\n",
              "    </tr>\n",
              "    <tr>\n",
              "      <th>1174</th>\n",
              "      <td>10</td>\n",
              "      <td>Not to mention, Mr. Francis is an incredibly n...</td>\n",
              "    </tr>\n",
              "    <tr>\n",
              "      <th>1175</th>\n",
              "      <td>10</td>\n",
              "      <td>Oh, excuse me for wasting the bandwidth, but I...</td>\n",
              "    </tr>\n",
              "    <tr>\n",
              "      <th>1179</th>\n",
              "      <td>10</td>\n",
              "      <td>The Hawks win!!  Jermey Roenick scored his 50 ...</td>\n",
              "    </tr>\n",
              "    <tr>\n",
              "      <th>1180</th>\n",
              "      <td>10</td>\n",
              "      <td>I think that NHLPA' 93 is the best video game ...</td>\n",
              "    </tr>\n",
              "    <tr>\n",
              "      <th>1183</th>\n",
              "      <td>10</td>\n",
              "      <td>You might want to clarify the 11 game winning ...</td>\n",
              "    </tr>\n",
              "  </tbody>\n",
              "</table>\n",
              "<p>600 rows × 2 columns</p>\n",
              "</div>"
            ],
            "text/plain": [
              "      label                                               text\n",
              "0        10  Well, I will have to change the scoring on my ...\n",
              "2        10  \\nAnd of course, Mike Ramsey was (at one time)...\n",
              "3        10  As I promised, I would give you the name of th...\n",
              "4        10  GAME(S) OF 4/15\\n---------------\\nADIRONDACK 6...\n",
              "6        10  You think that's bad?  I'm in Bowling Green, O...\n",
              "7        10  ] \\tAnyone who really believes that the Caps c...\n",
              "8        10                    ^^^^^^^^^^^^^^^^^^^^^^^^\\n  ...\n",
              "9        10  \\nChris Chelios was Montreal's co-captain with...\n",
              "12       10  Has anyone heard what game ESPN is showing ton...\n",
              "13       10                                                   \n",
              "14       10  \\nDuring the regular season, when the intensit...\n",
              "16       10  Here we go again. Is this the same idiot who p...\n",
              "18       10  Well put, Jason.  I am not from Wisconsin, but...\n",
              "19       10  Just heard on the news that Mike Keenan former...\n",
              "24       10  : >                         MVP           Bigg...\n",
              "27       10                  You can't.  But good luck trying.\n",
              "28       10  \\nI think this guy is going to be just a littl...\n",
              "32       10  \\n\\nTo put it mildly.  As I watched the Flyers...\n",
              "33       10             Just Testing !!!\\n\\tNo flames please !\n",
              "34       10  \\n\\nThe Selke candidate forwards main purpose ...\n",
              "39       10  \\n\\n\\nWoops!  This is rec.sport.hockey! Not re...\n",
              "43       10  \\n\\nAw, just take a moment to digest it and I'...\n",
              "45       10  I'm starting an informal poll on goalie masks....\n",
              "46       10  The Hawks won the Norris div, and sealed their...\n",
              "48       10  Group A\\t\\t\\t\\t\\tGroup B\\n~~~~~~~\\t\\t\\t\\t\\t~~~...\n",
              "49       10  \\n\\n\\n\\nI disagree.  McNall has demonstrated w...\n",
              "52       10  Showing a meaningless (relatively) baseball ga...\n",
              "54       10  What's the deal?  c.s.h. has nothing on it yet...\n",
              "56       10  True rumor.  Fact!  A big three way deal!\\n\\nE...\n",
              "57       10  \\tAre people here stupid or what??? It is a ti...\n",
              "...     ...                                                ...\n",
              "1127     10  : You should be ashamed to call yourself an Ul...\n",
              "1130     10  \\nIn the interests of saving badnwidth during ...\n",
              "1131     10  Aargh!\\n\\nPaul Stewart is the worst and most b...\n",
              "1134     10  Roger Maynard shares his views, with the masse...\n",
              "1135     10  \\nLosers like us? You are the fucking moron wh...\n",
              "1136     10  1992-93 Los Angeles Kings notes and game repor...\n",
              "1137     10     During the Detroit game Mon night there wer...\n",
              "1138     10  \\n\\n: I have one complaint for the cameramen d...\n",
              "1140     10                       \\tNeed I say more???????\\n\\n\n",
              "1141     10  \\nWe're probably stuck, as Mike Burger pointed...\n",
              "1143     10  In <1993Apr16.140953.5025@vax.cns..edu>, jbrow...\n",
              "1144     10  \\nSince everybody wants to see Pittsburgh play...\n",
              "1147     10  \\n\\n\\n\\n\\nSheesh.  The rumor mill strikes agai...\n",
              "1151     10  United States Coverage:\\nSunday April 18\\n  N....\n",
              "1152     10   It's the \"opening-game effect\" maybe. Pros ar...\n",
              "1156     10  Jesus Christ!!!\\n\\nThe score is now 6-0. The P...\n",
              "1160     10  \\nYou obviously don't understand how TV schedu...\n",
              "1161     10  \\n: Speaking of great players, man-oh-man can ...\n",
              "1163     10  I am not sure about the tie breaker rules. How...\n",
              "1164     10  \\nNo.  Patrick Roy is the reason the game was ...\n",
              "1165     10  Ottawa picks first, because they had fewer win...\n",
              "1168     10  \\nPeople are seeming to be less concerned abou...\n",
              "1170     10  \\nActually, this part was really interesting. ...\n",
              "1172     10  RA>    Here's the point: there are far too man...\n",
              "1173     10  \\nRoger? Lecture someone on not using smileys?...\n",
              "1174     10  Not to mention, Mr. Francis is an incredibly n...\n",
              "1175     10  Oh, excuse me for wasting the bandwidth, but I...\n",
              "1179     10  The Hawks win!!  Jermey Roenick scored his 50 ...\n",
              "1180     10  I think that NHLPA' 93 is the best video game ...\n",
              "1183     10  You might want to clarify the 11 game winning ...\n",
              "\n",
              "[600 rows x 2 columns]"
            ]
          },
          "metadata": {
            "tags": []
          },
          "execution_count": 14
        }
      ]
    },
    {
      "cell_type": "code",
      "metadata": {
        "id": "AvrqFn0gyrxq",
        "colab_type": "code",
        "colab": {}
      },
      "source": [
        "#Data Preprocessing \n",
        "df1['text'] = df1['text'].str.replace(\"[^a-zA-Z]\", \" \")"
      ],
      "execution_count": 0,
      "outputs": []
    },
    {
      "cell_type": "code",
      "metadata": {
        "id": "lTJBVqmey157",
        "colab_type": "code",
        "outputId": "be5d588a-a34f-4653-fc06-d87c83bd651d",
        "colab": {
          "base_uri": "https://localhost:8080/",
          "height": 52
        }
      },
      "source": [
        "import nltk\n",
        "nltk.download('stopwords')\n",
        "\n",
        "from nltk.corpus import stopwords \n",
        "stop_words = stopwords.words('english')"
      ],
      "execution_count": 0,
      "outputs": [
        {
          "output_type": "stream",
          "text": [
            "[nltk_data] Downloading package stopwords to /root/nltk_data...\n",
            "[nltk_data]   Unzipping corpora/stopwords.zip.\n"
          ],
          "name": "stdout"
        }
      ]
    },
    {
      "cell_type": "code",
      "metadata": {
        "id": "EU1IC7c7zJpa",
        "colab_type": "code",
        "colab": {}
      },
      "source": [
        "# tokenization \n",
        "tokenized_doc = df1['text'].apply(lambda x: x.split())\n",
        "\n",
        "# remove stop-words \n",
        "tokenized_doc = tokenized_doc.apply(lambda x: [item for item in x if item not in stop_words])\n",
        "\n",
        "# de-tokenization \n",
        "detokenized_doc = [] \n",
        "for i in range(len(df1)): \n",
        "    t = ' '.join(tokenized_doc[i]) \n",
        "    detokenized_doc.append(t) \n",
        "\n",
        "df1['text'] = detokenized_doc"
      ],
      "execution_count": 0,
      "outputs": []
    },
    {
      "cell_type": "code",
      "metadata": {
        "id": "s9nUCgjLzPPj",
        "colab_type": "code",
        "colab": {}
      },
      "source": [
        "from sklearn.model_selection import train_test_split\n",
        "\n",
        "# split data into training and validation set\n",
        "df_trn, df_val = train_test_split(df1, stratify = df1['label'], test_size = 0.4, random_state = 12)"
      ],
      "execution_count": 0,
      "outputs": []
    },
    {
      "cell_type": "code",
      "metadata": {
        "id": "zXxMSAL5zTID",
        "colab_type": "code",
        "outputId": "08d9d6bb-5c25-4f85-b2e7-df6d988ec09f",
        "colab": {
          "base_uri": "https://localhost:8080/",
          "height": 35
        }
      },
      "source": [
        "df_trn.shape, df_val.shape"
      ],
      "execution_count": 0,
      "outputs": [
        {
          "output_type": "execute_result",
          "data": {
            "text/plain": [
              "((710, 2), (474, 2))"
            ]
          },
          "metadata": {
            "tags": []
          },
          "execution_count": 19
        }
      ]
    },
    {
      "cell_type": "code",
      "metadata": {
        "id": "xLDttvYBXs87",
        "colab_type": "code",
        "outputId": "3764b6b0-7038-4d0d-bed4-21a23cc1b370",
        "colab": {
          "base_uri": "https://localhost:8080/",
          "height": 202
        }
      },
      "source": [
        "df_val.head()"
      ],
      "execution_count": 0,
      "outputs": [
        {
          "output_type": "execute_result",
          "data": {
            "text/html": [
              "<div>\n",
              "<style scoped>\n",
              "    .dataframe tbody tr th:only-of-type {\n",
              "        vertical-align: middle;\n",
              "    }\n",
              "\n",
              "    .dataframe tbody tr th {\n",
              "        vertical-align: top;\n",
              "    }\n",
              "\n",
              "    .dataframe thead th {\n",
              "        text-align: right;\n",
              "    }\n",
              "</style>\n",
              "<table border=\"1\" class=\"dataframe\">\n",
              "  <thead>\n",
              "    <tr style=\"text-align: right;\">\n",
              "      <th></th>\n",
              "      <th>label</th>\n",
              "      <th>text</th>\n",
              "    </tr>\n",
              "  </thead>\n",
              "  <tbody>\n",
              "    <tr>\n",
              "      <th>490</th>\n",
              "      <td>1</td>\n",
              "      <td>I looking source code radiosity method I know ...</td>\n",
              "    </tr>\n",
              "    <tr>\n",
              "      <th>1102</th>\n",
              "      <td>1</td>\n",
              "      <td>I interested information stereoscopic imaging ...</td>\n",
              "    </tr>\n",
              "    <tr>\n",
              "      <th>557</th>\n",
              "      <td>10</td>\n",
              "      <td>Does anyone NHL STANDINGS March th I need IMME...</td>\n",
              "    </tr>\n",
              "    <tr>\n",
              "      <th>209</th>\n",
              "      <td>10</td>\n",
              "      <td>A little supplement Basic Mike info For Sundda...</td>\n",
              "    </tr>\n",
              "    <tr>\n",
              "      <th>774</th>\n",
              "      <td>10</td>\n",
              "      <td>World Championships Germany Group A results SW...</td>\n",
              "    </tr>\n",
              "  </tbody>\n",
              "</table>\n",
              "</div>"
            ],
            "text/plain": [
              "      label                                               text\n",
              "490       1  I looking source code radiosity method I know ...\n",
              "1102      1  I interested information stereoscopic imaging ...\n",
              "557      10  Does anyone NHL STANDINGS March th I need IMME...\n",
              "209      10  A little supplement Basic Mike info For Sundda...\n",
              "774      10  World Championships Germany Group A results SW..."
            ]
          },
          "metadata": {
            "tags": []
          },
          "execution_count": 29
        }
      ]
    },
    {
      "cell_type": "code",
      "metadata": {
        "id": "9iXNcILKzWka",
        "colab_type": "code",
        "colab": {}
      },
      "source": [
        "# Language model data\n",
        "data_lm = TextLMDataBunch.from_df(train_df = df_trn, valid_df = df_val, path = \"\")\n",
        "\n",
        "# Classifier model data\n",
        "data_clas = TextClasDataBunch.from_df(path = \"\", train_df = df_trn, valid_df = df_val, vocab=data_lm.train_ds.vocab, bs=32)"
      ],
      "execution_count": 0,
      "outputs": []
    },
    {
      "cell_type": "code",
      "metadata": {
        "id": "EJ2wNC3kzder",
        "colab_type": "code",
        "colab": {}
      },
      "source": [
        "#Fine-Tuning \n",
        "learn = language_model_learner(data_lm, pretrained_model=URLs.WT103, drop_mult=0.7)\n"
      ],
      "execution_count": 0,
      "outputs": []
    },
    {
      "cell_type": "code",
      "metadata": {
        "id": "32pg9Hno0kKK",
        "colab_type": "code",
        "outputId": "8d5ed8e9-3668-4688-f091-dbd55b5d01fc",
        "colab": {
          "base_uri": "https://localhost:8080/",
          "height": 94
        }
      },
      "source": [
        "# train the learner object with learning rate = 1e-2\n",
        "learn.fit_one_cycle(1, 1e-2)"
      ],
      "execution_count": 0,
      "outputs": [
        {
          "output_type": "display_data",
          "data": {
            "text/html": [
              "Total time: 00:09 <p><table style='width:300px; margin-bottom:10px'>\n",
              "  <tr>\n",
              "    <th>epoch</th>\n",
              "    <th>train_loss</th>\n",
              "    <th>valid_loss</th>\n",
              "    <th>accuracy</th>\n",
              "  </tr>\n",
              "  <tr>\n",
              "    <th>1</th>\n",
              "    <th>7.918004</th>\n",
              "    <th>6.472476</th>\n",
              "    <th>0.126269</th>\n",
              "  </tr>\n",
              "</table>\n"
            ],
            "text/plain": [
              "<IPython.core.display.HTML object>"
            ]
          },
          "metadata": {
            "tags": []
          }
        }
      ]
    },
    {
      "cell_type": "code",
      "metadata": {
        "id": "DfkSba8M0onz",
        "colab_type": "code",
        "colab": {}
      },
      "source": [
        "learn.save_encoder('ft_enc')"
      ],
      "execution_count": 0,
      "outputs": []
    },
    {
      "cell_type": "code",
      "metadata": {
        "id": "c4yLK4Pa0yer",
        "colab_type": "code",
        "colab": {}
      },
      "source": [
        "learn = text_classifier_learner(data_clas, drop_mult=0.7)\n",
        "learn.load_encoder('ft_enc')"
      ],
      "execution_count": 0,
      "outputs": []
    },
    {
      "cell_type": "code",
      "metadata": {
        "id": "l2-fxRjM0117",
        "colab_type": "code",
        "outputId": "c095cf13-9bc2-4892-d00a-8026b0b45f7d",
        "colab": {
          "base_uri": "https://localhost:8080/",
          "height": 94
        }
      },
      "source": [
        "learn.fit_one_cycle(1, 1e-2)"
      ],
      "execution_count": 0,
      "outputs": [
        {
          "output_type": "display_data",
          "data": {
            "text/html": [
              "Total time: 00:34 <p><table style='width:300px; margin-bottom:10px'>\n",
              "  <tr>\n",
              "    <th>epoch</th>\n",
              "    <th>train_loss</th>\n",
              "    <th>valid_loss</th>\n",
              "    <th>accuracy</th>\n",
              "  </tr>\n",
              "  <tr>\n",
              "    <th>1</th>\n",
              "    <th>0.523875</th>\n",
              "    <th>0.326793</th>\n",
              "    <th>0.919831</th>\n",
              "  </tr>\n",
              "</table>\n"
            ],
            "text/plain": [
              "<IPython.core.display.HTML object>"
            ]
          },
          "metadata": {
            "tags": []
          }
        }
      ]
    },
    {
      "cell_type": "code",
      "metadata": {
        "id": "ssXAkGiY06YD",
        "colab_type": "code",
        "outputId": "55aede7d-2d92-4089-e3ae-6c91c7053815",
        "colab": {
          "base_uri": "https://localhost:8080/",
          "height": 141
        }
      },
      "source": [
        "# get predictions - {0: 10, 1: 1}\n",
        "preds, targets = learn.get_preds()\n",
        "\n",
        "predictions = np.argmax(preds, axis = 1)\n",
        "pd.crosstab(predictions, targets)"
      ],
      "execution_count": 0,
      "outputs": [
        {
          "output_type": "execute_result",
          "data": {
            "text/html": [
              "<div>\n",
              "<style scoped>\n",
              "    .dataframe tbody tr th:only-of-type {\n",
              "        vertical-align: middle;\n",
              "    }\n",
              "\n",
              "    .dataframe tbody tr th {\n",
              "        vertical-align: top;\n",
              "    }\n",
              "\n",
              "    .dataframe thead th {\n",
              "        text-align: right;\n",
              "    }\n",
              "</style>\n",
              "<table border=\"1\" class=\"dataframe\">\n",
              "  <thead>\n",
              "    <tr style=\"text-align: right;\">\n",
              "      <th>col_0</th>\n",
              "      <th>0</th>\n",
              "      <th>1</th>\n",
              "    </tr>\n",
              "    <tr>\n",
              "      <th>row_0</th>\n",
              "      <th></th>\n",
              "      <th></th>\n",
              "    </tr>\n",
              "  </thead>\n",
              "  <tbody>\n",
              "    <tr>\n",
              "      <th>0</th>\n",
              "      <td>199</td>\n",
              "      <td>3</td>\n",
              "    </tr>\n",
              "    <tr>\n",
              "      <th>1</th>\n",
              "      <td>35</td>\n",
              "      <td>237</td>\n",
              "    </tr>\n",
              "  </tbody>\n",
              "</table>\n",
              "</div>"
            ],
            "text/plain": [
              "col_0    0    1\n",
              "row_0          \n",
              "0      199    3\n",
              "1       35  237"
            ]
          },
          "metadata": {
            "tags": []
          },
          "execution_count": 27
        }
      ]
    },
    {
      "cell_type": "code",
      "metadata": {
        "id": "bFLfEV3iXThk",
        "colab_type": "code",
        "outputId": "abde53ff-593e-40aa-c4dc-28aeac8b679c",
        "colab": {
          "base_uri": "https://localhost:8080/",
          "height": 364
        }
      },
      "source": [
        "targets   # 0 = label 1 / 10 = label 10"
      ],
      "execution_count": 0,
      "outputs": [
        {
          "output_type": "execute_result",
          "data": {
            "text/plain": [
              "tensor([0, 1, 1, 1, 0, 1, 1, 1, 1, 1, 1, 1, 0, 1, 0, 1, 0, 1, 0, 1, 1, 1, 1, 1,\n",
              "        1, 0, 0, 1, 1, 0, 0, 1, 0, 1, 1, 1, 0, 1, 1, 1, 1, 1, 1, 0, 1, 1, 1, 0,\n",
              "        1, 0, 1, 1, 1, 0, 1, 1, 0, 0, 0, 0, 1, 0, 1, 1, 1, 1, 0, 1, 1, 1, 1, 1,\n",
              "        0, 1, 1, 0, 0, 0, 1, 1, 0, 1, 1, 1, 1, 1, 0, 1, 0, 0, 1, 1, 1, 1, 1, 1,\n",
              "        1, 1, 0, 1, 1, 0, 0, 0, 1, 0, 1, 1, 0, 0, 1, 1, 1, 1, 0, 1, 0, 1, 1, 0,\n",
              "        1, 0, 0, 0, 0, 1, 0, 0, 0, 1, 1, 1, 1, 1, 0, 1, 0, 1, 0, 0, 1, 0, 0, 1,\n",
              "        0, 1, 0, 1, 1, 0, 1, 0, 1, 0, 1, 1, 1, 0, 1, 0, 0, 0, 1, 1, 0, 1, 0, 0,\n",
              "        1, 0, 0, 0, 1, 0, 0, 1, 0, 1, 1, 1, 1, 0, 1, 0, 1, 1, 0, 0, 0, 1, 0, 0,\n",
              "        0, 1, 1, 0, 1, 0, 0, 0, 1, 1, 1, 1, 0, 0, 1, 0, 0, 0, 0, 0, 0, 0, 0, 0,\n",
              "        1, 0, 0, 0, 0, 0, 1, 1, 0, 0, 1, 1, 0, 1, 1, 0, 0, 0, 1, 0, 0, 1, 0, 0,\n",
              "        0, 1, 0, 0, 0, 1, 0, 0, 1, 0, 0, 1, 1, 0, 1, 1, 0, 0, 0, 1, 0, 1, 0, 0,\n",
              "        1, 0, 0, 1, 1, 0, 1, 1, 0, 1, 0, 0, 0, 1, 1, 1, 0, 1, 1, 0, 0, 1, 0, 0,\n",
              "        1, 0, 0, 1, 1, 1, 1, 1, 0, 1, 0, 1, 0, 1, 0, 0, 1, 1, 0, 1, 1, 0, 1, 1,\n",
              "        1, 1, 1, 1, 0, 1, 0, 0, 0, 0, 0, 1, 0, 1, 0, 0, 1, 1, 0, 0, 1, 1, 0, 0,\n",
              "        0, 0, 1, 0, 0, 0, 0, 1, 0, 0, 0, 0, 1, 0, 0, 1, 1, 0, 1, 1, 0, 0, 0, 0,\n",
              "        1, 1, 1, 1, 1, 1, 0, 0, 0, 1, 0, 0, 0, 0, 1, 0, 0, 0, 0, 0, 1, 0, 1, 1,\n",
              "        1, 0, 1, 1, 0, 1, 0, 0, 0, 1, 1, 1, 0, 1, 1, 1, 0, 1, 0, 0, 1, 0, 1, 0,\n",
              "        0, 0, 0, 0, 1, 0, 0, 0, 0, 0, 1, 0, 1, 0, 0, 0, 0, 1, 1, 1, 0, 0, 1, 0,\n",
              "        0, 0, 1, 0, 0, 0, 1, 1, 0, 1, 0, 1, 0, 1, 0, 1, 1, 1, 1, 1, 1, 1, 1, 1,\n",
              "        0, 0, 1, 0, 1, 1, 0, 0, 1, 0, 1, 0, 1, 0, 1, 1, 1, 0])"
            ]
          },
          "metadata": {
            "tags": []
          },
          "execution_count": 30
        }
      ]
    },
    {
      "cell_type": "code",
      "metadata": {
        "id": "TvkXsgJiXUaW",
        "colab_type": "code",
        "outputId": "28ebe65b-f709-4c76-fdce-8bc397299220",
        "colab": {
          "base_uri": "https://localhost:8080/",
          "height": 202
        }
      },
      "source": [
        "df_val.head()"
      ],
      "execution_count": 0,
      "outputs": [
        {
          "output_type": "execute_result",
          "data": {
            "text/html": [
              "<div>\n",
              "<style scoped>\n",
              "    .dataframe tbody tr th:only-of-type {\n",
              "        vertical-align: middle;\n",
              "    }\n",
              "\n",
              "    .dataframe tbody tr th {\n",
              "        vertical-align: top;\n",
              "    }\n",
              "\n",
              "    .dataframe thead th {\n",
              "        text-align: right;\n",
              "    }\n",
              "</style>\n",
              "<table border=\"1\" class=\"dataframe\">\n",
              "  <thead>\n",
              "    <tr style=\"text-align: right;\">\n",
              "      <th></th>\n",
              "      <th>label</th>\n",
              "      <th>text</th>\n",
              "    </tr>\n",
              "  </thead>\n",
              "  <tbody>\n",
              "    <tr>\n",
              "      <th>412</th>\n",
              "      <td>3</td>\n",
              "      <td>Could one tell Phar Lap err The chip currently...</td>\n",
              "    </tr>\n",
              "    <tr>\n",
              "      <th>1158</th>\n",
              "      <td>4</td>\n",
              "      <td>You need add two K VRAM SIMMs K VRAM SIMMs wor...</td>\n",
              "    </tr>\n",
              "    <tr>\n",
              "      <th>210</th>\n",
              "      <td>3</td>\n",
              "      <td>I would doubt would able use hard drive XT dri...</td>\n",
              "    </tr>\n",
              "    <tr>\n",
              "      <th>568</th>\n",
              "      <td>4</td>\n",
              "      <td></td>\n",
              "    </tr>\n",
              "    <tr>\n",
              "      <th>361</th>\n",
              "      <td>4</td>\n",
              "      <td>No problems</td>\n",
              "    </tr>\n",
              "  </tbody>\n",
              "</table>\n",
              "</div>"
            ],
            "text/plain": [
              "      label                                               text\n",
              "412       3  Could one tell Phar Lap err The chip currently...\n",
              "1158      4  You need add two K VRAM SIMMs K VRAM SIMMs wor...\n",
              "210       3  I would doubt would able use hard drive XT dri...\n",
              "568       4                                                   \n",
              "361       4                                        No problems"
            ]
          },
          "metadata": {
            "tags": []
          },
          "execution_count": 100
        }
      ]
    },
    {
      "cell_type": "code",
      "metadata": {
        "id": "Sc8CDhLC1Rry",
        "colab_type": "code",
        "colab": {}
      },
      "source": [
        "\n",
        "# Label eye checking results\n",
        "# 순서대로 되어 있음\n",
        "\n",
        "#16 = talk.politics.guns/ 14 = sci.space / 4 = comp.sys.mac.hardware / 1 = comp.graphic / 10 = rec.sport.hockey"
      ],
      "execution_count": 0,
      "outputs": []
    },
    {
      "cell_type": "markdown",
      "metadata": {
        "id": "3hw3NbMO8fNy",
        "colab_type": "text"
      },
      "source": [
        "**Model performance test on 20newsgroup dataset by making sub-datasets with 5 categories which is similar each other**"
      ]
    },
    {
      "cell_type": "code",
      "metadata": {
        "id": "n4jZddb78mii",
        "colab_type": "code",
        "colab": {}
      },
      "source": [
        "\n",
        "df2 = df[df['label'].isin([1, 2, 3, 4, 5])]  # 1=comp.graphic, 2= comp.os.ms-windows.misc, 3 = comp.sys.ibm.pc.hardware, 4 = comp.sys.mac.hardware, 5=comp.windows.x, \n",
        "df2 = df2.reset_index(drop = True)"
      ],
      "execution_count": 0,
      "outputs": []
    },
    {
      "cell_type": "code",
      "metadata": {
        "id": "88UyllMgoUn0",
        "colab_type": "code",
        "colab": {}
      },
      "source": [
        "df2.index.name = 'index'\n",
        "#dic = {1:0, 2:1, 3:2, 4:3, 5:4}\n",
        "#df2.index.name = dic"
      ],
      "execution_count": 0,
      "outputs": []
    },
    {
      "cell_type": "code",
      "metadata": {
        "id": "R9lXzmxZojOT",
        "colab_type": "code",
        "outputId": "32c699d9-a7ac-4b5e-a950-5805329f6933",
        "colab": {
          "base_uri": "https://localhost:8080/",
          "height": 662
        }
      },
      "source": [
        "df2[:20]"
      ],
      "execution_count": 0,
      "outputs": [
        {
          "output_type": "execute_result",
          "data": {
            "text/html": [
              "<div>\n",
              "<style scoped>\n",
              "    .dataframe tbody tr th:only-of-type {\n",
              "        vertical-align: middle;\n",
              "    }\n",
              "\n",
              "    .dataframe tbody tr th {\n",
              "        vertical-align: top;\n",
              "    }\n",
              "\n",
              "    .dataframe thead th {\n",
              "        text-align: right;\n",
              "    }\n",
              "</style>\n",
              "<table border=\"1\" class=\"dataframe\">\n",
              "  <thead>\n",
              "    <tr style=\"text-align: right;\">\n",
              "      <th></th>\n",
              "      <th>label</th>\n",
              "      <th>text</th>\n",
              "    </tr>\n",
              "  </thead>\n",
              "  <tbody>\n",
              "    <tr>\n",
              "      <th>6</th>\n",
              "      <td>4</td>\n",
              "      <td>\\nOk.  I have a record that shows a IIsi with ...</td>\n",
              "    </tr>\n",
              "    <tr>\n",
              "      <th>10</th>\n",
              "      <td>1</td>\n",
              "      <td>Archive-name: graphics/resources-list/part1\\nL...</td>\n",
              "    </tr>\n",
              "    <tr>\n",
              "      <th>14</th>\n",
              "      <td>4</td>\n",
              "      <td>The title says it all.  I need to know the 44,...</td>\n",
              "    </tr>\n",
              "    <tr>\n",
              "      <th>31</th>\n",
              "      <td>4</td>\n",
              "      <td>\\nI doubt this is a Quadra-specific problem.  ...</td>\n",
              "    </tr>\n",
              "    <tr>\n",
              "      <th>32</th>\n",
              "      <td>4</td>\n",
              "      <td>\\n\\nTerry, hi.  I recently bought an LCIII and...</td>\n",
              "    </tr>\n",
              "    <tr>\n",
              "      <th>38</th>\n",
              "      <td>4</td>\n",
              "      <td>\\nBattery powered devices like the PowerBook a...</td>\n",
              "    </tr>\n",
              "    <tr>\n",
              "      <th>40</th>\n",
              "      <td>4</td>\n",
              "      <td>terminated\\n\\nIt is very possible to connect a...</td>\n",
              "    </tr>\n",
              "    <tr>\n",
              "      <th>43</th>\n",
              "      <td>1</td>\n",
              "      <td>Hi,\\n\\nI'm interested in writing a program to ...</td>\n",
              "    </tr>\n",
              "    <tr>\n",
              "      <th>44</th>\n",
              "      <td>2</td>\n",
              "      <td>.Chris\\n</td>\n",
              "    </tr>\n",
              "    <tr>\n",
              "      <th>45</th>\n",
              "      <td>5</td>\n",
              "      <td>*Reminder*   Plan now for the Andrew Conferenc...</td>\n",
              "    </tr>\n",
              "    <tr>\n",
              "      <th>46</th>\n",
              "      <td>3</td>\n",
              "      <td>does anybody have any info on this monitor or ...</td>\n",
              "    </tr>\n",
              "    <tr>\n",
              "      <th>49</th>\n",
              "      <td>4</td>\n",
              "      <td>Here's a question that may be simple enough to...</td>\n",
              "    </tr>\n",
              "    <tr>\n",
              "      <th>50</th>\n",
              "      <td>2</td>\n",
              "      <td>I've been reading, with much confusion, about ...</td>\n",
              "    </tr>\n",
              "    <tr>\n",
              "      <th>52</th>\n",
              "      <td>2</td>\n",
              "      <td>\\n\\tahh, yes, this is a fun topic.  No, once t...</td>\n",
              "    </tr>\n",
              "    <tr>\n",
              "      <th>66</th>\n",
              "      <td>5</td>\n",
              "      <td>\\n\"return_place\" is probably incorrect.  It sh...</td>\n",
              "    </tr>\n",
              "    <tr>\n",
              "      <th>72</th>\n",
              "      <td>4</td>\n",
              "      <td>I have a friend who has a MAC (LC or LC II I t...</td>\n",
              "    </tr>\n",
              "    <tr>\n",
              "      <th>77</th>\n",
              "      <td>4</td>\n",
              "      <td>I have finally decided to update my SE :-)).\\n...</td>\n",
              "    </tr>\n",
              "    <tr>\n",
              "      <th>82</th>\n",
              "      <td>5</td>\n",
              "      <td>\\n\\nTry this:\\n\\nchar *name=NULL;\\nunsigned lo...</td>\n",
              "    </tr>\n",
              "    <tr>\n",
              "      <th>84</th>\n",
              "      <td>4</td>\n",
              "      <td>\\n\\n    None. You need to buy 2 80ns 256k VRAM...</td>\n",
              "    </tr>\n",
              "    <tr>\n",
              "      <th>85</th>\n",
              "      <td>2</td>\n",
              "      <td>I have one thing to say-- why does everyone sa...</td>\n",
              "    </tr>\n",
              "  </tbody>\n",
              "</table>\n",
              "</div>"
            ],
            "text/plain": [
              "    label                                               text\n",
              "6       4  \\nOk.  I have a record that shows a IIsi with ...\n",
              "10      1  Archive-name: graphics/resources-list/part1\\nL...\n",
              "14      4  The title says it all.  I need to know the 44,...\n",
              "31      4  \\nI doubt this is a Quadra-specific problem.  ...\n",
              "32      4  \\n\\nTerry, hi.  I recently bought an LCIII and...\n",
              "38      4  \\nBattery powered devices like the PowerBook a...\n",
              "40      4  terminated\\n\\nIt is very possible to connect a...\n",
              "43      1  Hi,\\n\\nI'm interested in writing a program to ...\n",
              "44      2                                           .Chris\\n\n",
              "45      5  *Reminder*   Plan now for the Andrew Conferenc...\n",
              "46      3  does anybody have any info on this monitor or ...\n",
              "49      4  Here's a question that may be simple enough to...\n",
              "50      2  I've been reading, with much confusion, about ...\n",
              "52      2  \\n\\tahh, yes, this is a fun topic.  No, once t...\n",
              "66      5  \\n\"return_place\" is probably incorrect.  It sh...\n",
              "72      4  I have a friend who has a MAC (LC or LC II I t...\n",
              "77      4  I have finally decided to update my SE :-)).\\n...\n",
              "82      5  \\n\\nTry this:\\n\\nchar *name=NULL;\\nunsigned lo...\n",
              "84      4  \\n\\n    None. You need to buy 2 80ns 256k VRAM...\n",
              "85      2  I have one thing to say-- why does everyone sa..."
            ]
          },
          "metadata": {
            "tags": []
          },
          "execution_count": 101
        }
      ]
    },
    {
      "cell_type": "code",
      "metadata": {
        "id": "J66sY_0b81ay",
        "colab_type": "code",
        "outputId": "5d98e5e3-9bc9-44bd-9c86-f8f7ea8f7471",
        "colab": {
          "base_uri": "https://localhost:8080/",
          "height": 121
        }
      },
      "source": [
        "df2['label'].value_counts()"
      ],
      "execution_count": 0,
      "outputs": [
        {
          "output_type": "execute_result",
          "data": {
            "text/plain": [
              "5    593\n",
              "2    591\n",
              "3    590\n",
              "1    584\n",
              "4    578\n",
              "Name: label, dtype: int64"
            ]
          },
          "metadata": {
            "tags": []
          },
          "execution_count": 36
        }
      ]
    },
    {
      "cell_type": "code",
      "metadata": {
        "id": "be-Invy281wW",
        "colab_type": "code",
        "colab": {}
      },
      "source": [
        "#Data Preprocessing \n",
        "df2['text'] = df2['text'].str.replace(\"[^a-zA-Z]\", \" \")"
      ],
      "execution_count": 0,
      "outputs": []
    },
    {
      "cell_type": "code",
      "metadata": {
        "id": "D76C2b3z82A_",
        "colab_type": "code",
        "outputId": "0c7ffaff-e2ff-428f-c783-8f0b5ecdc786",
        "colab": {
          "base_uri": "https://localhost:8080/",
          "height": 52
        }
      },
      "source": [
        "import nltk\n",
        "nltk.download('stopwords')\n",
        "\n",
        "from nltk.corpus import stopwords \n",
        "stop_words = stopwords.words('english')"
      ],
      "execution_count": 0,
      "outputs": [
        {
          "output_type": "stream",
          "text": [
            "[nltk_data] Downloading package stopwords to /root/nltk_data...\n",
            "[nltk_data]   Package stopwords is already up-to-date!\n"
          ],
          "name": "stdout"
        }
      ]
    },
    {
      "cell_type": "code",
      "metadata": {
        "id": "i5oyuApy82Yp",
        "colab_type": "code",
        "colab": {}
      },
      "source": [
        "# tokenization \n",
        "tokenized_doc = df2['text'].apply(lambda x: x.split())\n",
        "\n",
        "# remove stop-words \n",
        "tokenized_doc = tokenized_doc.apply(lambda x: [item for item in x if item not in stop_words])\n",
        "\n",
        "# de-tokenization \n",
        "detokenized_doc = [] \n",
        "for i in range(len(df2)): \n",
        "    t = ' '.join(tokenized_doc[i]) \n",
        "    detokenized_doc.append(t) \n",
        "\n",
        "df2['text'] = detokenized_doc"
      ],
      "execution_count": 0,
      "outputs": []
    },
    {
      "cell_type": "code",
      "metadata": {
        "id": "JlTawre0O4-v",
        "colab_type": "code",
        "colab": {}
      },
      "source": [
        "from sklearn.model_selection import train_test_split\n",
        "\n",
        "# split data into training and validation set\n",
        "df_trn, df_val = train_test_split(df2, stratify = df2['label'], test_size = 0.3, random_state = 12)"
      ],
      "execution_count": 0,
      "outputs": []
    },
    {
      "cell_type": "code",
      "metadata": {
        "id": "uiVbXv2DO5U7",
        "colab_type": "code",
        "outputId": "b219dc56-2a6f-4500-eaed-5b7a1420ec04",
        "colab": {
          "base_uri": "https://localhost:8080/",
          "height": 35
        }
      },
      "source": [
        "df_trn.shape, df_val.shape"
      ],
      "execution_count": 0,
      "outputs": [
        {
          "output_type": "execute_result",
          "data": {
            "text/plain": [
              "((2055, 2), (881, 2))"
            ]
          },
          "metadata": {
            "tags": []
          },
          "execution_count": 41
        }
      ]
    },
    {
      "cell_type": "code",
      "metadata": {
        "id": "daeo3LjfO5mF",
        "colab_type": "code",
        "colab": {}
      },
      "source": [
        "# Language model data\n",
        "data_lm = TextLMDataBunch.from_df(train_df = df_trn, valid_df = df_val, path = \"\")\n",
        "\n",
        "# Classifier model data\n",
        "data_clas = TextClasDataBunch.from_df(path = \"\", train_df = df_trn, valid_df = df_val, vocab=data_lm.train_ds.vocab, bs=32)"
      ],
      "execution_count": 0,
      "outputs": []
    },
    {
      "cell_type": "code",
      "metadata": {
        "id": "Kl-9sY9XPACZ",
        "colab_type": "code",
        "colab": {}
      },
      "source": [
        "#Fine-Tuning \n",
        "learn = language_model_learner(data_lm, pretrained_model=URLs.WT103, drop_mult=0.7)"
      ],
      "execution_count": 0,
      "outputs": []
    },
    {
      "cell_type": "code",
      "metadata": {
        "id": "NgfbfKZcbQC5",
        "colab_type": "code",
        "outputId": "ee21a3e9-2423-4468-b70d-f2e9a98d164a",
        "colab": {
          "base_uri": "https://localhost:8080/",
          "height": 367
        }
      },
      "source": [
        "data_clas"
      ],
      "execution_count": 0,
      "outputs": [
        {
          "output_type": "execute_result",
          "data": {
            "text/plain": [
              "TextClasDataBunch;\n",
              "\n",
              "Train: LabelList\n",
              "y: CategoryList (2055 items)\n",
              "[Category 2, Category 5, Category 1, Category 3, Category 2]...\n",
              "Path: .\n",
              "x: TextList (2055 items)\n",
              "[Text xxbos i think need xxup emm xxup exe noems xxmaj this let expanded mem active use therefore give extended mem windows yet bases covered i use dos i familiar c ya artin, Text xxbos xxmaj sorry olwm tvtwm xxmaj they place title position window position xxmaj this becomes problem want program able save current configuration restore later xxmaj currently solution xcreatewindow xxunk xxunk xflush xxunk xxmaj it works olwm less xxunk xxmaj all leaves wondering i xxunk something obvious xxmaj richard i know mwm resource specify positions used border window user window xxmaj maybe window managers similar options xxmaj another way figure difference user window position window manager decoration window position subtract positions xxmaj you use xquerytree remember window manager xxunk window parent window xxmaj unfortunately figure decoration width height window mapped way, Text xxbos i downloaded image earth xxunk elevation data taken degree xxunk xxmaj the author wrote c code included read data file generated b w pseudo color images xxmaj they work well xxunk copyright xxmaj they aminet site near called earth lha amiga xxunk misc area i refer included docs details author sorry i forget name created images xxmaj the raw data included xxmaj david xxmaj david m xxmaj xxunk xxmaj evans xxmaj sutherland xxmaj computer xxmaj corp xxunk xxunk sim es com, Text xxbos xxmaj these xxup lpt xxup com disk controller call devices xxmaj there devices requires exclusive interrupt xxunk eg disk controller i keyboard i xxmaj there also devices require exclusive xxunk ie share interrupt another device eg xxup lpt xxmaj no xxmaj in standard xxup isa bus one almost non laptop pcs use two separate interface cards can not share interrupt xxmaj this due screwup bus design xxmaj for example xxmaj soundblaster wants drive interrupt number must hold certain bus wire times depending whether wants interrupt xxmaj this xxunk letting another card xxunk interrupt number xxmaj when two devices xxup isa bus xxup pc share interrupt implemented single card, Text xxbos i looking latest drivers xxmaj actix graphics accelerator card xxmaj the driver i currently using version support colors x mode even xxup mb memory xxmaj the xxup bbs support xxmaj actix xxunk xxmaj they still using bps modem xxmaj it take hours download drivers xxunk calling long distance xxmaj is ftp site collection video drivers windows xxup btw anyone using card like far xxmaj thanks xxmaj daniel y h xxmaj xxunk xxunk xxunk xxunk eecg toronto edu xxmaj electrical xxmaj engineering]...\n",
              "Path: .;\n",
              "\n",
              "Valid: LabelList\n",
              "y: CategoryList (881 items)\n",
              "[Category 4, Category 1, Category 4, Category 2, Category 1]...\n",
              "Path: .\n",
              "x: TextList (881 items)\n",
              "[Text xxbos xxmaj when i owned xxup se i replaced fan xxup se xxmaj xxunk available i believe xxunk xxunk xxmaj it comes instruction installation requires soldering xxmaj worked like charm i think manufacturer xxmaj xxunk xxmaj dave, Text xxbos i given sites excellent d objects sorts file formats xxmaj here xxmaj host plaza xxunk edu au xxmaj location graphics graphics mirrors xxup directory xxunk xr x xxmaj apr avalon xxunk navy mil xxmaj host compute cc ncsu edu xxmaj location mirrors wustl graphics graphics mirrors xxup directory xxunk xr x xxmaj mar avalon xxunk navy mil xxmaj host wuarchive wustl edu xxmaj location graphics graphics mirrors xxup directory xxunk xr x xxmaj jan avalon xxunk navy mil, Text xxbos xxmaj is anyone using greyscale xxunk i thinking buying one xxmaj is xxunk xxmaj logitech pretty good i need super high quality xxunk want worth, Text xxbos xxup max xxwrep 14 xxup ax xxup max xxup ax xxup ax xxup ax f z w xxup wwiz xxwrep 4 xxup bhj xxup giz m xxup giz xxup giz xxup bhj xxup giz m t xxup ei l v f f xxup fr a w z q xxup vo xxup mu u u m w o o xxup aug y xxup mc p v xxup xxunk u q xxup gy xxup gp g xxup xxunk xxup max xxwrep 14 xxup ax xxup max xxup ax xxup ax t p xxup hp a p p a u xxup tm xxup um xxup mum n xxwrep 5 xxup ax xxup ne z xxup bj xxup sw xxup ltq v g m v g v g v g v xxup gq xxup tbxn b xxup wm u p xxup tct f d c xxup ax xxup ax xxup max xxwrep 5 xxup ax xxup xxunk xxup df xxup xxunk xxup nkjz b b w p n xxup vmk v xxup mmk xxup vn r xxup kj m w xxwrep 11 xxup ax xxup ms k s k xxup vlv c v d e e e g v g v v c o o n m a xxup xxunk y g l xxup xxunk d y l xxup ql l xxup mp u xxup uj i u b xxup dax xxwrep 8 xxup ax xxup max xxwrep 14 xxup ax xxup max xxwrep 14 xxup ax xxup max xxwrep 14 xxup ax xxup max xxwrep 14 xxup ax xxup max xxwrep 9 xxup ax n d xxup qtcv m p xxup uy xxup ez m i e q xxwrep 8 xxup ax xxup max xxwrep 6 xxup ax xxup as xxup ne xxup xxunk n n xxup lj xxup gk z c xxup max xxwrep 14 xxup ax xxup max xxwrep 10 xxup ax q q f l i m t xxup wt w w xxup giz xxup bhj xxup bhj xxup bhj xxup gizw t xxup ei xxup pmf l u xxup mr xxup hj p m xxwrep 4 u n xxup fyn r xxup uo m xxup ug y xxup hr y m xxup xxunk c u y m h s xxup xxunk xxwrep 11 xxup ax xxup max xxwrep 7 xxup ax t p xxup chp a a a u m u c m xxup um xxup xxunk r xxwrep 6 xxup ax xxup as f xxup pne m z xxup ex f w xxup fp xxup wm xxup wm u u l p xxup eq xxup qtm t f d m xxup uz n xxup lj m i xxup mf xxwrep 6 xxup ax r xxup xk xxup xxunk xxup aj j xxup xxunk b w p n xxup vmk xxup vmk xxup vn r xxup xxunk xxup vmhi xxwrep 5 xxup ax xxup max xxwrep 6 xxup ax k s v c v xxup fi xxup ue h g v v xxup un m g q x w t p i xxup ws r c l o xxup xxunk m xxup ql p a a xxup ul xxup yj j xxup gy b xxup dax xxup ax xxup ax xxup ax xxup max xxwrep 14 xxup ax xxup max xxwrep 14 xxup ax xxup max xxwrep 14 xxup ax xxup max xxwrep 14 xxup ax xxup max xxwrep 14 xxup ax m xxup ml g xxup tcv xxwrep 4 f p p p xxup nriz z l xxup qax xxwrep 4 xxup ax xxup max xxwrep 10 xxup ax f xxup pne z xxup kn m xxup ez xxup nrhj m xxwrep 11 xxup ax xxup max xxwrep 14 xxup ax xxup max xxup ax f f xxup pl i e t xxup wwiz xxwrep 4 xxup bhj xxup giz m xxup mwt t xxup ei l i xxup eu u c xxup hj p u u xxup fyn xxup fyn m m r xxup rl x y y d xxup xxunk m i u y xxup xxunk xxwrep 8 xxup ax xxup max xxwrep 12 xxup ax p xxup ch xxup mp a a a u u xxup xxunk o m xxup um xxup fyn r xxup ax xxup ax xxup max xxup ax xxup ax xxup ax xxup as z xxup wri xxup yf f f f t xxup tm xxup tm xxup tm xxup tct m xxwrep 5 f t v f d t f n xxup lj m e l xxup ax xxup ax xxup ax xxup max r xxup fj h xxup xxunk b p n xxup vmk xxup vmk v r xxup xxunk xxup tc xxup max xxwrep 12 xxup ax xxup as v g xxup mj e xxup eg xxup hz xxup xxunk k w xxup vo g v q h x xxup tc p i xxup ws xxup pw m o i l g f xxup sf l xxup ql a a p w xxup yj xxup gq m b xxup dax xxwrep 13 xxup ax xxup max xxwrep 14 xxup ax xxup max xxwrep 14 xxup ax xxup max xxwrep 14 xxup ax xxup max xxwrep 14 xxup ax xxup max xxwrep 4 xxup ax d xxup ey xxup ey xxup kn n n n xxup lj xxup gk i xxup ax xxup max xxwrep 14 xxup ax q xxup mq f z w xxup ghj xxup kn xxup nrhj m i xxup mfq xxwrep 6 xxup ax xxup max xxwrep 14 xxup ax xxup max xxwrep 6 xxup ax q f z xxup ei w z xxup giz xxup ghj xxup bhj m xxup biz xxup gk w xxup wt t t z xxup ei e u r c a q b u xxup mu xxup fx n xxup dm xxup tm m x f y m k d xxup tm xxup xxunk u q xxup gx xxup xxunk xxup ax xxup ax xxup ax xxup max xxwrep 14 xxup ax xxup max xxup ax xxup ax a p xxup chp a a a u w xxup xxunk u xxup um xxup mfyl r b xxwrep 7 xxup ax xxup as z xxup bj n n n m m xxup ey xxup ey xxup ey xxup kn xxup ey p xxwrep 5 f w xxup tm xxup tm d xxup kn xxup gk xxup mwt t v xxup ax xxup ax xxup ax m v h b xxup df xxup ij j h xxup znb c n xxup fvmk v xxup mmk xxup yw b xxup ko t r xxup lr xxwrep 10 xxup ax xxup max xxwrep 4 xxup ax v xxup eg c v xxup fmk w xxup qv e v a v h o m t c r c p s o xxup ivf l j a xxup wz xxup giz xxup gi xxup xxunk xxup mp p b xxup yj j b xxwrep 9 xxup ax xxup max xxwrep 14 xxup ax xxup max xxwrep 14 xxup ax xxup max xxwrep 14 xxup ax xxup max xxwrep 14 xxup ax xxup max xxwrep 9 xxup ax xxup nriz xxup giz xxup gk w t xxup mi xxup mfq xxwrep 12 xxup ax xxup max xxup ax xxup ax xxup ax f z xxup ei xxup wwhj xxup biz m w i xxup mfq q xxup ax xxup max xxwrep 14 xxup ax xxup max xxwrep 11 xxup ax xxup qq f xxup pnei xxup mw xxwrep 4 xxup giz m xxwrep 4 w z xxup ei xxup ei z k m n a q u xxup fyn xxup tm xxup tm n l u xxup xxunk u m xxup yx y s xxup xxunk d xxup xxunk u q xxup wm xxup wi xxup xxunk xxwrep 13 xxup ax xxup max xxwrep 6 xxup ax xxup aq a n xxwrep 4 a xxup du m w xxup sc s xxup gx xxup um xxup fyl b xxup xxunk xxwrep 7 xxup ax xxup max xxup ax xxup qq i t w z xxup km xxup klj xxup bhj xxup kn xxup nuy p f t f xxup mf xxwrep 4 f xxup ey xxup xxunk t xxup ei xxup ax xxup ax xxup ap xxup rn y xxup hd b m xxup fij j xxup khb w xxup xxunk xxup xxunk w xxup bn c s xxwrep 5 xxup ax xxup max xxwrep 10 xxup ax xxup aug xxup xxunk z o m g e g o p o r t r c r c c i l xxup xxunk xxup mz xxup giz xxup giz n xxup bxn xxup du w xxup kj j j xxup xxunk xxup ax xxup ax xxup ax xxup max xxwrep 14 xxup ax xxup max xxwrep 14 xxup ax xxup max xxwrep 14 xxup ax xxup max xxwrep 14 xxup ax xxup max xxwrep 14 xxup ax m t xxup ei xxup ei v xxup pl l xxwrep 9 xxup ax xxup max xxwrep 8 xxup ax xxup qq xxup pnei xxup wt xxup ei l z m v f l q q xxwrep 11 xxup ax xxup max xxwrep 14 xxup ax xxup max q f z e t t w t t z xxup ei xxup ei t z xxup ei m xxup pl xxup pmf l xxup sz xxup tm xxup tm o c xxup um xxup do p e n m l u xxup fxe u p u xxup yx a s e d xxup tm xxup xxunk m t xxup wb xxup xxunk r z xxwrep 8 xxup ax xxup max xxwrep 11 xxup ax xxup aq a n m xxwrep 4 a xxup du q s x xxup um xxup fyl xxup xxunk i xxup ax xxup ax xxup max xxwrep 8 xxup ax q f xxup nei w z xxup giz xxup bj xxup mnuy p xxup ey xxup ey xxup ex p p p xxup kn xxup bizw i xxup mf xxup ax xxup ax m xxup mv xxup gph xxup df xxup aj xxup fijh xxup znb c w s b xxup bn r c w xxup max xxwrep 14 xxup ax xxup max xxup ax xxup ax xxup bs o v i s s xxup se v g xxup ve xxup xxunk c t xxup di t m g d q p f z xxup giz d x xxup ql a l g xxup kj j j u xxup mgr xxwrep 13 xxup ax xxup max xxwrep 14 xxup ax xxup max xxwrep 14 xxup ax xxup max xxwrep 14 xxup ax xxup max xxwrep 14 xxup ax xxup max xxwrep 4 xxup ax q xxwrep 4 f xxup fq q xxwrep 5 xxup ax xxup max xxwrep 12 xxup ax xxup as f m xxup pl xxup pl xxwrep 5 f q q xxwrep 7 xxup ax xxup max xxwrep 14 xxup ax xxup max xxwrep 4 xxup ax xxup as xxup qq f xxup pl i e t t i v f f q xxup mq q f xxup fq q xxup qax xxup ax xxup aq u a a c p m q m xxup mn m xxup tm xxup xxunk xxup lc u xxup dm u p xxup au xxup yx a y m w d xxup tm xxup xxunk h xxup gy xxup gy g r z xxup ca xxup ax xxup ax xxup max xxwrep 14 xxup ax xxup max xxup ax a a z xxwrep 5 a q u xxup wi xxup um xxup mfyl h a xxwrep 11 xxup ax xxup max xxup as q xxup ne z xxup bj xxup ex xxwrep 4 p xxup ey xxup km xxup kn xxup nrhj xxup gk m z xxup ei o xxup ax xxup ax n y xxup hd f xxup ij j xxup kjznb b xxup mb b b xxup zn r i w xxwrep 9 xxup ax xxup max xxwrep 7 xxup ax xxup aw v g v i s s s y s s q xxup xxunk t i k xxup xxunk d xxup qi k xxup xxunk xxup ib x xxup iz xxup gi m xxup xxunk xxup kj j j xxup xxunk b xxup gh xxwrep 7 xxup ax xxup max xxwrep 14 xxup ax xxup max xxwrep 14 xxup ax xxup max xxwrep 14 xxup ax xxup max xxwrep 14 xxup ax xxup max xxwrep 10 xxup ax xxup as xxup qq q xxup ax xxup max xxwrep 14 xxup ax xxup max q q q xxup ax xxwrep 5 q xxup qax xxup ax xxup ax xxup max xxwrep 14 xxup ax xxup max xxwrep 9 xxup ax q f l z xxup ei l m xxup pmf l q xxup qax xxwrep 8 xxup ax m p m xxup lk p x xxup xp m xxup ul xxup fy xxup xxunk xxup fx r u b z p xxup au m f e y d xxup tm xxup xxunk h xxup gx xxup gr m xxwrep 12 xxup ax xxup max xxwrep 6 xxup ax xxwrep 7 a m q x xxup um xxup fsx h xxwrep 6 xxup ax xxup max xxwrep 7 xxup ax xxup qq i w z xxup bhj xxup bj n n n xxup lj m xxup giz xxup giz xxup gk w t xxup ei v xxup qax xxup ax e m n xxup gy xxup gy m b d b xxup fij j h xxup xxunk i c xxup ws xxwrep 4 xxup ax xxup max xxwrep 12 xxup ax g v g v xxup me xxwrep 6 s d w xxup di g xxup vbtm xxup tm xxup ud xxup jd xxup li xxup xxunk xxup mi j xxup xxunk xxup giz xxup xxunk xxup kj j xxup xxunk e e xxup ax xxup ax xxup max xxwrep 14 xxup ax xxup max xxwrep 14 xxup ax xxup max xxwrep 14 xxup ax xxup max xxwrep 14 xxup ax xxup max xxwrep 14 xxup ax xxup max xxwrep 14 xxup ax xxup max xxwrep 4 xxup ax xxup as xxwrep 9 xxup ax xxup max q xxup qax xxup ax xxup ax xxup ax q q xxup qax xxup ax xxup ax xxup qq q xxup mq xxwrep 12 xxup ax xxup as q m q xxwrep 7 f l q xxup qax xxwrep 7 xxup ax xxup max xxup ax u b o p p xxup qv g u m xxup um p h xxup fyn xxup fx xxup mu u a b z x xxup gu s xxup dy xxup tm xxup xxunk m h w xxup gx xxup ax xxup xxunk d xxwrep 7 xxup ax xxup max xxwrep 11 xxup ax l a a m xxwrep 5 a s s w xxup gx xxup um xxup fsx h xxup xxunk xxup max xxwrep 13 xxup ax f m z xxwrep 4 w xxup wt t t t xxup ei xxup pl l q xxup qax a xxup xe m m d h xxup gq u xxup hd xxup df b xxup fij xxup fj h h i xxup gt r q m xxwrep 14 xxup ax xxup max xxup ax xxup ax v e v g e s s s xxup xxunk a xxup rl m k xxup vmk d d m d xxup id xxup xxunk xxup uf d f l xxrep 5 j xxup xxunk xxup xxunk j u xxup mn b g xxup xxunk xxwrep 11 xxup ax xxup max xxwrep 14 xxup ax xxup max xxwrep 14 xxup ax xxup max xxwrep 14 xxup ax xxup max xxwrep 14 xxup ax xxup max xxwrep 14 xxup ax xxup max xxwrep 14 xxup ax xxup max xxup ax xxup ax xxup ax xxup as xxup qq xxwrep 4 q f xxup pl v f xxup pl xxup pl f f m l f l i xxup ei xxup ei xxup ei l l q xxwrep 7 xxup ax xxup max xxwrep 4 xxup ax xxup as xxup qq f xxup fq q xxwrep 4 xxup ax xxup max xxwrep 5 xxup ax xxup aw xxup rx xxup vo p q u m m r c r u xxup hj z x y u s m xxup dy xxup du h g xxup chz xxup ca b d g h xxup ax xxup max xxwrep 14 xxup ax xxup max xxup xxunk xxwrep 8 a xxup ud d w xxup um xxup xxunk h b y xxwrep 11 xxup ax xxup max xxwrep 4 xxup ax xxup nei t w t t i xxup pmf f xxup max xxup as xxup ax xxup ax xxup xxunk h j i xxup gy b d xxup df b xxup fij m xxup fij xxup mk xxup vbdi r e xxwrep 9 xxup ax xxup max xxwrep 6 xxup ax xxup aw v g v g xxup rlk a xxup rlk xxup ek xxup rl xxup mk d d xxup tm xxup lk xxup rlk xxup rl k xxup xxunk i f xxup qk xxup jf b c v c v c d xxup mh xxup xxunk xxup xxunk j q q xxwrep 6 xxup ax xxup max xxwrep 14 xxup ax xxup max xxwrep 14 xxup ax xxup max xxwrep 14 xxup ax xxup max xxwrep 14 xxup ax xxup max xxwrep 11 xxup ax q xxup ax xxup ax xxup max xxwrep 14 xxup ax xxup max xxwrep 7 xxup ax f f l xxup pl xxup pl xxup pnei e xxup mi xxup ei e t t xxup wt xxup wwiz xxup ghj xxup bhj xxup bhj xxup gizwt e f xxup ax xxup ax xxup max xxwrep 14 xxup ax xxup max xxwrep 10 xxup ax xxup xxunk r xxup tn m xxup kr o r u p x x q xxup br c xxwrep 4 u xxup he z p x m h q p s h a xxup xxunk m b xxup fyn xxup fz xxwrep 11 xxup ax xxup max xxwrep 5 xxup ax xxup xxunk xxwrep 8 a m xxup ud q z xxup um xxup xxunk h b a xxwrep 5 xxup ax xxup max xxwrep 8 xxup ax xxup as f f xxup pne t z e v f m l q xxup qax xxwrep 6 xxup ax n d j xxup nh j b d j xxup gq u m y h d d f xxup df k xxup vbdi c x xxup ax xxup ax xxup ax xxup max xxwrep 11 xxup ax g v g v g m xxup rlk xxup lk xxup rlk v xxup lk xxup rlk xxup rlk xxup rl d xxup rl q xxup xxunk xxup li xxup xxunk f q m d xxup xxunk xxup xxunk xxup xxunk x xxup xxunk xxup xxunk h q s s p s s q xxup ax xxup max xxwrep 14 xxup ax xxup max xxwrep 14 xxup ax xxup max xxwrep 14 xxup ax xxup max xxwrep 14 xxup ax xxup max xxwrep 14 xxup ax xxup mq q q xxwrep 12 xxup ax xxup max xxwrep 11 xxup ax xxup as xxup qq f xxup pl xxup mi xxup ei t w w xxup bhjn m xxup kn xxwrep 6 n xxup ey xxup ey xxup klj xxup gk m z v f f q q xxwrep 10 xxup ax xxup max xxwrep 14 xxup ax xxup max xxup tm xxup tn a q w p x xxup up l u u xxup mu r u z p x xxup gi xxup gy w xxup xxunk w m xxup th a xxup dq a b f xxup rw xxwrep 6 xxup ax xxup max xxwrep 10 xxup ax a a a m xxwrep 5 a c xxup xxunk xxup um xxup fyn xxup cz h b b d xxup max xxwrep 14 xxup ax xxup max xxup ax q q xxup qax xxwrep 8 xxup ax a n xxup jj m xxup kj xxup fj xxup gx h b d d d xxup di xxup di xxup tc w m e xxwrep 13 xxup ax xxup max a r o r o v e s k xxup rlk xxup rlk xxup xxunk xxup rlk xxup sq xxup qk xxup rlk xxup sq xxup sl m xxup xxunk q xxup xxunk f b xxup xxunk xxup xxunk xxup xxunk b xxup xxunk c xxup xxunk xxup xxunk xxup xxunk m q xxup qv g v c xxup xxunk xxwrep 10 xxup ax xxup max xxwrep 14 xxup ax xxup max xxwrep 14 xxup ax xxup max xxwrep 14 xxup ax xxup max xxwrep 14 xxup ax xxup max xxwrep 4 xxup ax xxup qq xxup qax xxwrep 8 xxup ax xxup max xxwrep 14 xxup ax xxup max xxup ax q f xxup nei t xxup ghj xxup kn n n f t f f xxup yf f f f m xxup yf f d xxup kn xxup kn xxup gk w t i e xxup pl v q xxup qax xxup ax xxup ax xxup ax xxup max xxwrep 14 xxup ax xxup max xxwrep 4 xxup ax xxup atm g u p xxup tl j p xxup au m u u c r xxup xxunk l u z p x xxup xxunk e h xxup ro xxup mt w s w s xxup th w s h a xxup du p a a xxup lm w xxup max xxwrep 14 xxup ax xxup max xxwrep 8 a xxup xxunk xxup tp e x xxup um xxup fyl m xxup cz h t xxup tti xxwrep 9 xxup ax xxup max xxwrep 14 xxup ax xxup max xxup ax xxup ax y xxup jh xxup ub xxup znh xxup xxunk d h y xxup gy h h m j t i xxup tc w o xxwrep 8 xxup ax xxup max xxwrep 5 xxup ax q r o a xxup rlk xxup rl k xxup hm l xxup mk q xxup sl q l xxup sl xxup xxunk l s f f l d xxup xxunk xxup xxunk b xxup zd xxup xxunk xxup ma xxup xxunk xxup xxunk w v e g v w x xxwrep 5 xxup ax xxup max xxwrep 14 xxup ax xxup max xxwrep 14 xxup ax xxup max xxwrep 14 xxup ax xxup max xxwrep 14 xxup ax xxup max xxwrep 9 xxup ax xxup qax xxwrep 4 xxup ax xxup max xxwrep 14 xxup ax xxup max xxwrep 5 xxup ax f z z xxup bj xxup nux xxup yf t xxup tm m xxup tm xxup tm f f f p xxup ey xxup ez n n n xxup lj xxup gizw w z m f xxup fq q q q xxwrep 10 xxup ax xxup max xxwrep 9 xxup ax xxup ap g u xxup tm m xxup tn o j u xxup au xxup fi u xxup hl i xxup xxunk xxup up l u u p x xxup mp xxup xxunk h xxup hk t w s xxup th h h h a xxup du a a m a xxup di xxup lm r xxwrep 10 xxup ax xxup max xxwrep 4 xxup ax xxup xxunk xxwrep 8 a xxup xxunk m xxup pw g xxup xxunk xxup fsx xxup cz h t xxup xxunk xxup tti xxwrep 4 xxup ax xxup max xxwrep 14 xxup ax xxup max xxwrep 7 xxup ax xxup zj xxup mk b xxup bnkj j i d j xxup xxunk u y xxup gx h c r c t xxup tc xxup wc xxup ax xxup ax xxup ax xxup max xxwrep 9 xxup ax xxup aq q r o r o r m p t g xxup dk l xxup sl xxup sl s xxup ql l xxup xxunk i j e f b m d xxup xxunk xxup xxunk xxup xxunk xxup xxunk xxup xxunk xxup xxunk xxup fhd xxwrep 4 q e s x xxup max xxwrep 14 xxup ax xxup max xxwrep 14 xxup ax xxup max xxwrep 14 xxup ax xxup max xxwrep 14 xxup ax xxup max xxwrep 14 xxup ax xxup mas xxup qax xxwrep 13 xxup ax xxup max xxwrep 9 xxup ax q z w z xxup bj m f d t q q xxup eq xxup tm v f d xxup uy xxwrep 4 n xxup ey xxup kn xxup mn n xxup bhj xxup biz m w z xxup ei v f l q q xxwrep 4 xxup ax xxup max xxwrep 14 xxup ax xxup mu u xxup tm d e xxup lk p j u u z xxup gg x q u xxup mj xxup up l u u p xxup xp xxup au d k xxup ro t s xxup th h xxup dy m y a d i a xxup di xxup di xxup di r u u q xxup ax xxup ax xxup max xxwrep 9 xxup ax xxup ql xxwrep 4 a m a a t a xxup ul xxup tg xxup xxunk xxup fsx xxup cz h h h xxup di m d xxup xxunk xxwrep 13 xxup ax xxup max xxwrep 11 xxup ax a q xxup jjh xxup mmk v b xxup kjz xxup fj xxup gy u xxup gy xxup gy e xxup we c r c m r c xxwrep 12 xxup ax m q o p q r xxup hst g xxup lk l xxup sl xxup sl xxup ql m u p xxup xxunk e f q xxup df xxup xxunk xxup znb p xxup mk xxup xxunk xxup fiv g v m g v g e v z xxwrep 10 xxup ax xxup max xxwrep 14 xxup ax xxup max xxwrep 14 xxup ax xxup max xxwrep 14 xxup ax xxup max xxwrep 14 xxup ax xxup max xxwrep 14 xxup ax xxup max xxwrep 14 xxup ax m f z xxup wwiz xxup bj f f f d q d xxup eq q xxup qtm f p xxup mn n n n xxup nuy p f d p xxup ex xxup uy n xxup mz m z e xxup pmf l q q m xxup qax xxwrep 13 xxup ax xxup max xxwrep 4 xxup ax y d d e xxup lk g w o j f xxup gg u xxup mj xxup yx xxup yup xxup nb xxup xxunk xxup xxunk l u u s xxup xp xxup xxunk xxup fyn xxup xxunk xxup ro xxup mt xxup th y p d u d q xxwrep 4 xxup di r u m xxup as xxwrep 11 xxup ax m xxup ql p xxwrep 4 a u u a xxup ql w xxup xg xxup xxunk xxup fsx m xxup cx h h h xxup di xxup di xxwrep 8 xxup ax xxup max xxwrep 14 xxup ax xxup max xxup ax p xxrep 4 j h v b xxup znh xxup xxunk i q u xxup gy xxup gy xxup xxunk xxup pw s c r xxwrep 7 xxup ax xxup max xxup ax xxup ax xxup ax xxup aq q o p q r o h h e xxup st xxup hm l m xxup sl xxup xxunk o u p xxup xxunk e f q xxup xxunk xxup xxunk b xxup mb p xxup mk h xxup ij xxup fi g e s v v xxup pd f xxwrep 5 xxup ax xxup max xxwrep 14 xxup ax xxup max xxwrep 14 xxup ax xxup max xxwrep 14 xxup ax xxup max xxwrep 14 xxup ax xxup max xxwrep 14 xxup ax xxup max xxwrep 14 xxup ax xxup max xxup ax xxup ax xxup as f i w z xxup bj xxup ex p t xxup tm xxup tm q d l m d d v p xxup uy f f t t xxwrep 5 f d xxup uy n xxup lj m m xxup wt i v xxup fq q xxwrep 8 xxup ax xxup max xxwrep 9 xxup ax xxup tm xxup tm y e xxup lk m w a xxup mn xxup iz xxup xxunk xxup bi xxup xxunk xxup giyu u u b x xxup mp xxup tm xxup fyn f xxup rlk xxup th xxup dy p xxup dy u t xxup ql xxup di m xxup di xxup di xxup di r u w xxup as q q xxwrep 5 xxup ax xxup max xxup ax xxup ax xxup ax a xxup ql xxup ql xxwrep 4 a u u r m xxup xg xxup xxunk xxup fsx xxwrep 4 xxup cx xxup di xxup di d xxup fax xxup ax xxup ax xxup max xxwrep 14 xxup ax xxup max xxwrep 5 xxup ax xxup xxunk xxup sn xxup xxunk xxup xxunk b xxup bnkj j b d m j xxup gq y xxup gy g q y c i xxup sq xxup ax xxup max xxwrep 8 xxup ax o q o xxup vo p r g v m xxup kp v e xxup st xxup hm xxup sq xxup sl s o xxup ei w p xxup co e f q m xxup jf xxup xxunk xxup yw c w p n h xxup aj n g v xxup en xxup fyn c v xxup pd f xxup max xxwrep 14 xxup ax xxup max xxwrep 14 xxup ax xxup max xxwrep 14 xxup ax xxup max xxwrep 14 xxup ax xxup max xxwrep 14 xxup ax xxup max xxwrep 14 xxup ax xxup max xxwrep 6 xxup ax q q f z xxup ghj xxup kn f t m t xxup tm xxup pl l d q xxup tct t xxup tct t xxup tct v xxup mf f p f p n xxup lj xxup gk t e xxup pl xxup pmf xxwrep 4 f l q xxup ax xxup ax xxup max q q xxup qq xxwrep 4 f xxwrep 5 q xxup ax xxup ax xxup ax xxup mu y e l o o xxup rn xxup giz a a q xxup ug m xxup zi xxup he u xxup xp xxup tm x xxup cz f xxup rlk xxup rlk u y xxup py m xxup dh u xxup tm i xxup di xxup di xxup di m u u w q xxup ax xxup max xxwrep 8 xxup ax l xxup ql a a a m a xxup du u u r xxup xg xxup xxunk xxup fyl xxwrep 4 xxup cx xxup cy m i xxup di xxup ih xxwrep 12 xxup ax xxup max xxwrep 10 xxup ax xxup ap n xxup xxunk m xxup xxunk b b xxup kjz i d j xxup gy xxup gy xxup gy xxwrep 4 s y m c i q r xxwrep 9 xxup ax xxup vo p m r g v g o q q xxup xxunk xxup udk l xxup sl xxup hl o u l xxup mp z xxup ch f f l j xxup xxunk xxup ryn xxup yw s w p n xxup fij g q m c v xxup vlv c v c v xxup vn xxwrep 10 xxup ax xxup max xxwrep 14 xxup ax xxup max xxwrep 14 xxup ax xxup max xxwrep 14 xxup ax xxup max xxwrep 14 xxup ax xxup max xxwrep 14 xxup ax xxup max xxwrep 9 xxup ax xxup as q xxup qq f xxup pne m xxup bhjnuy p f d q d u u l p d d q xxup mtm xxup tm xxwrep 4 f d xxup tm v f n xxup lj xxup biz m z xxup ei xxup ei e xxup mi xxup pl xxup pmfq q f xxup pl z xxup ei t t t xxup ei t t m z m z xxup pmf f f e k o o a o o m xxup xj a q x y xxup zi u p x xxup cz k xxup rlk m xxup rlk xxup rm y xxup py h u m xxup ql xxup di xxup di xxup hw u m xxup dl xxup jjj xxwrep 11 xxup ax t m xxup ql xxwrep 5 a xxup du u xxup xxunk g xxup tg xxup um xxup fyn xxup xxunk xxup cx xxup fyn xxup fyn xxup fsx d xxwrep 7 xxup ax xxup max xxwrep 14 xxup ax xxup xxunk q xxup ny xxup jj xxup nb xxup mk xxup xxunk b b z xxup fj h xxup gy xxup gy m e e xxup we c r c r xxup ivf l xxup xxunk xxwrep 5 xxup ax xxup max xxup ax e e v g v g v f p xxup xxunk xxup sl m xxup xxunk xxup uj o u p xxup hz xxup chz c k f f xxup jd s k xxup di xxup xxunk xxup fyn xxup ry xxup mw s n xxup fh e i s xxup en xxup fmk xxup vmk s v c xxwrep 5 xxup ax xxup max xxwrep 14 xxup ax xxup max xxwrep 14 xxup ax xxup max xxwrep 14 xxup ax xxup max xxwrep 14 xxup ax xxup max xxwrep 14 xxup ax xxup max xxwrep 10 xxup ax q xxup ax xxup ax q xxup mq f xxup pnei w xxup wwiz xxup bj f d w xxup tg d d xxup pl p p m d d q d xxup tct f f v t d f f d xxup uy xxup nrhj m xxup giz m w t xxup ei xxup ei xxup pmf f xxup pne xxup pl i xxup ei w w z xxup giz m xxup giz xxup giz xxup ghj xxup bj n m xxup ey xxup kn xxup ey n n w xxup to xxup py a xxup kp m q q o xxup xxunk xxup gg a xxup gg z x a b u u o xxup mp xxup cx xxup in t xxup lk xxup rlk xxup rlk xxup xxunk s h d h c d t l m i d xxup chz xxup xxunk u xxup ik c xxwrep 6 xxup ax xxup max xxup ax xxup ax xxup xxunk xxup tm xxup ql xxwrep 5 a xxup du k p xxup xxunk g w x xxup um xxup um xxup fyn xxup fyn xxup xxunk xxup xxunk xxup cy xxup ax xxup max xxwrep 14 xxup ax xxup max xxwrep 4 xxup ax xxup ev p d xxup jh z b xxup mk v b b z xxup fj m xxup gy xxup gph i r xxup hr c p c t t t xxup xxunk xxup sl r xxup max xxwrep 5 xxup ax xxup qt xxup rlk xxup rma a a xxup rlk p xxup vo g v m s xxup xxunk xxup xxunk o xxup uj o u p xxup chz p u xxup lq xxup jd xxup mi xxup dl xxup si xxup xxunk xxup fyn xxup fyw c xxup xxunk d xxup nxy v e s c v xxup fmk f xxup max xxwrep 14 xxup ax xxup max xxwrep 14 xxup ax xxup max xxwrep 14 xxup ax xxup max xxwrep 14 xxup ax xxup max xxwrep 14 xxup ax xxup max xxwrep 11 xxup ax xxup as xxup qq f f m l q q f z xxup ei xxup wwiz xxup giz xxup giz xxup bhj xxup kn xxup ex xxup yd t xxup tm xxup mtm q q q xxwrep 4 d q q xxup qtct xxwrep 4 f p m p p p xxup uy n xxup lj xxup biz xxup giz m z xxup ei l i e xxup pl i xxup ei xxup ei xxup mw xxup giz xxup kn xxup ey xxup ey xxup nuy p xxwrep 4 f t xxup tm v t t f f xxup mu m xxup pv a a a xxup vo xxup gg u xxup ma q u xxup xxunk xxup cx xxup ok t xxup lk xxup rlk xxup rlk xxup rl m y m xxup dh xxup hs t l t z xxup chz c p xxup hz u xxup max xxwrep 7 xxup ax s xxup hs xxup tm xxup ql a a m a a a xxup du k xxup xxunk xxup gw t xxup wb xxup gx xxwrep 5 xxup um d n xxup xxunk e c xxwrep 11 xxup ax xxup max xxwrep 8 xxup ax xxup nxy xxup xxunk h z b v xxup mmk b b b xxup znh j h e s t t xxup di xxup di m xxup di xxup xxunk q xxup sl xxup ax xxup ax xxup ax xxup as d r e m xxup tm xxup tm xxup md a q u s xxup xxunk xxup slqfbql o xxup ej o xxup khz xxup ch xxup mp p u y c xxup xxunk xxup di xxup xxunk w xxup fyn g b c xxup ma n d n n n s m g i s g c xxwrep 10 xxup ax xxup max xxwrep 14 xxup ax xxup max xxwrep 14 xxup ax xxup max xxwrep 14 xxup ax xxup max xxwrep 14 xxup ax xxup max xxwrep 14 xxup ax xxup mas l xxup pl l xxup pl i e t t w w z xxup giz xxup giz xxup giz xxup bhj xxup bhj m xxup kn xxup nuy xxup ey xxup yf f f t xxup tm xxwrep 4 q xxup tcv f f f d m xxup ez n n xxup nuy xxup ey p p f f p xxup kn n xxup lj xxup giz xxup bhj xxup gk t t m t i e xxup ghj xxup bj n m p f w xxup tct w xxup tm q q xxup eq q xxup fp xxup ml q xxup tm xxup tm xxup sw xxup tn k xxup kp xxup xxunk xxup ma xxup gg u p c p xxup nb u xxup ha z xxup xxunk t xxup mt k p s h xxup py xxup dh a m t xxup xxunk c p p xxup mu u u xxwrep 6 xxup ax a y xxup mm t l xxwrep 6 a xxup qk xxup um x w xxup wm xxup gx xxup mum xxup um xxup um xxup xxunk xxup xxunk xxup xxunk p t xxwrep 5 xxup ax xxup max xxwrep 12 xxup ax a n i m xxup xxunk d xxup fijh z xxup vmk b b b xxup znh xxup ij u y h xxup me xxup st xxup di xxup di xxup di xxup dp xxup di xxup xxunk xxup sq q xxup sq xxup mu u u r n xxup dle q s t xxup vl xxup sl xxup xxunk o xxup ej o t l p u y c xxup xxunk xxup xxunk w xxup ryn s xxup mb b n xxup bj n n d q e q v xxup en xxup dj xxwrep 5 xxup ax xxup max xxwrep 14 xxup ax xxup max xxwrep 14 xxup ax xxup max xxwrep 14 xxup ax xxup max xxwrep 14 xxup ax xxup max xxwrep 14 xxup ax xxup max xxup ax xxup ax xxup ax xxup qq f l z xxup ei xxup wwiz xxwrep 4 xxup giz xxup bhj m xxup bhj xxup bhj xxup biz m w z xxup bhj xxup bhj xxup bj n n xxup ey xxup ex p f t xxup tm w m t f d xxup uy xxup kn xxup nrhj xxup biz xxup ghj xxup kn n n xxup ey xxup yf f d f f xxup uy xxup ey xxup mn n n n xxup bhjn n xxup giz xxup giz xxup bhj xxup bj xxup nux f t t xxup tg q q d d xxup ml u xxup wm u u l d d d xxup pl s a xxup xxunk e xxup ma q xxup va a o h u p u x u xxup ha l m xxup sn xxup ob e a xxup at xxup lk v xxup tm y xxup py c xxup du m p a p p p u u u w w xxup zh xxup ax xxup ax xxup ax xxup max xxup ax l t m t l p xxwrep 6 a xxup xxunk xxup mum w t t xxup xxunk xxup gy xxup um d n xxup cz xxup xxunk u m z xxwrep 14 xxup ax xxup max xxup ax xxup ax n xxup cd xxup ap n r d xxup fj h z m xxup vmk b b b xxup znh j m u y h s o i p xxup di xxup di p xxup di xxup di xxup hm xxup rl q m q q e xxup xxunk v e xxup dl r r n r xxup xxunk u q m p t xxup udk xxup sl xxup hl o xxup ei xxup ql xxup ql u xxup xxunk xxup ib xxup mf xxup ij xxup xxunk b xxup xxunk b b c n i xxup cdy p a v e e s xxup ud v xxup xv xxup tj xxup max xxwrep 14 xxup ax xxup max xxwrep 14 xxup ax xxup max xxwrep 14 xxup ax xxup max xxwrep 14 xxup ax xxup max xxwrep 14 xxup ax xxup max xxwrep 7 xxup ax xxup qq f z t w z xxup giz m m w z xxup gk xxwrep 4 w t z xxwrep 4 t xxup wt w z m xxup bj n m f f p p p xxup kn xxup nrhj xxup biz xxup ghj xxup bhj xxup bhj xxup kn xxup mf f f f xxwrep 4 p xxup uy xxup ey xxup ey p t xxup tm q d m d p u xxup wmbxn q t n xxup bxn b xxup wm xxup wm n b xxup wm v xxup bxlt m e xxup lk xxup rl q o o a q u u xxup xxunk xxup xgg x xxup he xxup vql l xxup sl xxup tle e xxup rl m xxup tm m xxup th y xxup dh d xxup ql a a p a m u w xxup jh xxup xxunk f xxrep 5 j j xxup xxunk xxup fql t y xxup tm l p a a m a n n xxup mr i b xxup om xxup uh xxup gr g w t xxup wm xxup wm xxup gy xxup gy m xxup fsx j f xxup tu u x xxwrep 8 xxup ax xxup max xxwrep 6 xxup ax k xxup rm xxup aq n b d xxup fj h z b v xxup xxunk b b xxup kjz xxup fj xxup gq u y k s c i p xxup di p xxup hp m xxup di xxup gt g l q q xxup qd xxup xxunk j e xxup vy g r u k m m d e d s xxup ws e xxup xxunk l xxup qhl o xxup eh xxup sl xxup msl xxup sl v c y xxup ue b f b f xxup xxunk b xxup xxunk d n n e v m i xxwrep 4 s xxup xxunk xxwrep 10 xxup ax xxup max xxwrep 14 xxup ax xxup max xxwrep 14 xxup ax xxup max xxwrep 14 xxup ax xxup max xxwrep 14 xxup ax xxup max xxwrep 10 xxup ax xxup as xxup qq xxup qq f f m xxup pnei xxup wwizw xxup giz m xxup wwiz m z xxup gizw t z e xxup pl f f f m xxwrep 4 f l q i xxup wwhj xxup bj n n n m xxup ez n n xxup nuy n xxup lj xxup bhjn n m xxup bhj xxup bhj xxup bhjn n xxup ex p xxup ux xxwrep 4 p xxup yf f f f t xxup tg q m d p u xxup mbxn q t xxup tq g v g p g v g q q m t v p q xxup lk xxup rl xxup kp q q o a m q a xxup xxunk xxup ug xxup xgg u xxup hl xxup fql l xxup sl xxup xxunk r e k m xxup xxunk p m xxup tm s h xxup dy a t xxup ql a a a m n u xxrep 4 j c xxup xxunk xxup xxunk xxup xxunk xxup lb l a xxup fql t y u m t p a a a n a n xxup rn b xxup ok xxup um xxup mw t q xxup wi xxup gx xxup ub d l xxup cx xxup xxunk u v xxup ey xxup ax xxup ax xxup max xxwrep 10 xxup ax k o xxup ap q m xxup fj h z b xxup vmk b b xxup bnkj xxup fhd j xxup gq u y xxup mg s t m xxup di p xxup vmhm k xxup vbdi r c xxup xxunk q q xxup qd xxup gt g m n xxup tm u xxup xxunk xxup xxunk w y w q xxup pw o xxup ivbudk q m s l o xxup bl xxup ec w s xxup gp f b f xxup js xxup xxunk z b z xxup mb xxup cn n n xxup nxy xxup dy v q v e s s s xxup xxunk xxwrep 5 xxup ax xxup max xxwrep 14 xxup ax xxup max xxwrep 14 xxup ax xxup max xxwrep 14 xxup ax xxup max xxwrep 14 xxup ax xxup max xxwrep 13 xxup ax q xxup mq xxwrep 4 f l xxup pne t xxup giz xxup giz xxup giz m w z xxup giz xxup bhj xxup gizw m t xxup ei l l xxwrep 4 q f q f xxup nei z xxup giz xxup bhjn n xxup mn xxup lj xxup giz xxup giz xxup bhj xxup bhj xxup giz xxup giz xxup km p p xxwrep 7 f d m w xxup tg q d l xxup pl p v xxup bs q g xxup tq v g v xxup tq q q m v g v g p p q q q r b f xxup zl a x o e xxup ma a a o a xxup le xxup eo j xxup gg xxup up xxup he a l m a xxup sl xxup fy t xxup lk xxup al xxup xxunk xxup tm xxup xxunk xxup th y h t m xxup ql xxup ql a a xxup ql xxup xxunk xxup xxunk xxup dle e xxup xxunk e e xxup ql m a a l t xxup ty u t xxup ql xxwrep 5 a xxup vw xxup yj m n xxwrep 4 xxup um g x u u xxup gy xxup um d xxup cx xxup cy y e xxup my xxup sl xxup ey xxup si xxwrep 11 xxup ax m q q r o q xxup su y j j xxup kjz b xxup mk b b xxup znh j i d m j xxup gq u y v g v xxup di xxup dp xxup hm xxup tm xxup xxunk r c xxup xxunk xxup rl m xxup qk xxup xxunk c p e r xxup zi w o u l xxup cl xxup pwe m q s c xxup ivbudk q s l o s w h h xxup dy d y d m e xxup rs xxup fijh xxup xxunk xxup jd xxup nxy xxup dy xxup dy xxup ds g v q v i b p xxup max xxwrep 14 xxup ax xxup max xxwrep 14 xxup ax xxup max xxwrep 14 xxup ax xxup max xxwrep 14 xxup ax xxup max xxwrep 14 xxup ax xxup max xxup ax q l z xxup ei l z xxup ei t w xxup giz xxup giz xxup giz xxup bhj m xxup bhj xxup biz m w xxup wt i l l q xxwrep 5 f l q q m f i xxup wwiz xxup giz xxup giz m w t w t xxup xxunk p xxwrep 4 f xxup mf t xxup tm xxup tm xxup tm xxup tg xxup fpl m n xxup bxlt q g xxup tq q q q m q q q f b f b f b f b e b f b f b xxwrep 4 q f m o p k y v a g a a xxup rlk a a xxup ma p xxup xxunk m y j g xxup um xxup he a x x xxup fy t a xxup to u l xxup eq xxup tm t xxup mm y xxup dh t l xxup ql a a l xxup qy i xxup do a e m e k a xxup ql a l t h a t xxup ql a a m a a a xxup uh xxup xxunk b xxup fyn xxup um xxup um xxup um xxup wm xxup wmx xxup xxunk m xxup xxunk xxup cx xxup xxunk v c w xxup sf c xxwrep 4 xxup ax xxup max xxup ax xxup ax xxup lk xxup rlk u v q xxup qv g xxup xxunk xxup xxunk d xxup xxunk xxup xxunk b xxup mmk b xxup kjz xxup fj d i u y xxup gi v xxup di xxup dp xxup hm xxup lk d m xxup gtc xxup hst xxup hm xxup lk xxup rlk xxup xxunk c p e s xxup pi xxup sl o xxup wo m xxup sqk xxup wt f xxup pwe s s g l l xxup hl v xxup md p p m y p p p e q q j i z xxup jjji d n xxup cdy xxup ds xxup me g g xxup yp xxwrep 10 xxup ax xxup max xxwrep 14 xxup ax xxup max xxwrep 14 xxup ax xxup max xxwrep 14 xxup ax xxup max xxwrep 14 xxup ax xxup max xxwrep 6 xxup ax f i xxup ei xxup ei t z e t m t w xxup wwiz xxup bj n n xxup nrhj xxup biz xxup gk w z v xxup fq q f xxup pl m xxup pl l q q f f z t t i xxup ei e t w z xxup ghj xxup km m f t q d d d q d xxup fp v xxup tq g p q m r q r b f b f b f b f b f b f r g r g r g r f b f b f xxup mb f b f b f b f b f xxup lv c v a e e g o k m xxup rlk xxup rn xxup ma r xxup ma xxup qv v xxup vmk n x u xxup fy e xxup vx m a xxup tbxom xxup xxunk xxup tm t s h xxup dh xxup tm l xxup ql a a l m xxup ql m a a xxup xxunk p xxup kt xxup tm t xxup ql a q m h a m t xxup ql a a a n k b d xxup cx xxup fyn xxup fr xxup um xxup xxunk xxup gr xxup gg u z xxup ub d l xxup cx xxup cz y v xxup cy xxup xxunk p m c a w u w xxup to d e k q h xxup xxunk xxup xxunk xxup xxunk xxup vmk xxup bnkj j i d h xxup gy u xxup yz xxup ggb j g xxup xxunk i xxup xxunk xxup rlk xxup qd xxup gtc xxup hst k xxup ud l m c p m v xxup xxunk xxup xxunk o xxup jq xxup rl f s s e e w p g l xxup sl m xxup ql d s xxup nv u xxup ey p p p xxup dw e q xxup fyn q xxrep 5 j m xxrep 4 j xxrep 5 j d d y v xxup wa xxup xxunk xxwrep 5 xxup ax xxup max xxwrep 14 xxup ax xxup max xxwrep 14 xxup ax xxup max xxwrep 14 xxup ax xxup max xxwrep 14 xxup ax xxup max xxwrep 10 xxup ax xxup qq f z xxup ei w m t t t w z xxup gk w z xxup bj xxup nuy xxwrep 4 n xxup biz m z i m v f xxup ne t i f f xxup pl f f l q q q f xxup pl xxup pne t t m xxup bhjnuy xxup ex xxup yd w xxup fpl xxup pl xxup pl p d d l v m t p q r b q b f b f b f b g r f r g r g r g r g xxup mr g r g r g r g r g r f b f b f b f b f xxup lv xxup xxunk v g q m r o v h o a e r e xxup ma p r xxup ma xxup qv xxup ma xxup ml xxup bxn m n xxup fu n u a m u p q m xxup xxunk s h xxup ph t xxup mm xxup ql a a l xxup ql p xxup tm t m xxup tm m xxup tm xxup ql m a q m h a t xxup ql a a a m xxup max xxup xxunk xxup cz xxup xxunk xxup uh xxup gy xxup gy xxup wmx xxup xxunk xxup ub d l xxup cx xxup cz m d h xxup xxunk w xxup blk a xxup rw u xxup xxunk xxup lk m v k g u b d xxup fijh xxup nb xxup xxunk b xxup bnh xxup jf d j xxup xxunk xxup uax xxup ggb xxup xxunk t p xxup xxunk q xxup qd xxup gtc r c t k xxup vbtm m d w r c p s e xxup pi xxup xxunk o xxup jq xxup xxunk y xxup hr m i xxup we xxup st xxup hm xxup sq s xxup bq c v xxup vmk c xxup nv xxup se e p xxup dy xxup dy xxup me q xxup xxunk xxup xxunk o xxup xxunk c xxup nv xxup xxunk xxup xxunk q m xxwrep 14 xxup ax xxup max xxwrep 14 xxup ax xxup max xxwrep 14 xxup ax xxup max xxwrep 14 xxup ax xxup max xxwrep 14 xxup ax xxup mq z xxup ei e t t w xxup ghj xxup bj n n xxup kn n m xxup ey xxup ex p xxup uz m xxup gk w t t w z xxup bhj xxup gizw t xxup ei f f l q q xxup mq q f z xxup ei z xxup bj n n xxup ex xxup yd xxup tg q d d xxup pl xxup fp xxup ml xxup pl xxup wmbxlt q g p q r b f b f b f r g r g r g xxup mr g r d a a a xxup lg r g r g r g r g b f b f b f b f b f xxup xxunk xxup xxunk y g q e e a e xxup tm e p r xxup ma m w v a xxup xxunk s t xxup dk xxwrep 4 u e xxup vx u c xxup xxunk m xxup mm xxup xxunk s h xxup ph xxup tm xxup ql p a a xxup ql p xxup tm t m xxup tm l a q m xxup dh t xxup ql a m a a xxup uh z b e xxup ax xxup ax xxup cx xxup in xxup uh xxup gy xxup gy w t xxup xxunk m xxup um d l xxup cx xxup cx xxup xxunk c v c u xxup cd xxup lk v e m m w u xxup xxunk k xxup rlk xxup xxunk xxup gq u y b d xxup fijh xxup nb v m b xxup bnh xxup jf d j xxup gq xxup uax xxup xxunk n xxup xxunk q l m xxup kt r xxup xxunk xxup vbtm d xxup hi p c r s o i xxup xxunk o xxup ih m xxup xxunk w xxup we c r i xxup hst xxup hm l xxup ahl g xxup fxv xxup fynv m s g v g g e xxup xxunk q h p xxrep 4 j m xxup ik z xxup wa xxup xxunk e xxup pl f xxup fq xxup qax xxwrep 6 xxup ax xxup max xxwrep 14 xxup ax xxup max xxwrep 14 xxup ax xxup max xxwrep 14 xxup ax xxup max xxwrep 14 xxup ax xxup max xxwrep 4 xxup ax f z e t t w z xxup kn xxup nuy xxup yf f t v f d m f p p xxup ey n xxup lj xxup bhj xxup bhjn m xxup ey xxup nuy xxup ex xxup uz xxup biz xxup gk xxup wt xxup mi l xxwrep 7 f xxup pl i t t xxup ghjn m xxup yd q xxup ml u u xxup pl xxup xxunk g v g p xxwrep 4 q b f b f xxup mb g r g r g r g r g r d xxwrep 5 a xxup lg r g r f b f xxup mb f b f b f b f b f xxup xxunk xxup xxunk e g w e s s s p xxup mt xxup rlk l r xxup ya w v p xxup wf p x r c xxup fy xxup xxunk a m xxup mn xxup lc u xxup fx m t h xxup xxunk xxup tm xxup ql p a a m xxup fql xxup ql xxup tm m l a q xxup ph m xxup tm l p a a xxup hb xxup cx m xxup ax xxup ax xxup cx xxup cz xxup om xxup mum xxup gr xxup gy w t xxup xxunk xxup um d l xxup cx xxup cz xxup xxunk a h m xxup xxunk xxup lk xxup rma xxup ad xxup rw p d a xxup yj d g u y m b d xxup xxunk xxup nb xxup mk v b xxup znh xxup jf d j xxup gy xxup ax xxup ap b xxup mt xxup xxunk q d xxup hi t g xxup vbtm xxup tm xxup xxunk e c xxup pw m xxup wc xxup sl j o h xxup xxunk w c r c xxup st xxup idk xxup sl q xxup ml g v xxup yn c v c v xxup fynv d xxup ue e f g v g i e p xxup ey m xxrep 4 j j h xxup kj u xxup wax xxup xxunk z e xxup pl xxup pmfq q xxup max xxwrep 14 xxup ax xxup max xxwrep 14 xxup ax xxup max xxwrep 14 xxup ax xxup max xxwrep 14 xxup ax xxup max xxwrep 9 xxup ax e t xxup wwiz xxup kn n m xxup yd m d d xxup eq xxup tct t xxwrep 5 f d t w xxup tg q t m f xxup uz xxup nriz z xxup ei xxup pl xxup pl i xxup ei t xxup wt t i z xxup bj xxup mnuy xxup yf w d l u p u xxup lt v g p xxwrep 4 q xxup mb q q b f b f r g r g r g r g r g r g r g r a a a m a r g r g r g r g r f b f b f b f b f xxup xxunk xxup uo e e e f m q q o r e i i s k k p r d s xxup dy f xxup ij xxup te m r a p g xxup nt a l xxup lc u u c r c r y xxup xxunk xxup mm l xxup ql a a a l xxup ql m m l m a xxup fql s xxup dh m t xxup ql a a m h l xxup om xxup xxunk xxup max xxup ax xxup xxunk xxup cx xxup om xxup uh r xxup gwm w t xxup wmxg xxup um xxup cx xxup cz m xxup um xxup ub h xxup xxunk e xxup rma xxup ad m xxup tm h m xxup xxunk d xxup wo u y b d xxup ij j xxup nkh xxup mk b b xxup znh j i d j xxup xxunk xxup ax xxup ax xxup ax e xxup xxunk xxup at xxup xxunk q d xxup hi i k xxup tm xxup tm m w xxup vbf i e c w c g xxup sl j o h xxup xxunk xxup pw m c t xxup ud s l o d d xxup vlv c v xxup fyn n xxup nv e e e m g v g v e f xxup et xxrep 5 j xxup xxunk j xxup xxunk u xxup wax t z xxup mw t i xxup pl xxup pmf f f l xxwrep 7 xxup ax xxup max xxwrep 14 xxup ax xxup max xxwrep 14 xxup ax xxup max xxwrep 14 xxup ax xxup max xxwrep 14 xxup ax xxup mwwiz xxup kn xxup ex f w d l u xxup pl d d d l p p d d d m xxup eq d xxup eq xxup tct f z xxup gizw xxup xxunk xxup wt t xxup giz xxup bhj xxup biz xxup gk xxup mwt t xxup ghj xxup kn xxup ey p f w xxup fp u v xxup bxlt xxup tq xxup tq q m q r b f r b f b f b g r g r g r d xxwrep 5 a m xxwrep 5 a xxup lg r g r g r g r f b f b f b f b g r g xxup xxunk xxup vo e xxup ef e o r o xxup qv e e i e s xxup gi xxup ms d t xxup xxunk c p e i s d m g xxwrep 4 u c xxup mu c xxup th xxup dy xxup ph m t xxup ql p a a l xxup ql xxup tm m xxup tm l a xxup fql u xxup tm xxup ql m a u q o xxwrep 4 xxup ax xxup cz xxup om xxup uh xxup wm t xxup wmxg m xxup um d x b d xxup um xxup um xxup um xxup un n a a a m w m xxup bnh xxup cz d xxup wo u y xxup hd j xxup fj xxup kh xxup mk m b b xxup znkj j i d h xxup gy xxwrep 4 xxup ax xxup lk xxup qk xxup qd xxup mvbdi xxup xxunk xxup tm w xxup vmk e xxup we c xxup dm xxup ll j o xxup jq m xxup xxunk w xxup we e e xxup ivbud xxup rq xxup vl s s d xxup vmk xxup xxunk v xxup nx e g v q g e e y f xxup ey xxrep xxunk j v xxup mmk xxup xxunk u xxup wax t j xxup bizw w t i xxup ei xxup ei xxup ei xxup mf l q xxup max xxwrep 14 xxup ax xxup max xxwrep 14 xxup ax xxup max xxwrep 14 xxup ax xxup max xxwrep 14 xxup ax xxup max xxwrep 4 xxup ax xxup jn m f t xxup tg q p xxup wmbxn xxup bxom u u xxup wm m m xxup wm l xxup pl d d xxup eqtm v f xxup klj xxup bhj xxup kn n xxup lj xxup bj xxup mn xxwrep 5 n xxup giz xxup giz xxup ghj xxup bj xxwrep 6 n xxup id xxup fp u xxup mbxltq m p q q q b f b f b f b f b f b g r g r a a a m xxwrep 10 a r g r g r g r g b f xxup mb f b f b f b f b f xxup lv xxup fo e xxup ef xxwrep 5 e s s s m p q xxup en xxup fmk xxup sr xxup thu xxup dle k p a p e xxrep 4 j c xxup mu u u u c r n b h xxup dy xxup py u xxup tm xxup ql xxup ql p m a l xxup ql xxup tm w xxup tm xxup ql a xxup fql t y m c m xxup ql k m q xxup xxunk xxwrep 4 xxup ax xxup cn xxup om xxup xxunk xxup gwm t t xxup xxunk xxup um xxup ub xxup okz d xxup um xxup uh xxup mum xxup um d d d xxup cx h xxup xxunk xxup kj xxup cxd xxup xxunk xxup wo y m xxup hd d xxup fijh z v b xxup bnkj j xxup fj xxwrep 4 xxup ax xxup ma t e f xxup lk xxup rl xxup mvbdi xxup xxunk xxup tm k xxup vbdi e c m p xxup hm xxup ll j o xxup xxunk s s w s y xxup xxunk xxup rq xxup mv xxup en xxup fmk s xxup sx xxrep 4 j n n xxup ue g v w xxup ee e xxup dy f xxup et j m xxrep xxunk j w p xxup kj xxup wax t z n xxup lj xxup biz xxup gk w w m xxup wt t xxup ei l xxup pl v xxup fq q xxwrep 7 xxup ax xxup max xxwrep 14 xxup ax xxup max xxwrep 14 xxup ax xxup max xxwrep 14 xxup ax xxup max xxwrep 9 xxup ax xxup fp u m n xxup mq t xxup xxunk xxup bxn xxup bxn u p u p d xxup qtm t t xxup mf f f p p p xxup ey n n n xxup lj xxup bhj xxup bhjn m xxup ez n m xxup ex xxup yd m xxup fp xxup xn xxup bs q g p q q b f b g r g r a xxup lg r a m xxwrep 10 a xxup lg xxup mr g r f b f b f b e q r b e b f b f xxup vlv xxup xxunk f i m e p e s p p e xxup en f xxup pg s xxup lv c v f v s xxup kr m q o r xxup jjj u u r n xxup dm r e xxup tle y p xxup py a m xxup tm l xxwrep 4 xxup ql xxup tm s xxup hs t xxup ql m a xxup fql t h h m l p t a xxup ax xxup ax xxup max xxup ax xxup ax xxup xxunk xxup om xxup un xxup gw t t xxup wb xxup um xxup um d d xxup mum xxup um xxup um xxup um xxup ub d d x xxup cx h xxup xxunk xxup kj m xxup cxd xxup xxunk xxup wo xxup gy h d xxup xxunk z v b xxup bnkj xxup fj xxup max xxwrep 4 xxup ax xxup ap o d w xxup gt i k w xxup vbdi m xxup di xxup hr i xxup hm xxup ll j o xxup wo xxup rl f v xxup ms g l xxup qv g i p v xxup dv xxup fl xxup xxunk n xxup nx e v m g v e xxup dy xxup et xxrep 13 j i xxup nkjz b xxup kj xxup xxunk t x m f p xxup kn n n xxup biz xxup gk w xxup wt z xxup ei e xxup pl l xxup ax xxup ax xxup max xxwrep 14 xxup ax xxup max xxwrep 14 xxup ax xxup max xxwrep 14 xxup ax xxup max xxwrep 14 xxup ax q m xxup fp xxup wmbs xxup tq g v g xxup tb xxup wm xxup wm v xxup bxn xxup wm u u xxup pl xxup pl m xxup eq q d xxup qtct f d p p f xxup ey xxup ey xxup ey p p xxup mf f f d xxup tm q d l m xxup ltq p q b f b f r g r a a m xxwrep 13 a m a r g r g b f b q b f b q q b f b f b f b f m xxup vlv xxup xxunk y p xxup ee e v d y s p v xxup pd xxup xxunk v f m f xxwrep 4 e o o xxup xxunk u n xxup fyn xxup dm e m t p xxup py c m t l xxup ql xxup ql xxup ql p xxup tm s h m a m t xxup ql a xxup fql t xxup th xxup hs m l p m xxwrep 8 xxup ax xxup om xxup un xxup gw t w xxup wm xxup wb m xxwrep 7 xxup um xxup uh xxup um d xxup cx j xxup mh xxup nb xxup bu v xxup kj xxup cxd xxup xxunk xxup wo xxup gy h d xxup xxunk b v m b xxup bnkjz xxup xxunk xxwrep 6 xxup ax t a f m k m t t g xxup vmk t xxup di c r c p e q xxup hm xxup ll j o xxup wo xxup ml xxup sq xxup kt xxup lq s g l p p y g v xxup ed v xxup xxunk m xxup xxunk xxwrep 4 n p e e p p xxup xxunk xxrep 6 j xxup di xxup xxunk xxup mkh xxup kj xxup gx t x s xxup tm xxup tct f d xxup uz n n xxup nrhj xxup biz m t xxup ei e m xxup pl v xxup fq q xxwrep 11 xxup ax xxup max xxwrep 14 xxup ax xxup max xxwrep 14 xxup ax xxup max xxwrep 14 xxup ax xxup max xxwrep 4 xxup ax l n q xxup bxom u xxup wmbxn xxup bxom m xxup wm u l xxup pl d d d xxup eqtcv f xxup ey xxup ex xxwrep 4 f p m p p xxup yd q q d n t g p f b f r g xxup mr xxwrep 10 a m a a e a a r g r f b f b f b f b f xxup mb f b f b g r g r g xxup vlv j v v f e d v g g v m xxup xxunk xxup ek xxup an xxup mg v g v g i s p r v xxup lc xxup zl m xxup dle a t xxup lk a a y xxup dy a m t xxup ql xxup ql m xxup fql q m xxup xxunk s h c m t l p a xxup fql t xxup th m xxup hs m l l r xxup xxunk xxwrep 7 xxup ax a xxup xxunk t xxup wm xxup wb g y xxwrep 9 xxup um xxup mum d x xxup cx h h xxup znb u v xxup kj xxup cz d xxup gx m xxup hd d xxup xxunk xxup nb xxup xxunk b xxup bnkjz h xxup xxunk xxwrep 5 xxup ax xxup max xxup ax k y xxup xxunk xxup tc t xxup xxunk t i t xxup tc p v m xxup hm xxup ll j o u l xxup sq xxup xxunk s t xxup hm xxup sn p m p g xxup xxunk xxup xxunk xxwrep 4 n p xxup ue xxup ey y xxup dy p m f xxup xxunk xxup fij xxup ib xxup fijh xxup xxunk x t x t q xxup tm v f m xxup uy xxup kn xxup gizw z xxup ei xxup pmf f f f xxup fq xxup qax xxwrep 4 xxup ax xxup max xxwrep 14 xxup ax xxup max xxwrep 14 xxup ax xxup max xxwrep 14 xxup ax xxup max xxwrep 9 xxup ax xxup fp v xxup bxn xxup bxn xxup bxn xxup mbxom xxup wmbxn b xxup wm u u xxup pl xxwrep 4 d xxup qtct xxup uy xxup kn m xxup ex xxup yf f f xxup yf f f f d q xxup fpl xxup pl xxup pl u xxup lt p m q b f b g r g xxwrep 4 a m a a a r g xxup mr f b f b f b f r g r g r g xxup lg r d a xxup vo xxup hz k g v f e m p v g v g v xxup eup l xxup xxunk xxup yn xxup xxunk y v xxwrep 4 e q xxup ev xxup xv xxup mr l xxup xxunk xxup fynv xxup nv xxup ue a o r o p q h h u m xxup tm xxup ql xxup ql a l m t s h h m t l m p a xxup fql t xxup th xxup hs m xxup okz xxwrep 4 xxup ax xxup max xxwrep 4 xxup ax x w xxup wm r g y xxwrep 4 xxup um xxup mum xxwrep 5 xxup um d d xxup cx j h xxup kjz m u v xxup xxunk m xxup cx b d h d d xxup xxunk xxup nb xxup xxunk b xxup bnkjz h j xxup ax xxup max xxwrep 7 xxup ax a xxup xxunk c xxup st xxup di xxup gtc r xxup mc t xxup di t r p xxup dm xxup ll j o u l xxup ti w xxup ms t xxup hm p xxup ey h p g v xxup xxunk xxup xxunk c n n n xxup nx m xxup ue d p p p e xxup df b f xxup df xxup aj j m xxup ub xxup pt t m d q xxup qtm v f d xxup ey xxup kn xxup bizw z e v xxup fq q q xxup mq q xxwrep 13 xxup ax xxup max xxwrep 14 xxup ax xxup max xxwrep 14 xxup ax xxup max xxwrep 14 xxup ax m p u xxup wm xxup om xxup wm xxup wm u m u l xxup fpl u xxup pl xxup pl xxup pl m v xxwrep 7 f d xxup yd p f f f d xxup tg xxup pl xxup pl xxup pl m xxup wmbs xxup tq g p r b f r g r g r a a e m xxwrep 5 xxup di m a a xxup lg r g r g r g r g r g r g r xxwrep 4 a m xxup fo h b j xxup mf xxup ed g v v xxup xxunk xxup fi xxup hf s xxup se v i m p p n j n xxup xxunk s xxup nv p n xxup nx h xxup kr q m q a k xxup rlh xxup tm xxup ql xxup ql p a l q m xxup xxunk h m c m t l p a xxup fql t xxup th xxup hs m b n xxup xxunk xxwrep 9 xxup ax x w xxup wm r xxup gx xxup mum xxwrep 10 xxup um d d xxup cx h h n xxup xxunk m xxup ub z h x xxup fhd z b d d d xxup fijh xxup nb v xxup xxunk b b xxup xxunk xxwrep 9 xxup ax w xxup di m c xxup st xxup di xxup tc c t xxup di xxup tc e xxup st xxup dm xxup ll j o v m xxup vclk w r s t xxup ue xxup ey xxup ey h p f g n xxup jjj m xxup xxunk xxup vh n xxup xxunk p xxup py f s w d h d m m xxup xxunk xxup pt l d d d q xxup tct f d xxup ez xxup bhj m m t xxup ei l f q q xxwrep 10 xxup ax xxup max xxwrep 14 xxup ax xxup max xxwrep 14 xxup ax xxup max xxwrep 14 xxup ax xxup max xxwrep 4 xxup ax l xxup pl u u u l l xxup pl p xxup wm xxup mbxn xxup bxn xxup bxom u p xxup tm v xxwrep 5 f d xxup uz n m p f t q m d d l p u m xxup lt g v q b f b g r g xxwrep 4 a m xxwrep 4 a xxwrep 9 xxup di xxup mdi xxup di xxup di xxwrep 9 a m a a a xxup nih s v xxup mf i xxup dv c v xxup xxunk xxup fi m m xxup ulx p xxup se i s xxup ud n n n xxup xxunk xxup xxunk g xxup xxunk v f h n m xxup xxunk xxup vo o k t t xxup lk m t xxup ql xxup ql xxup ql m a l q m xxup tm a xxup tm t l p a xxup fql t xxup th m xxup hs m i t xxwrep 10 xxup ax xxup max w xxup wmxg y xxwrep 10 xxup um xxup mum d d xxup cx h xxup xxunk xxup um xxup ub z h xxup cxd b d m d d xxup fijh b xxup xxunk b b b xxup xxunk xxwrep 6 xxup ax xxup max xxup ax xxup ax xxup ax c xxup st xxup di i xxup hst t xxup tc xxup pw m xxup hst xxup hm xxup ll o v xxup vclk e q p xxup ue xxup ey xxup ey xxup me g v e xxup xxunk xxrep 5 j xxup xxunk j n n n y y p p v u m xxup gy b d m u t w t x xxwrep 4 d q m xxup tm d xxup ez xxup bizw t xxup ei l l q xxup qax xxwrep 4 xxup ax xxup max xxwrep 14 xxup ax xxup max xxwrep 14 xxup ax xxup max xxwrep 14 xxup ax xxup max xxwrep 9 xxup ax xxup fpl p u u l p xxup ml xxup pl l v xxup bxn t n u xxup tm xxup tcv f xxup ey xxup ey xxup mn m xxup yd q d xxup pl v v xxup tq q f b f r g xxup mr g r g xxwrep 6 a e xxup di xxup dm u u xxup mu u u u xxup di xxup di xxup di xxwrep 4 a m a a a e l h xxup xxunk xxup me e m xxup dv c xxup vv xxup vv xxup fi m q xxup ugiz g v i s xxup ud xxwrep 5 n xxup fxv xxup mr l s xxup spd v c n xxup nxy e y a h xxup xxunk t p t xxup mm l xxup ql xxup ql xxup ql xxup fql q m xxup tm xxup tm t l m p a xxup fql t xxup th xxup hs m k xxwrep 6 xxup ax xxup max xxwrep 5 xxup ax xxup wb xxup xxunk xxwrep 5 xxup um xxup mum xxwrep 5 xxup um d xxup cx h xxup xxunk u xxup ub z xxup mh xxup fhd xxup xxunk xxup fij xxup fijh z b xxup xxunk m b b xxup ax xxup ax xxup max xxwrep 8 xxup ax g xxup yc xxup st i e s xxup me c r c r xxup lq c t xxup xxunk xxup ll o v k xxup lk xxup xxunk c m v q w v g v g v g v g e e p n xxup xxunk c v xxrep 4 j xxup xxunk j n m i y p s u u u q d m u t w t x p xxup ml xxup pl xxwrep 4 d q xxup tcv f d xxup kn xxup gk w i l f f m l xxup qax xxwrep 13 xxup ax xxup max xxwrep 14 xxup ax xxup max xxwrep 14 xxup ax xxup max xxwrep 14 xxup ax xxup ml xxup wm xxup wm u u u m xxup wmbxlt t t n p d xxup mtm f d p p xxup ex f w xxup tm q xxup fpl xxup pl xxup lt q g p q m q f b f r f b g r g r g r g r xxwrep 4 a e xxup mdi xxwrep 8 u xxup di xxup di xxup di m a a xxup di xxup di xxup mdi j xxup vlv xxup md u xxup dv c v c v xxup mg xxup nb z p xxup uj xxup yx g m i n n j xxup xxunk xxup vl o s xxup xxunk n xxup cdy e e a v e m k xxup rlk xxup rlk a a xxwrep 5 xxup ql m xxup tm xxup tm m xxup tm l p a xxup fql t h h u xxup ax xxup ax xxup max xxwrep 11 xxup ax xxup wb g xxup um xxup mum xxwrep 9 xxup um xxup ub d xxup cz h xxup nm u xxup mm xxup ub z h xxup xxunk d xxup fij xxup fij xxup fj h z v xxup xxunk b xxwrep 9 xxup ax e xxup ds v m g xxup vo f t r s s e q c xxup ivbud xxup xxunk o v m k l m xxup gtc e s d p e e p xxwrep 6 n m n n c xxup xxunk xxup xxunk v i xxup lq y s xxup gv xxup xxunk d m m u t t l xxwrep 4 xxup pl d d d xxup eq xxup qtm m d xxup uz xxup gk z e v f l q xxwrep 8 xxup ax xxup max xxwrep 14 xxup ax xxup max xxwrep 14 xxup ax xxup max xxwrep 14 xxup ax xxup max xxwrep 4 xxup ax n xxup bxn xxup bxom xxup wm xxup wm xxup wmbxlt t t t xxup mbxn p d xxup tm v t t q q d xxup pl xxup lt m p q f b f b f b f b f b f b f b f b f r g r g r d xxup mr g a a xxup di u u u d m xxwrep 5 u xxup mdi xxup di xxup di xxup mdi xxwrep 5 xxup di j xxup vlv xxup mg v xxup dv xxup mg c v xxup mfc xxup el m u u xxup yx a e d n xxup xxunk xxup xxunk xxup pd s s v b m xxup ce p a v e s d v xxup ea xxup ad xxup tm r o xxwrep 4 xxup ql m xxup ql m xxwrep 4 xxup tm t xxup ql a xxup fql t h m xxup dh xxup dr l xxwrep 12 xxup ax xxup max xxup ax xxup wb xxwrep 9 xxup um xxup uh xxup mum xxup ub d xxup cz h xxup xxunk u xxup ma xxup ub z h x xxup fr xxup xxunk y j m xxup fij xxup fij xxup fj h z xxup xxunk xxwrep 5 xxup ax n m xxup dse v g v g v e xxup vo r r c w e w s xxup ws s m g l s l j xxup ei l xxup xxunk m xxup ic e v e v g v g v g xxup mv xxup en c xxup xxunk c v c v c v xxrep 6 j xxup jj xxup xxunk xxup kt f y s m s s c q xxup gr d u u t t xxwrep 5 u xxup pl m xxwrep 4 d xxup qtm d n xxup gizwt e xxup pl l q xxup ax xxup ax xxup max xxwrep 14 xxup ax xxup max xxwrep 14 xxup ax xxup max xxwrep 14 xxup ax xxup max xxwrep 9 xxup ax xxup bxn xxup bxn xxup wm xxup wm n m t xxup tbxn xxup bxn b xxup wm u q xxup tm q q d d d xxup ml xxup pl u xxup ltq g xxup tq f b f b f b f b f b f b f b f b f xxup mb q q q f b g r g a xxup dm u u d d d u xxup mu u u u xxup di xxup di xxup de m xxwrep 7 xxup di xxup de t xxup xxunk g v e m xxup dv xxup mg v v c v xxup el u b xxup lx xxup yx a xxup xxunk v v xxrep 8 j m xxup pg s s xxup xxunk n xxup xy xxup qv g c v xxup fyn r m w m w xxup ql xxup ql xxup ql m xxup tm t xxup tm xxup tm xxup ql m a xxup fql t h xxup gk c k d xxup xxunk xxup yn xxup se q xxup vax xxup ax xxup max xxwrep 7 xxup ax xxwrep 7 xxup um xxup mum xxup um xxup um xxup uh xxup um xxup ub d j xxup kk xxup um xxup kjz xxup mh z xxup xxunk j xxup fij xxup fij xxup fj h z xxup xxunk xxup ax xxup ek s v f n xxup mv xxup nv xxup gn a s e y g v i s f e v g v g v q q m xxwrep 4 s y xxup js l l xxup ei l xxup tb xxup xxunk p a v m e v xxup en c v c n xxup fyn xxup nz xxrep 8 j xxup xxunk l m xxup xxunk xxup we s s f xxup gy xxup gr d j u xxup um w u xxup wm m xxwrep 4 xxup wm u l p d d d q xxup tct f d xxup ez xxup biz xxup mw i l l q xxwrep 11 xxup ax xxup max xxwrep 14 xxup ax xxup max xxwrep 14 xxup ax xxup max xxwrep 14 xxup ax m xxup mbxom xxup wm m xxup wm v xxup bxn xxup bxn xxup bxn xxup tbxn d d p xxup ml p d d l m xxup wm xxup wm n p r b g r g r g b f b f xxup mb f b f b q p p p v g v r b f r d e xxup dm u u xxup mu d xxwrep 5 u xxup di xxup di xxup di m xxup di xxup di xxup di e m a xxup eo xxup xxunk g v d e xxup dv xxup mg v v c v xxup el u f h m xxup xxunk u xxrep 8 j r l s s xxup xxunk d d xxup xxunk xxup mv xxup xv xxup fyn xxup fyn r xxup mk w xxup xxunk p xxup ql p f d xxup tm m xxup ql a a xxup fql xxup tm xxup zq c k h xxup ek xxup fxe m a xxup ve xxwrep 4 s xxup rlk p e xxup ax xxup ax xxup ax a xxup um xxup mum xxup um xxup um xxup um xxup uh xxwrep 5 xxup um xxup ub j xxup kk u m m xxup kj xxup fhd xxup gq xxup xxunk j xxup fij xxup fij xxup fj h z v m k d xxup spd s v xxup mg x xxup dse v g v g v i e g v m g v g v g v g v s s q u u xxup idk b p xxup ei xxup ml o d a e u g e e p v xxup gn j v xxup fyn xxrep 6 j j m xxrep 4 j k xxup bql l xxup xxunk u r u p f b f d i xxup gr d xxmaj end part, Text xxbos xxmaj the file contents xxunk xxmaj knowledge xxmaj media xxmaj resource xxmaj library xxmaj graphics xxmaj knowledge xxmaj media xxmaj resource xxmaj library xxmaj audio]...\n",
              "Path: .;\n",
              "\n",
              "Test: None"
            ]
          },
          "metadata": {
            "tags": []
          },
          "execution_count": 44
        }
      ]
    },
    {
      "cell_type": "code",
      "metadata": {
        "id": "mf4PJ7rVPA5b",
        "colab_type": "code",
        "outputId": "36d8b178-6f6b-4ba9-8a63-8cad99ac8726",
        "colab": {
          "base_uri": "https://localhost:8080/",
          "height": 94
        }
      },
      "source": [
        "# train the learner object with learning rate = 1e-2\n",
        "learn.fit_one_cycle(1, 1e-2)"
      ],
      "execution_count": 0,
      "outputs": [
        {
          "output_type": "display_data",
          "data": {
            "text/html": [
              "Total time: 00:40 <p><table style='width:300px; margin-bottom:10px'>\n",
              "  <tr>\n",
              "    <th>epoch</th>\n",
              "    <th>train_loss</th>\n",
              "    <th>valid_loss</th>\n",
              "    <th>accuracy</th>\n",
              "  </tr>\n",
              "  <tr>\n",
              "    <th>1</th>\n",
              "    <th>5.619023</th>\n",
              "    <th>4.919724</th>\n",
              "    <th>0.242994</th>\n",
              "  </tr>\n",
              "</table>\n"
            ],
            "text/plain": [
              "<IPython.core.display.HTML object>"
            ]
          },
          "metadata": {
            "tags": []
          }
        }
      ]
    },
    {
      "cell_type": "code",
      "metadata": {
        "id": "t0WnuOIBPGNL",
        "colab_type": "code",
        "colab": {}
      },
      "source": [
        "learn.save_encoder('ft_enc')"
      ],
      "execution_count": 0,
      "outputs": []
    },
    {
      "cell_type": "code",
      "metadata": {
        "id": "pV4s1CfFPGtC",
        "colab_type": "code",
        "colab": {}
      },
      "source": [
        "learn = text_classifier_learner(data_clas, drop_mult=0.7)\n",
        "learn.load_encoder('ft_enc')"
      ],
      "execution_count": 0,
      "outputs": []
    },
    {
      "cell_type": "code",
      "metadata": {
        "id": "x2dLQcNZPK0f",
        "colab_type": "code",
        "outputId": "ef008e2c-9881-4b70-a8a1-f67480629a28",
        "colab": {
          "base_uri": "https://localhost:8080/",
          "height": 94
        }
      },
      "source": [
        "learn.fit_one_cycle(1, 1e-2)"
      ],
      "execution_count": 0,
      "outputs": [
        {
          "output_type": "display_data",
          "data": {
            "text/html": [
              "Total time: 02:02 <p><table style='width:300px; margin-bottom:10px'>\n",
              "  <tr>\n",
              "    <th>epoch</th>\n",
              "    <th>train_loss</th>\n",
              "    <th>valid_loss</th>\n",
              "    <th>accuracy</th>\n",
              "  </tr>\n",
              "  <tr>\n",
              "    <th>1</th>\n",
              "    <th>1.570720</th>\n",
              "    <th>1.489627</th>\n",
              "    <th>0.382520</th>\n",
              "  </tr>\n",
              "</table>\n"
            ],
            "text/plain": [
              "<IPython.core.display.HTML object>"
            ]
          },
          "metadata": {
            "tags": []
          }
        }
      ]
    },
    {
      "cell_type": "code",
      "metadata": {
        "id": "cNYh6SVbPLQ6",
        "colab_type": "code",
        "outputId": "529ccd1d-a9d0-4344-a98c-2084a96e2898",
        "colab": {
          "base_uri": "https://localhost:8080/",
          "height": 233
        }
      },
      "source": [
        "# get predictions\n",
        "preds, targets = learn.get_preds()\n",
        "\n",
        "predictions = np.argmax(preds, axis = 1)\n",
        "pd.crosstab(predictions, targets)"
      ],
      "execution_count": 0,
      "outputs": [
        {
          "output_type": "execute_result",
          "data": {
            "text/html": [
              "<div>\n",
              "<style scoped>\n",
              "    .dataframe tbody tr th:only-of-type {\n",
              "        vertical-align: middle;\n",
              "    }\n",
              "\n",
              "    .dataframe tbody tr th {\n",
              "        vertical-align: top;\n",
              "    }\n",
              "\n",
              "    .dataframe thead th {\n",
              "        text-align: right;\n",
              "    }\n",
              "</style>\n",
              "<table border=\"1\" class=\"dataframe\">\n",
              "  <thead>\n",
              "    <tr style=\"text-align: right;\">\n",
              "      <th>col_0</th>\n",
              "      <th>0</th>\n",
              "      <th>1</th>\n",
              "      <th>2</th>\n",
              "      <th>3</th>\n",
              "      <th>4</th>\n",
              "    </tr>\n",
              "    <tr>\n",
              "      <th>row_0</th>\n",
              "      <th></th>\n",
              "      <th></th>\n",
              "      <th></th>\n",
              "      <th></th>\n",
              "      <th></th>\n",
              "    </tr>\n",
              "  </thead>\n",
              "  <tbody>\n",
              "    <tr>\n",
              "      <th>0</th>\n",
              "      <td>6</td>\n",
              "      <td>3</td>\n",
              "      <td>2</td>\n",
              "      <td>2</td>\n",
              "      <td>5</td>\n",
              "    </tr>\n",
              "    <tr>\n",
              "      <th>1</th>\n",
              "      <td>24</td>\n",
              "      <td>44</td>\n",
              "      <td>13</td>\n",
              "      <td>9</td>\n",
              "      <td>28</td>\n",
              "    </tr>\n",
              "    <tr>\n",
              "      <th>2</th>\n",
              "      <td>12</td>\n",
              "      <td>29</td>\n",
              "      <td>56</td>\n",
              "      <td>23</td>\n",
              "      <td>6</td>\n",
              "    </tr>\n",
              "    <tr>\n",
              "      <th>3</th>\n",
              "      <td>66</td>\n",
              "      <td>75</td>\n",
              "      <td>97</td>\n",
              "      <td>126</td>\n",
              "      <td>34</td>\n",
              "    </tr>\n",
              "    <tr>\n",
              "      <th>4</th>\n",
              "      <td>67</td>\n",
              "      <td>26</td>\n",
              "      <td>9</td>\n",
              "      <td>14</td>\n",
              "      <td>105</td>\n",
              "    </tr>\n",
              "  </tbody>\n",
              "</table>\n",
              "</div>"
            ],
            "text/plain": [
              "col_0   0   1   2    3    4\n",
              "row_0                      \n",
              "0       6   3   2    2    5\n",
              "1      24  44  13    9   28\n",
              "2      12  29  56   23    6\n",
              "3      66  75  97  126   34\n",
              "4      67  26   9   14  105"
            ]
          },
          "metadata": {
            "tags": []
          },
          "execution_count": 50
        }
      ]
    },
    {
      "cell_type": "code",
      "metadata": {
        "id": "6pE85lHJmTbK",
        "colab_type": "code",
        "colab": {}
      },
      "source": [
        "# {0: 4, 1: 1, 2: 2, 3: 5, 4: 3}\n",
        " # 1=comp.graphic, 2= comp.os.ms-windows.misc, 3 = comp.sys.ibm.pc.hardware, 4 = comp.sys.mac.hardware, 5=comp.windows.x, \n"
      ],
      "execution_count": 0,
      "outputs": []
    },
    {
      "cell_type": "code",
      "metadata": {
        "id": "1CZBXs4wmUpU",
        "colab_type": "code",
        "colab": {}
      },
      "source": [
        "table = pd.crosstab(predictions, targets)\n",
        "for i in table:\n",
        "  index_to_label = dic\n",
        "  table.targets[i] = dic[]\n",
        "  \n",
        "  "
      ],
      "execution_count": 0,
      "outputs": []
    },
    {
      "cell_type": "code",
      "metadata": {
        "id": "YoydqmDIibFA",
        "colab_type": "code",
        "outputId": "44e44171-f155-418e-88a4-335ad7a09fcc",
        "colab": {
          "base_uri": "https://localhost:8080/",
          "height": 780
        }
      },
      "source": [
        "learn.get_preds()"
      ],
      "execution_count": 0,
      "outputs": [
        {
          "output_type": "execute_result",
          "data": {
            "text/plain": [
              "[tensor([[0.1220, 0.1047, 0.5156, 0.1435, 0.1141],\n",
              "         [0.1395, 0.1604, 0.3910, 0.1552, 0.1540],\n",
              "         [0.1441, 0.1445, 0.4326, 0.1450, 0.1339],\n",
              "         ...,\n",
              "         [0.1736, 0.0745, 0.0351, 0.3823, 0.3345],\n",
              "         [0.1736, 0.0745, 0.0351, 0.3823, 0.3345],\n",
              "         [0.1736, 0.0745, 0.0351, 0.3823, 0.3345]]),\n",
              " tensor([1, 1, 1, 1, 4, 1, 4, 4, 2, 0, 4, 1, 4, 0, 0, 4, 4, 2, 0, 1, 3, 2, 3, 1,\n",
              "         2, 3, 0, 0, 0, 0, 2, 1, 0, 1, 4, 2, 2, 4, 1, 3, 2, 3, 1, 3, 2, 4, 2, 1,\n",
              "         0, 3, 1, 4, 2, 2, 0, 4, 4, 4, 4, 3, 4, 2, 2, 1, 4, 4, 0, 1, 1, 4, 4, 4,\n",
              "         1, 2, 4, 0, 4, 3, 0, 0, 0, 4, 2, 3, 0, 4, 4, 2, 2, 4, 3, 3, 1, 0, 1, 2,\n",
              "         2, 1, 1, 2, 4, 1, 4, 3, 3, 0, 0, 4, 1, 2, 4, 4, 3, 0, 4, 1, 3, 2, 3, 2,\n",
              "         4, 1, 3, 1, 1, 4, 4, 1, 0, 2, 1, 0, 0, 4, 4, 2, 4, 1, 1, 2, 2, 3, 3, 2,\n",
              "         3, 2, 3, 4, 4, 3, 1, 0, 3, 4, 2, 0, 4, 0, 0, 2, 4, 0, 3, 4, 0, 0, 4, 3,\n",
              "         4, 3, 1, 2, 3, 4, 3, 3, 0, 4, 2, 3, 0, 2, 1, 2, 4, 2, 0, 0, 1, 0, 0, 3,\n",
              "         0, 3, 3, 0, 1, 1, 4, 3, 1, 4, 1, 3, 4, 3, 3, 4, 2, 1, 2, 2, 0, 1, 1, 3,\n",
              "         2, 3, 0, 1, 2, 4, 2, 3, 2, 1, 1, 4, 4, 1, 4, 2, 4, 4, 1, 2, 2, 0, 1, 4,\n",
              "         1, 3, 0, 2, 2, 2, 1, 3, 2, 1, 2, 1, 0, 2, 3, 0, 3, 0, 3, 2, 2, 3, 0, 4,\n",
              "         3, 2, 1, 2, 4, 2, 2, 1, 3, 4, 0, 2, 2, 1, 4, 2, 2, 3, 3, 3, 3, 4, 2, 1,\n",
              "         2, 0, 3, 3, 4, 1, 2, 3, 4, 2, 0, 2, 2, 0, 0, 3, 0, 4, 3, 2, 4, 4, 2, 1,\n",
              "         3, 3, 1, 1, 3, 1, 2, 0, 3, 3, 2, 4, 3, 0, 4, 3, 0, 4, 2, 1, 3, 2, 0, 2,\n",
              "         3, 0, 3, 0, 0, 4, 1, 1, 2, 3, 3, 2, 3, 4, 3, 2, 2, 2, 3, 2, 2, 2, 4, 1,\n",
              "         2, 0, 4, 2, 1, 1, 2, 0, 2, 4, 4, 4, 2, 0, 3, 3, 0, 4, 0, 0, 1, 0, 1, 0,\n",
              "         1, 0, 1, 0, 1, 1, 4, 0, 0, 0, 1, 2, 1, 3, 1, 3, 1, 1, 0, 2, 2, 4, 1, 1,\n",
              "         3, 2, 2, 1, 3, 1, 1, 0, 2, 1, 3, 0, 4, 1, 1, 3, 3, 2, 2, 4, 4, 2, 3, 1,\n",
              "         1, 0, 2, 0, 4, 2, 3, 4, 3, 4, 2, 3, 1, 1, 0, 3, 2, 0, 4, 1, 3, 4, 2, 2,\n",
              "         4, 0, 3, 4, 3, 3, 4, 1, 3, 0, 2, 1, 1, 0, 4, 2, 3, 0, 1, 1, 1, 0, 3, 1,\n",
              "         2, 3, 2, 2, 3, 3, 0, 1, 4, 4, 3, 0, 4, 2, 0, 3, 2, 3, 3, 2, 4, 4, 4, 1,\n",
              "         2, 2, 2, 3, 0, 4, 0, 4, 4, 2, 4, 0, 1, 3, 3, 2, 3, 4, 4, 1, 2, 1, 0, 3,\n",
              "         3, 1, 3, 1, 4, 1, 0, 2, 2, 1, 4, 3, 2, 0, 4, 3, 0, 3, 4, 2, 0, 4, 2, 4,\n",
              "         4, 0, 3, 4, 3, 4, 2, 4, 0, 1, 1, 1, 0, 2, 4, 1, 2, 2, 2, 2, 1, 1, 2, 2,\n",
              "         4, 0, 0, 2, 0, 3, 0, 3, 2, 3, 4, 0, 1, 1, 3, 0, 3, 4, 1, 3, 1, 0, 2, 2,\n",
              "         1, 3, 4, 3, 0, 0, 1, 3, 1, 2, 2, 4, 1, 3, 1, 0, 4, 1, 2, 0, 0, 3, 1, 1,\n",
              "         4, 3, 3, 4, 1, 1, 3, 4, 1, 0, 0, 0, 2, 0, 3, 2, 2, 2, 4, 0, 1, 0, 2, 2,\n",
              "         0, 1, 0, 0, 1, 3, 0, 1, 3, 1, 4, 4, 0, 4, 3, 0, 2, 0, 2, 4, 4, 0, 3, 1,\n",
              "         2, 0, 0, 3, 3, 1, 3, 3, 0, 4, 0, 2, 1, 1, 2, 3, 1, 0, 4, 4, 0, 4, 2, 4,\n",
              "         3, 3, 4, 2, 4, 0, 4, 0, 1, 3, 0, 3, 0, 1, 2, 4, 3, 3, 0, 0, 0, 2, 2, 4,\n",
              "         0, 1, 4, 1, 1, 0, 1, 3, 1, 3, 3, 1, 0, 1, 4, 3, 3, 4, 0, 0, 2, 2, 3, 4,\n",
              "         4, 1, 0, 0, 3, 4, 2, 4, 3, 3, 0, 1, 3, 0, 2, 4, 3, 2, 0, 4, 0, 0, 2, 2,\n",
              "         2, 0, 3, 2, 1, 3, 0, 0, 2, 2, 2, 4, 0, 1, 1, 2, 0, 1, 4, 3, 0, 4, 1, 4,\n",
              "         4, 1, 4, 3, 0, 3, 4, 1, 1, 2, 3, 1, 0, 0, 1, 4, 0, 1, 2, 0, 4, 2, 3, 4,\n",
              "         4, 0, 3, 4, 0, 2, 1, 0, 2, 4, 4, 0, 4, 4, 2, 3, 0, 3, 0, 3, 3, 3, 4, 0,\n",
              "         3, 3, 1, 4, 2, 2, 4, 4, 4, 1, 1, 1, 0, 1, 0, 1, 0, 4, 4, 1, 3, 0, 4, 3,\n",
              "         3, 1, 3, 2, 0, 1, 1, 1, 1, 1, 0, 1, 2, 0, 3, 4, 1])]"
            ]
          },
          "metadata": {
            "tags": []
          },
          "execution_count": 49
        }
      ]
    },
    {
      "cell_type": "code",
      "metadata": {
        "id": "-5dETOL7SGwd",
        "colab_type": "code",
        "outputId": "1f784b86-58a8-4c07-fd85-c071ecce1a8c",
        "colab": {
          "base_uri": "https://localhost:8080/",
          "height": 659
        }
      },
      "source": [
        "predictions"
      ],
      "execution_count": 0,
      "outputs": [
        {
          "output_type": "execute_result",
          "data": {
            "text/plain": [
              "tensor([2, 2, 2, 2, 4, 2, 4, 4, 2, 2, 4, 2, 2, 4, 4, 4, 4, 2, 0, 1, 2, 2, 0, 0,\n",
              "        2, 3, 0, 4, 4, 0, 0, 1, 2, 2, 4, 3, 2, 4, 2, 3, 2, 2, 3, 1, 2, 4, 2, 2,\n",
              "        4, 3, 1, 4, 2, 1, 3, 4, 0, 4, 4, 2, 0, 2, 2, 3, 4, 1, 3, 1, 1, 4, 4, 1,\n",
              "        1, 3, 4, 1, 4, 2, 4, 1, 0, 4, 1, 3, 4, 1, 0, 3, 2, 1, 3, 3, 3, 1, 2, 3,\n",
              "        2, 2, 1, 1, 4, 1, 4, 3, 3, 2, 4, 4, 2, 1, 4, 1, 3, 0, 1, 1, 1, 3, 1, 3,\n",
              "        4, 1, 2, 4, 2, 4, 4, 3, 3, 2, 2, 1, 1, 1, 1, 3, 2, 1, 2, 2, 2, 3, 2, 3,\n",
              "        3, 2, 3, 4, 1, 3, 1, 4, 3, 4, 2, 4, 3, 4, 1, 3, 2, 4, 3, 1, 2, 1, 4, 3,\n",
              "        4, 3, 1, 3, 2, 4, 2, 3, 3, 4, 3, 1, 4, 0, 1, 2, 3, 3, 3, 1, 1, 4, 3, 3,\n",
              "        3, 3, 3, 4, 3, 1, 1, 3, 1, 4, 4, 3, 4, 2, 3, 4, 1, 1, 3, 2, 3, 3, 2, 3,\n",
              "        2, 0, 4, 1, 3, 1, 2, 3, 3, 3, 1, 4, 3, 2, 1, 2, 1, 4, 1, 3, 3, 3, 1, 4,\n",
              "        4, 3, 3, 2, 3, 3, 2, 3, 2, 1, 1, 3, 4, 3, 3, 4, 3, 1, 3, 3, 3, 3, 2, 1,\n",
              "        3, 2, 1, 2, 4, 2, 3, 2, 3, 1, 3, 2, 2, 3, 4, 3, 2, 3, 3, 3, 2, 1, 2, 3,\n",
              "        2, 1, 3, 3, 4, 1, 1, 3, 3, 2, 1, 3, 2, 3, 1, 1, 3, 1, 2, 3, 4, 4, 4, 1,\n",
              "        3, 3, 3, 1, 2, 4, 3, 3, 2, 3, 3, 4, 1, 1, 1, 3, 2, 1, 1, 3, 3, 2, 2, 3,\n",
              "        3, 4, 3, 3, 4, 4, 4, 3, 3, 3, 3, 3, 3, 1, 3, 2, 2, 2, 3, 3, 3, 2, 4, 1,\n",
              "        3, 3, 4, 3, 3, 1, 3, 3, 3, 3, 2, 3, 2, 3, 3, 3, 1, 3, 4, 3, 3, 3, 3, 4,\n",
              "        1, 1, 3, 1, 1, 1, 4, 3, 4, 3, 1, 3, 4, 2, 1, 3, 3, 2, 1, 2, 1, 3, 3, 3,\n",
              "        3, 3, 2, 1, 2, 1, 1, 1, 3, 2, 3, 4, 1, 4, 3, 3, 3, 2, 1, 4, 3, 2, 2, 3,\n",
              "        4, 4, 3, 4, 4, 3, 3, 1, 2, 2, 3, 3, 1, 3, 3, 3, 3, 4, 1, 2, 3, 4, 2, 3,\n",
              "        1, 3, 3, 3, 3, 3, 4, 3, 3, 4, 2, 3, 4, 1, 4, 3, 4, 4, 3, 3, 2, 1, 2, 3,\n",
              "        3, 3, 4, 3, 3, 3, 4, 3, 1, 4, 3, 2, 4, 3, 3, 3, 2, 3, 3, 3, 4, 4, 4, 3,\n",
              "        3, 2, 3, 3, 4, 3, 3, 3, 4, 3, 4, 4, 3, 3, 3, 2, 3, 3, 4, 4, 3, 3, 4, 3,\n",
              "        3, 4, 3, 3, 3, 3, 3, 3, 1, 3, 1, 2, 3, 3, 4, 3, 3, 3, 3, 3, 3, 3, 3, 3,\n",
              "        4, 3, 3, 4, 2, 1, 3, 4, 3, 1, 3, 1, 4, 3, 3, 3, 3, 3, 3, 3, 0, 2, 3, 3,\n",
              "        4, 3, 3, 3, 2, 3, 1, 1, 3, 3, 4, 4, 3, 4, 3, 4, 3, 4, 3, 3, 2, 1, 3, 3,\n",
              "        3, 3, 3, 4, 3, 3, 3, 3, 1, 3, 3, 3, 3, 4, 3, 1, 3, 2, 3, 3, 3, 2, 2, 1,\n",
              "        2, 3, 3, 4, 3, 2, 2, 4, 3, 3, 3, 4, 3, 4, 3, 1, 3, 3, 4, 4, 3, 4, 3, 3,\n",
              "        1, 3, 3, 2, 3, 3, 4, 4, 4, 1, 4, 4, 4, 0, 1, 3, 3, 3, 4, 4, 3, 3, 3, 3,\n",
              "        3, 3, 3, 3, 3, 3, 3, 3, 4, 4, 2, 2, 1, 3, 3, 3, 3, 4, 3, 4, 4, 0, 2, 4,\n",
              "        4, 3, 4, 3, 4, 3, 4, 4, 4, 4, 4, 3, 4, 4, 3, 4, 1, 3, 4, 3, 4, 4, 1, 4,\n",
              "        4, 3, 3, 0, 3, 3, 3, 3, 3, 3, 2, 4, 3, 4, 4, 3, 3, 4, 4, 3, 2, 2, 3, 4,\n",
              "        3, 4, 3, 3, 3, 4, 3, 3, 3, 4, 3, 3, 4, 3, 4, 4, 3, 2, 3, 3, 3, 4, 3, 3,\n",
              "        3, 4, 3, 4, 4, 3, 4, 4, 3, 3, 2, 3, 2, 3, 3, 3, 3, 4, 4, 3, 3, 4, 2, 3,\n",
              "        3, 3, 4, 3, 3, 3, 4, 3, 4, 4, 4, 3, 4, 3, 3, 3, 4, 3, 3, 4, 4, 3, 3, 3,\n",
              "        4, 4, 4, 4, 4, 4, 4, 0, 3, 4, 4, 4, 4, 4, 4, 4, 3, 3, 4, 4, 3, 3, 4, 3,\n",
              "        3, 3, 3, 4, 3, 3, 3, 4, 4, 3, 3, 4, 4, 4, 4, 4, 4, 4, 4, 4, 4, 4, 4, 4,\n",
              "        3, 3, 3, 3, 3, 3, 3, 3, 3, 3, 3, 3, 3, 3, 3, 3, 3])"
            ]
          },
          "metadata": {
            "tags": []
          },
          "execution_count": 53
        }
      ]
    },
    {
      "cell_type": "code",
      "metadata": {
        "id": "2FgrcnylbwB0",
        "colab_type": "code",
        "outputId": "b9f22099-2b56-4ccc-80b1-42e3c07774ce",
        "colab": {
          "base_uri": "https://localhost:8080/",
          "height": 659
        }
      },
      "source": [
        "targets"
      ],
      "execution_count": 0,
      "outputs": [
        {
          "output_type": "execute_result",
          "data": {
            "text/plain": [
              "tensor([1, 1, 1, 1, 4, 1, 4, 4, 2, 0, 4, 1, 4, 0, 0, 4, 4, 2, 0, 1, 3, 2, 3, 1,\n",
              "        2, 3, 0, 0, 0, 0, 2, 1, 0, 1, 4, 2, 2, 4, 1, 3, 2, 3, 1, 3, 2, 4, 2, 1,\n",
              "        0, 3, 1, 4, 2, 2, 0, 4, 4, 4, 4, 3, 4, 2, 2, 1, 4, 4, 0, 1, 1, 4, 4, 4,\n",
              "        1, 2, 4, 0, 4, 3, 0, 0, 0, 4, 2, 3, 0, 4, 4, 2, 2, 4, 3, 3, 1, 0, 1, 2,\n",
              "        2, 1, 1, 2, 4, 1, 4, 3, 3, 0, 0, 4, 1, 2, 4, 4, 3, 0, 4, 1, 3, 2, 3, 2,\n",
              "        4, 1, 3, 1, 1, 4, 4, 1, 0, 2, 1, 0, 0, 4, 4, 2, 4, 1, 1, 2, 2, 3, 3, 2,\n",
              "        3, 2, 3, 4, 4, 3, 1, 0, 3, 4, 2, 0, 4, 0, 0, 2, 4, 0, 3, 4, 0, 0, 4, 3,\n",
              "        4, 3, 1, 2, 3, 4, 3, 3, 0, 4, 2, 3, 0, 2, 1, 2, 4, 2, 0, 0, 1, 0, 0, 3,\n",
              "        0, 3, 3, 0, 1, 1, 4, 3, 1, 4, 1, 3, 4, 3, 3, 4, 2, 1, 2, 2, 0, 1, 1, 3,\n",
              "        2, 3, 0, 1, 2, 4, 2, 3, 2, 1, 1, 4, 4, 1, 4, 2, 4, 4, 1, 2, 2, 0, 1, 4,\n",
              "        1, 3, 0, 2, 2, 2, 1, 3, 2, 1, 2, 1, 0, 2, 3, 0, 3, 0, 3, 2, 2, 3, 0, 4,\n",
              "        3, 2, 1, 2, 4, 2, 2, 1, 3, 4, 0, 2, 2, 1, 4, 2, 2, 3, 3, 3, 3, 4, 2, 1,\n",
              "        2, 0, 3, 3, 4, 1, 2, 3, 4, 2, 0, 2, 2, 0, 0, 3, 0, 4, 3, 2, 4, 4, 2, 1,\n",
              "        3, 3, 1, 1, 3, 1, 2, 0, 3, 3, 2, 4, 3, 0, 4, 3, 0, 4, 2, 1, 3, 2, 0, 2,\n",
              "        3, 0, 3, 0, 0, 4, 1, 1, 2, 3, 3, 2, 3, 4, 3, 2, 2, 2, 3, 2, 2, 2, 4, 1,\n",
              "        2, 0, 4, 2, 1, 1, 2, 0, 2, 4, 4, 4, 2, 0, 3, 3, 0, 4, 0, 0, 1, 0, 1, 0,\n",
              "        1, 0, 1, 0, 1, 1, 4, 0, 0, 0, 1, 2, 1, 3, 1, 3, 1, 1, 0, 2, 2, 4, 1, 1,\n",
              "        3, 2, 2, 1, 3, 1, 1, 0, 2, 1, 3, 0, 4, 1, 1, 3, 3, 2, 2, 4, 4, 2, 3, 1,\n",
              "        1, 0, 2, 0, 4, 2, 3, 4, 3, 4, 2, 3, 1, 1, 0, 3, 2, 0, 4, 1, 3, 4, 2, 2,\n",
              "        4, 0, 3, 4, 3, 3, 4, 1, 3, 0, 2, 1, 1, 0, 4, 2, 3, 0, 1, 1, 1, 0, 3, 1,\n",
              "        2, 3, 2, 2, 3, 3, 0, 1, 4, 4, 3, 0, 4, 2, 0, 3, 2, 3, 3, 2, 4, 4, 4, 1,\n",
              "        2, 2, 2, 3, 0, 4, 0, 4, 4, 2, 4, 0, 1, 3, 3, 2, 3, 4, 4, 1, 2, 1, 0, 3,\n",
              "        3, 1, 3, 1, 4, 1, 0, 2, 2, 1, 4, 3, 2, 0, 4, 3, 0, 3, 4, 2, 0, 4, 2, 4,\n",
              "        4, 0, 3, 4, 3, 4, 2, 4, 0, 1, 1, 1, 0, 2, 4, 1, 2, 2, 2, 2, 1, 1, 2, 2,\n",
              "        4, 0, 0, 2, 0, 3, 0, 3, 2, 3, 4, 0, 1, 1, 3, 0, 3, 4, 1, 3, 1, 0, 2, 2,\n",
              "        1, 3, 4, 3, 0, 0, 1, 3, 1, 2, 2, 4, 1, 3, 1, 0, 4, 1, 2, 0, 0, 3, 1, 1,\n",
              "        4, 3, 3, 4, 1, 1, 3, 4, 1, 0, 0, 0, 2, 0, 3, 2, 2, 2, 4, 0, 1, 0, 2, 2,\n",
              "        0, 1, 0, 0, 1, 3, 0, 1, 3, 1, 4, 4, 0, 4, 3, 0, 2, 0, 2, 4, 4, 0, 3, 1,\n",
              "        2, 0, 0, 3, 3, 1, 3, 3, 0, 4, 0, 2, 1, 1, 2, 3, 1, 0, 4, 4, 0, 4, 2, 4,\n",
              "        3, 3, 4, 2, 4, 0, 4, 0, 1, 3, 0, 3, 0, 1, 2, 4, 3, 3, 0, 0, 0, 2, 2, 4,\n",
              "        0, 1, 4, 1, 1, 0, 1, 3, 1, 3, 3, 1, 0, 1, 4, 3, 3, 4, 0, 0, 2, 2, 3, 4,\n",
              "        4, 1, 0, 0, 3, 4, 2, 4, 3, 3, 0, 1, 3, 0, 2, 4, 3, 2, 0, 4, 0, 0, 2, 2,\n",
              "        2, 0, 3, 2, 1, 3, 0, 0, 2, 2, 2, 4, 0, 1, 1, 2, 0, 1, 4, 3, 0, 4, 1, 4,\n",
              "        4, 1, 4, 3, 0, 3, 4, 1, 1, 2, 3, 1, 0, 0, 1, 4, 0, 1, 2, 0, 4, 2, 3, 4,\n",
              "        4, 0, 3, 4, 0, 2, 1, 0, 2, 4, 4, 0, 4, 4, 2, 3, 0, 3, 0, 3, 3, 3, 4, 0,\n",
              "        3, 3, 1, 4, 2, 2, 4, 4, 4, 1, 1, 1, 0, 1, 0, 1, 0, 4, 4, 1, 3, 0, 4, 3,\n",
              "        3, 1, 3, 2, 0, 1, 1, 1, 1, 1, 0, 1, 2, 0, 3, 4, 1])"
            ]
          },
          "metadata": {
            "tags": []
          },
          "execution_count": 58
        }
      ]
    },
    {
      "cell_type": "code",
      "metadata": {
        "id": "vyh89CY-ahNR",
        "colab_type": "code",
        "outputId": "dfb7e918-e46f-40ff-ba55-9ad780b0580d",
        "colab": {
          "base_uri": "https://localhost:8080/",
          "height": 233
        }
      },
      "source": [
        "df_val.head()"
      ],
      "execution_count": 0,
      "outputs": [
        {
          "output_type": "execute_result",
          "data": {
            "text/html": [
              "<div>\n",
              "<style scoped>\n",
              "    .dataframe tbody tr th:only-of-type {\n",
              "        vertical-align: middle;\n",
              "    }\n",
              "\n",
              "    .dataframe tbody tr th {\n",
              "        vertical-align: top;\n",
              "    }\n",
              "\n",
              "    .dataframe thead th {\n",
              "        text-align: right;\n",
              "    }\n",
              "</style>\n",
              "<table border=\"1\" class=\"dataframe\">\n",
              "  <thead>\n",
              "    <tr style=\"text-align: right;\">\n",
              "      <th></th>\n",
              "      <th>label</th>\n",
              "      <th>text</th>\n",
              "    </tr>\n",
              "    <tr>\n",
              "      <th>index</th>\n",
              "      <th></th>\n",
              "      <th></th>\n",
              "    </tr>\n",
              "  </thead>\n",
              "  <tbody>\n",
              "    <tr>\n",
              "      <th>1476</th>\n",
              "      <td>4</td>\n",
              "      <td>When I owned SE I replaced fan SE Silencer ava...</td>\n",
              "    </tr>\n",
              "    <tr>\n",
              "      <th>1621</th>\n",
              "      <td>1</td>\n",
              "      <td>I given sites excellent D objects sorts file f...</td>\n",
              "    </tr>\n",
              "    <tr>\n",
              "      <th>415</th>\n",
              "      <td>4</td>\n",
              "      <td>Is anyone using greyscale handscanner I thinki...</td>\n",
              "    </tr>\n",
              "    <tr>\n",
              "      <th>2230</th>\n",
              "      <td>2</td>\n",
              "      <td>MAX AX AX AX AX AX AX AX AX AX AX AX AX AX AX ...</td>\n",
              "    </tr>\n",
              "    <tr>\n",
              "      <th>62</th>\n",
              "      <td>1</td>\n",
              "      <td>The file contents listings Knowledge Media Res...</td>\n",
              "    </tr>\n",
              "  </tbody>\n",
              "</table>\n",
              "</div>"
            ],
            "text/plain": [
              "       label                                               text\n",
              "index                                                          \n",
              "1476       4  When I owned SE I replaced fan SE Silencer ava...\n",
              "1621       1  I given sites excellent D objects sorts file f...\n",
              "415        4  Is anyone using greyscale handscanner I thinki...\n",
              "2230       2  MAX AX AX AX AX AX AX AX AX AX AX AX AX AX AX ...\n",
              "62         1  The file contents listings Knowledge Media Res..."
            ]
          },
          "metadata": {
            "tags": []
          },
          "execution_count": 59
        }
      ]
    },
    {
      "cell_type": "code",
      "metadata": {
        "id": "jyMhFYLofXQ7",
        "colab_type": "code",
        "outputId": "32924191-c1eb-4c5c-c9b2-0baa34874047",
        "colab": {
          "base_uri": "https://localhost:8080/",
          "height": 1979
        }
      },
      "source": [
        "df_val.sort_index(ascending=True)  # df.sort_index(inplace=True)"
      ],
      "execution_count": 0,
      "outputs": [
        {
          "output_type": "execute_result",
          "data": {
            "text/html": [
              "<div>\n",
              "<style scoped>\n",
              "    .dataframe tbody tr th:only-of-type {\n",
              "        vertical-align: middle;\n",
              "    }\n",
              "\n",
              "    .dataframe tbody tr th {\n",
              "        vertical-align: top;\n",
              "    }\n",
              "\n",
              "    .dataframe thead th {\n",
              "        text-align: right;\n",
              "    }\n",
              "</style>\n",
              "<table border=\"1\" class=\"dataframe\">\n",
              "  <thead>\n",
              "    <tr style=\"text-align: right;\">\n",
              "      <th></th>\n",
              "      <th>label</th>\n",
              "      <th>text</th>\n",
              "    </tr>\n",
              "    <tr>\n",
              "      <th>index</th>\n",
              "      <th></th>\n",
              "      <th></th>\n",
              "    </tr>\n",
              "  </thead>\n",
              "  <tbody>\n",
              "    <tr>\n",
              "      <th>2</th>\n",
              "      <td>4</td>\n",
              "      <td>The title says I need know c rom versions</td>\n",
              "    </tr>\n",
              "    <tr>\n",
              "      <th>4</th>\n",
              "      <td>4</td>\n",
              "      <td>Terry hi I recently bought LCIII Datadesk E I ...</td>\n",
              "    </tr>\n",
              "    <tr>\n",
              "      <th>6</th>\n",
              "      <td>4</td>\n",
              "      <td>terminated It possible connect another interna...</td>\n",
              "    </tr>\n",
              "    <tr>\n",
              "      <th>9</th>\n",
              "      <td>5</td>\n",
              "      <td>Reminder Plan Andrew Conference Date The dates...</td>\n",
              "    </tr>\n",
              "    <tr>\n",
              "      <th>12</th>\n",
              "      <td>2</td>\n",
              "      <td>I reading much confusion whether use ATManager...</td>\n",
              "    </tr>\n",
              "    <tr>\n",
              "      <th>14</th>\n",
              "      <td>5</td>\n",
              "      <td>return place probably incorrect It pointer int...</td>\n",
              "    </tr>\n",
              "    <tr>\n",
              "      <th>17</th>\n",
              "      <td>5</td>\n",
              "      <td>Try char name NULL unsigned long value XGetFon...</td>\n",
              "    </tr>\n",
              "    <tr>\n",
              "      <th>18</th>\n",
              "      <td>4</td>\n",
              "      <td>None You need buy ns k VRAM SIMMs They cost fa...</td>\n",
              "    </tr>\n",
              "    <tr>\n",
              "      <th>20</th>\n",
              "      <td>2</td>\n",
              "      <td></td>\n",
              "    </tr>\n",
              "    <tr>\n",
              "      <th>24</th>\n",
              "      <td>5</td>\n",
              "      <td>I posted ago without code excerpts noone able ...</td>\n",
              "    </tr>\n",
              "    <tr>\n",
              "      <th>25</th>\n",
              "      <td>3</td>\n",
              "      <td>hi folks hd first seagate mb second cdc mb fut...</td>\n",
              "    </tr>\n",
              "    <tr>\n",
              "      <th>39</th>\n",
              "      <td>1</td>\n",
              "      <td>Yes I A couple years ago I comparison two prod...</td>\n",
              "    </tr>\n",
              "    <tr>\n",
              "      <th>43</th>\n",
              "      <td>5</td>\n",
              "      <td>The following packages meet criteria PD presen...</td>\n",
              "    </tr>\n",
              "    <tr>\n",
              "      <th>45</th>\n",
              "      <td>2</td>\n",
              "      <td>Is pd freeware hard drive utility handle compr...</td>\n",
              "    </tr>\n",
              "    <tr>\n",
              "      <th>48</th>\n",
              "      <td>2</td>\n",
              "      <td>To clarify VC considered upgrade C There produ...</td>\n",
              "    </tr>\n",
              "    <tr>\n",
              "      <th>52</th>\n",
              "      <td>4</td>\n",
              "      <td>I believe order get innards new mouse must rem...</td>\n",
              "    </tr>\n",
              "    <tr>\n",
              "      <th>57</th>\n",
              "      <td>2</td>\n",
              "      <td>I recently purchased Diamond Stealth Video car...</td>\n",
              "    </tr>\n",
              "    <tr>\n",
              "      <th>58</th>\n",
              "      <td>4</td>\n",
              "      <td>Hmmm Sounds vaguely similar problem I long tim...</td>\n",
              "    </tr>\n",
              "    <tr>\n",
              "      <th>59</th>\n",
              "      <td>4</td>\n",
              "      <td>patrickd wpi WPI EDU Lazer writes Specs fill p...</td>\n",
              "    </tr>\n",
              "    <tr>\n",
              "      <th>62</th>\n",
              "      <td>1</td>\n",
              "      <td>The file contents listings Knowledge Media Res...</td>\n",
              "    </tr>\n",
              "    <tr>\n",
              "      <th>72</th>\n",
              "      <td>3</td>\n",
              "      <td></td>\n",
              "    </tr>\n",
              "    <tr>\n",
              "      <th>74</th>\n",
              "      <td>4</td>\n",
              "      <td>With little luck I could C sometime near futur...</td>\n",
              "    </tr>\n",
              "    <tr>\n",
              "      <th>77</th>\n",
              "      <td>5</td>\n",
              "      <td>According OSF Motif Style Guide one use cursor...</td>\n",
              "    </tr>\n",
              "    <tr>\n",
              "      <th>81</th>\n",
              "      <td>5</td>\n",
              "      <td>I found oddity SGI Indigo MIPS R chip When xlo...</td>\n",
              "    </tr>\n",
              "    <tr>\n",
              "      <th>87</th>\n",
              "      <td>5</td>\n",
              "      <td>Depends nature rounding X allows user bit arit...</td>\n",
              "    </tr>\n",
              "    <tr>\n",
              "      <th>88</th>\n",
              "      <td>1</td>\n",
              "      <td>Hi Noel I made attempts write converter reads ...</td>\n",
              "    </tr>\n",
              "    <tr>\n",
              "      <th>90</th>\n",
              "      <td>2</td>\n",
              "      <td>It</td>\n",
              "    </tr>\n",
              "    <tr>\n",
              "      <th>91</th>\n",
              "      <td>3</td>\n",
              "      <td>Like f rinstance When I bought system November...</td>\n",
              "    </tr>\n",
              "    <tr>\n",
              "      <th>94</th>\n",
              "      <td>1</td>\n",
              "      <td>Hi I looking advice software hardware package ...</td>\n",
              "    </tr>\n",
              "    <tr>\n",
              "      <th>103</th>\n",
              "      <td>3</td>\n",
              "      <td>Hi I currently process writing number PD progr...</td>\n",
              "    </tr>\n",
              "    <tr>\n",
              "      <th>...</th>\n",
              "      <td>...</td>\n",
              "      <td>...</td>\n",
              "    </tr>\n",
              "    <tr>\n",
              "      <th>2826</th>\n",
              "      <td>3</td>\n",
              "      <td>I reading PC Magazine peripherals PC ISA bus a...</td>\n",
              "    </tr>\n",
              "    <tr>\n",
              "      <th>2831</th>\n",
              "      <td>4</td>\n",
              "      <td>I old Jasmine drive I cannot use new system My...</td>\n",
              "    </tr>\n",
              "    <tr>\n",
              "      <th>2832</th>\n",
              "      <td>3</td>\n",
              "      <td>Just wanted ask question I bought hard disk dr...</td>\n",
              "    </tr>\n",
              "    <tr>\n",
              "      <th>2833</th>\n",
              "      <td>1</td>\n",
              "      <td>I need help We upgrading animation video editi...</td>\n",
              "    </tr>\n",
              "    <tr>\n",
              "      <th>2840</th>\n",
              "      <td>4</td>\n",
              "      <td>I considering adding floptical drive current s...</td>\n",
              "    </tr>\n",
              "    <tr>\n",
              "      <th>2841</th>\n",
              "      <td>5</td>\n",
              "      <td>A colleague bizarre font problem new MIPS work...</td>\n",
              "    </tr>\n",
              "    <tr>\n",
              "      <th>2843</th>\n",
              "      <td>2</td>\n",
              "      <td>Sorry I nt tell exactly I need I need utility ...</td>\n",
              "    </tr>\n",
              "    <tr>\n",
              "      <th>2851</th>\n",
              "      <td>5</td>\n",
              "      <td>Hi I trying implement pointer feature Xlib I m...</td>\n",
              "    </tr>\n",
              "    <tr>\n",
              "      <th>2861</th>\n",
              "      <td>1</td>\n",
              "      <td>To All Hi Does anybody source code externel pr...</td>\n",
              "    </tr>\n",
              "    <tr>\n",
              "      <th>2866</th>\n",
              "      <td>4</td>\n",
              "      <td>I believe goes go powerPC Pentium In resent ar...</td>\n",
              "    </tr>\n",
              "    <tr>\n",
              "      <th>2869</th>\n",
              "      <td>5</td>\n",
              "      <td>I used think way X For example incorrect Engli...</td>\n",
              "    </tr>\n",
              "    <tr>\n",
              "      <th>2874</th>\n",
              "      <td>4</td>\n",
              "      <td>I interested peoples experience accelerators S...</td>\n",
              "    </tr>\n",
              "    <tr>\n",
              "      <th>2888</th>\n",
              "      <td>1</td>\n",
              "      <td>I looking information hidden line removal usin...</td>\n",
              "    </tr>\n",
              "    <tr>\n",
              "      <th>2893</th>\n",
              "      <td>5</td>\n",
              "      <td>Hi</td>\n",
              "    </tr>\n",
              "    <tr>\n",
              "      <th>2894</th>\n",
              "      <td>5</td>\n",
              "      <td>Hi Xperts I Sparc limited disk space usr parti...</td>\n",
              "    </tr>\n",
              "    <tr>\n",
              "      <th>2895</th>\n",
              "      <td>2</td>\n",
              "      <td>We Utah State University Cooperative Extension...</td>\n",
              "    </tr>\n",
              "    <tr>\n",
              "      <th>2897</th>\n",
              "      <td>2</td>\n",
              "      <td></td>\n",
              "    </tr>\n",
              "    <tr>\n",
              "      <th>2900</th>\n",
              "      <td>5</td>\n",
              "      <td>Issue X Resource published proceedings th Annu...</td>\n",
              "    </tr>\n",
              "    <tr>\n",
              "      <th>2901</th>\n",
              "      <td>2</td>\n",
              "      <td>Part M D P U M V BXN T TQ Q G V G P P V Q Q T ...</td>\n",
              "    </tr>\n",
              "    <tr>\n",
              "      <th>2902</th>\n",
              "      <td>2</td>\n",
              "      <td>But disk compare utility old versus new And Wi...</td>\n",
              "    </tr>\n",
              "    <tr>\n",
              "      <th>2903</th>\n",
              "      <td>2</td>\n",
              "      <td>Hello I question demo files amipro v uploaded ...</td>\n",
              "    </tr>\n",
              "    <tr>\n",
              "      <th>2905</th>\n",
              "      <td>2</td>\n",
              "      <td>Tell probably needs upgrade faster video card ...</td>\n",
              "    </tr>\n",
              "    <tr>\n",
              "      <th>2906</th>\n",
              "      <td>1</td>\n",
              "      <td>A stupid question CView run I get I still need...</td>\n",
              "    </tr>\n",
              "    <tr>\n",
              "      <th>2909</th>\n",
              "      <td>3</td>\n",
              "      <td>I used working parts available original IBM la...</td>\n",
              "    </tr>\n",
              "    <tr>\n",
              "      <th>2912</th>\n",
              "      <td>4</td>\n",
              "      <td></td>\n",
              "    </tr>\n",
              "    <tr>\n",
              "      <th>2914</th>\n",
              "      <td>2</td>\n",
              "      <td>Ok I problem I thought guys gals might know I ...</td>\n",
              "    </tr>\n",
              "    <tr>\n",
              "      <th>2915</th>\n",
              "      <td>4</td>\n",
              "      <td>Mac sound hardware diverse macs play stereo mi...</td>\n",
              "    </tr>\n",
              "    <tr>\n",
              "      <th>2925</th>\n",
              "      <td>5</td>\n",
              "      <td>I two questions well probably Expose Configure...</td>\n",
              "    </tr>\n",
              "    <tr>\n",
              "      <th>2927</th>\n",
              "      <td>3</td>\n",
              "      <td>misc entrepreneurs misc wanted pnw forsale uw ...</td>\n",
              "    </tr>\n",
              "    <tr>\n",
              "      <th>2928</th>\n",
              "      <td>5</td>\n",
              "      <td></td>\n",
              "    </tr>\n",
              "  </tbody>\n",
              "</table>\n",
              "<p>881 rows × 2 columns</p>\n",
              "</div>"
            ],
            "text/plain": [
              "       label                                               text\n",
              "index                                                          \n",
              "2          4          The title says I need know c rom versions\n",
              "4          4  Terry hi I recently bought LCIII Datadesk E I ...\n",
              "6          4  terminated It possible connect another interna...\n",
              "9          5  Reminder Plan Andrew Conference Date The dates...\n",
              "12         2  I reading much confusion whether use ATManager...\n",
              "14         5  return place probably incorrect It pointer int...\n",
              "17         5  Try char name NULL unsigned long value XGetFon...\n",
              "18         4  None You need buy ns k VRAM SIMMs They cost fa...\n",
              "20         2                                                   \n",
              "24         5  I posted ago without code excerpts noone able ...\n",
              "25         3  hi folks hd first seagate mb second cdc mb fut...\n",
              "39         1  Yes I A couple years ago I comparison two prod...\n",
              "43         5  The following packages meet criteria PD presen...\n",
              "45         2  Is pd freeware hard drive utility handle compr...\n",
              "48         2  To clarify VC considered upgrade C There produ...\n",
              "52         4  I believe order get innards new mouse must rem...\n",
              "57         2  I recently purchased Diamond Stealth Video car...\n",
              "58         4  Hmmm Sounds vaguely similar problem I long tim...\n",
              "59         4  patrickd wpi WPI EDU Lazer writes Specs fill p...\n",
              "62         1  The file contents listings Knowledge Media Res...\n",
              "72         3                                                   \n",
              "74         4  With little luck I could C sometime near futur...\n",
              "77         5  According OSF Motif Style Guide one use cursor...\n",
              "81         5  I found oddity SGI Indigo MIPS R chip When xlo...\n",
              "87         5  Depends nature rounding X allows user bit arit...\n",
              "88         1  Hi Noel I made attempts write converter reads ...\n",
              "90         2                                                 It\n",
              "91         3  Like f rinstance When I bought system November...\n",
              "94         1  Hi I looking advice software hardware package ...\n",
              "103        3  Hi I currently process writing number PD progr...\n",
              "...      ...                                                ...\n",
              "2826       3  I reading PC Magazine peripherals PC ISA bus a...\n",
              "2831       4  I old Jasmine drive I cannot use new system My...\n",
              "2832       3  Just wanted ask question I bought hard disk dr...\n",
              "2833       1  I need help We upgrading animation video editi...\n",
              "2840       4  I considering adding floptical drive current s...\n",
              "2841       5  A colleague bizarre font problem new MIPS work...\n",
              "2843       2  Sorry I nt tell exactly I need I need utility ...\n",
              "2851       5  Hi I trying implement pointer feature Xlib I m...\n",
              "2861       1  To All Hi Does anybody source code externel pr...\n",
              "2866       4  I believe goes go powerPC Pentium In resent ar...\n",
              "2869       5  I used think way X For example incorrect Engli...\n",
              "2874       4  I interested peoples experience accelerators S...\n",
              "2888       1  I looking information hidden line removal usin...\n",
              "2893       5                                                 Hi\n",
              "2894       5  Hi Xperts I Sparc limited disk space usr parti...\n",
              "2895       2  We Utah State University Cooperative Extension...\n",
              "2897       2                                                   \n",
              "2900       5  Issue X Resource published proceedings th Annu...\n",
              "2901       2  Part M D P U M V BXN T TQ Q G V G P P V Q Q T ...\n",
              "2902       2  But disk compare utility old versus new And Wi...\n",
              "2903       2  Hello I question demo files amipro v uploaded ...\n",
              "2905       2  Tell probably needs upgrade faster video card ...\n",
              "2906       1  A stupid question CView run I get I still need...\n",
              "2909       3  I used working parts available original IBM la...\n",
              "2912       4                                                   \n",
              "2914       2  Ok I problem I thought guys gals might know I ...\n",
              "2915       4  Mac sound hardware diverse macs play stereo mi...\n",
              "2925       5  I two questions well probably Expose Configure...\n",
              "2927       3  misc entrepreneurs misc wanted pnw forsale uw ...\n",
              "2928       5                                                   \n",
              "\n",
              "[881 rows x 2 columns]"
            ]
          },
          "metadata": {
            "tags": []
          },
          "execution_count": 64
        }
      ]
    },
    {
      "cell_type": "code",
      "metadata": {
        "id": "teEfOCV-b3Lb",
        "colab_type": "code",
        "colab": {}
      },
      "source": [
        "#pd.crosstab(predictions, targets) columns=variable2\n",
        "table = pd.crosstab(predictions, targets)\n",
        "result = table.reindex(index=predictions, columns=targets, fill_value=0)\n",
        "result"
      ],
      "execution_count": 0,
      "outputs": []
    },
    {
      "cell_type": "code",
      "metadata": {
        "id": "4wFu8p0BdoKb",
        "colab_type": "code",
        "outputId": "678acc81-8e31-4c50-853a-554ebab64ddb",
        "colab": {
          "base_uri": "https://localhost:8080/",
          "height": 139
        }
      },
      "source": [
        "print(table)"
      ],
      "execution_count": 0,
      "outputs": [
        {
          "output_type": "stream",
          "text": [
            "col_0    0   1    2    3    4\n",
            "row_0                        \n",
            "0       38  11    9    9   13\n",
            "1       15  29   10   12   21\n",
            "2       52  99  158  123   48\n",
            "3        7  11   13   26    2\n",
            "4      122  87   46   61  153\n"
          ],
          "name": "stdout"
        }
      ]
    },
    {
      "cell_type": "code",
      "metadata": {
        "id": "u53TZYGSdtdz",
        "colab_type": "code",
        "outputId": "d6d754f0-4718-4b58-822a-a83cd6e97854",
        "colab": {
          "base_uri": "https://localhost:8080/",
          "height": 202
        }
      },
      "source": [
        "df_val.head()"
      ],
      "execution_count": 0,
      "outputs": [
        {
          "output_type": "execute_result",
          "data": {
            "text/html": [
              "<div>\n",
              "<style scoped>\n",
              "    .dataframe tbody tr th:only-of-type {\n",
              "        vertical-align: middle;\n",
              "    }\n",
              "\n",
              "    .dataframe tbody tr th {\n",
              "        vertical-align: top;\n",
              "    }\n",
              "\n",
              "    .dataframe thead th {\n",
              "        text-align: right;\n",
              "    }\n",
              "</style>\n",
              "<table border=\"1\" class=\"dataframe\">\n",
              "  <thead>\n",
              "    <tr style=\"text-align: right;\">\n",
              "      <th></th>\n",
              "      <th>label</th>\n",
              "      <th>text</th>\n",
              "    </tr>\n",
              "  </thead>\n",
              "  <tbody>\n",
              "    <tr>\n",
              "      <th>1476</th>\n",
              "      <td>4</td>\n",
              "      <td>When I owned SE I replaced fan SE Silencer ava...</td>\n",
              "    </tr>\n",
              "    <tr>\n",
              "      <th>1621</th>\n",
              "      <td>1</td>\n",
              "      <td>I given sites excellent D objects sorts file f...</td>\n",
              "    </tr>\n",
              "    <tr>\n",
              "      <th>415</th>\n",
              "      <td>4</td>\n",
              "      <td>Is anyone using greyscale handscanner I thinki...</td>\n",
              "    </tr>\n",
              "    <tr>\n",
              "      <th>2230</th>\n",
              "      <td>2</td>\n",
              "      <td>MAX AX AX AX AX AX AX AX AX AX AX AX AX AX AX ...</td>\n",
              "    </tr>\n",
              "    <tr>\n",
              "      <th>62</th>\n",
              "      <td>1</td>\n",
              "      <td>The file contents listings Knowledge Media Res...</td>\n",
              "    </tr>\n",
              "  </tbody>\n",
              "</table>\n",
              "</div>"
            ],
            "text/plain": [
              "      label                                               text\n",
              "1476      4  When I owned SE I replaced fan SE Silencer ava...\n",
              "1621      1  I given sites excellent D objects sorts file f...\n",
              "415       4  Is anyone using greyscale handscanner I thinki...\n",
              "2230      2  MAX AX AX AX AX AX AX AX AX AX AX AX AX AX AX ...\n",
              "62        1  The file contents listings Knowledge Media Res..."
            ]
          },
          "metadata": {
            "tags": []
          },
          "execution_count": 122
        }
      ]
    },
    {
      "cell_type": "code",
      "metadata": {
        "id": "7wtP4isoguJp",
        "colab_type": "code",
        "outputId": "db0a1ba1-64bf-4118-a89f-90a942716c53",
        "colab": {
          "base_uri": "https://localhost:8080/",
          "height": 121
        }
      },
      "source": [
        "df_val['label'].value_counts()"
      ],
      "execution_count": 0,
      "outputs": [
        {
          "output_type": "execute_result",
          "data": {
            "text/plain": [
              "5    178\n",
              "3    177\n",
              "2    177\n",
              "1    175\n",
              "4    174\n",
              "Name: label, dtype: int64"
            ]
          },
          "metadata": {
            "tags": []
          },
          "execution_count": 127
        }
      ]
    },
    {
      "cell_type": "code",
      "metadata": {
        "id": "sF7l18Ksf-JD",
        "colab_type": "code",
        "colab": {}
      },
      "source": [
        "df2 = df[df['label'].isin([1, 2, 3, 4, 5])]  # 1=comp.graphic, 2= comp.os.ms-windows.misc, 3 = comp.sys.ibm.pc.hardware, 4 = comp.sys.mac.hardware, 5=comp.windows.x, "
      ],
      "execution_count": 0,
      "outputs": []
    },
    {
      "cell_type": "code",
      "metadata": {
        "id": "MYgRjpVGgLNv",
        "colab_type": "code",
        "colab": {}
      },
      "source": [
        "\n",
        "CLASSES = ['neg', 'pos', 'unsup']\n",
        "\n",
        "def get_texts(path):\n",
        "    texts,labels = [],[]\n",
        "    for idx,label in enumerate(CLASSES):\n",
        "        for fname in (path/label).glob('*.*'):\n",
        "            texts.append(fname.open('r', encoding='utf-8').read())\n",
        "            labels.append(idx)\n",
        "    return np.array(texts),np.array(labels)\n",
        "\n",
        "trn_texts,trn_labels = get_texts(PATH/'train')\n",
        "val_texts,val_labels = get_texts(PATH/'test')"
      ],
      "execution_count": 0,
      "outputs": []
    },
    {
      "cell_type": "code",
      "metadata": {
        "id": "s-kEuDRsizDE",
        "colab_type": "code",
        "outputId": "d4290e22-298a-4e03-d8fe-3f43f7c59664",
        "colab": {
          "base_uri": "https://localhost:8080/",
          "height": 35
        }
      },
      "source": [
        "dic = dict (enumerate(df2.label.unique()))\n",
        "dic\n",
        "\n",
        "# {0: 4, 1: 1, 2: 2, 3: 5, 4: 3}\n",
        " # 1=comp.graphic, 2= comp.os.ms-windows.misc, 3 = comp.sys.ibm.pc.hardware, 4 = comp.sys.mac.hardware, 5=comp.windows.x, "
      ],
      "execution_count": 0,
      "outputs": [
        {
          "output_type": "execute_result",
          "data": {
            "text/plain": [
              "{0: 4, 1: 1, 2: 2, 3: 5, 4: 3}"
            ]
          },
          "metadata": {
            "tags": []
          },
          "execution_count": 67
        }
      ]
    },
    {
      "cell_type": "code",
      "metadata": {
        "id": "sdocgTnIi5uu",
        "colab_type": "code",
        "colab": {}
      },
      "source": [
        "df3 = df[df['label'].isin([3,4])]  #  1 = comp.graphic, 10 = rec.sport.hockey\n",
        "df3 = df3.reset_index(drop = True)"
      ],
      "execution_count": 0,
      "outputs": []
    },
    {
      "cell_type": "code",
      "metadata": {
        "id": "G4Wx374B7eBK",
        "colab_type": "code",
        "outputId": "673194b2-c58a-4b1f-aaed-8db90c8ccd59",
        "colab": {
          "base_uri": "https://localhost:8080/",
          "height": 69
        }
      },
      "source": [
        "df3['label'].value_counts()"
      ],
      "execution_count": 0,
      "outputs": [
        {
          "output_type": "execute_result",
          "data": {
            "text/plain": [
              "3    590\n",
              "4    578\n",
              "Name: label, dtype: int64"
            ]
          },
          "metadata": {
            "tags": []
          },
          "execution_count": 79
        }
      ]
    },
    {
      "cell_type": "code",
      "metadata": {
        "id": "_NOozIKh7na6",
        "colab_type": "code",
        "colab": {}
      },
      "source": [
        "#Data Preprocessing \n",
        "df3['text'] = df3['text'].str.replace(\"[^a-zA-Z]\", \" \")"
      ],
      "execution_count": 0,
      "outputs": []
    },
    {
      "cell_type": "code",
      "metadata": {
        "id": "A6bCdCaN7yhP",
        "colab_type": "code",
        "colab": {}
      },
      "source": [
        "# tokenization \n",
        "tokenized_doc = df3['text'].apply(lambda x: x.split())\n",
        "\n",
        "# remove stop-words \n",
        "tokenized_doc = tokenized_doc.apply(lambda x: [item for item in x if item not in stop_words])\n",
        "\n",
        "# de-tokenization \n",
        "detokenized_doc = [] \n",
        "for i in range(len(df3)): \n",
        "    t = ' '.join(tokenized_doc[i]) \n",
        "    detokenized_doc.append(t) \n",
        "\n",
        "df3['text'] = detokenized_doc"
      ],
      "execution_count": 0,
      "outputs": []
    },
    {
      "cell_type": "code",
      "metadata": {
        "id": "JVK8TY4d74er",
        "colab_type": "code",
        "colab": {}
      },
      "source": [
        "from sklearn.model_selection import train_test_split\n",
        "\n",
        "# split data into training and validation set\n",
        "df_trn, df_val = train_test_split(df3, stratify = df3['label'], test_size = 0.3, random_state = 12)"
      ],
      "execution_count": 0,
      "outputs": []
    },
    {
      "cell_type": "code",
      "metadata": {
        "id": "R2cGZKdR789n",
        "colab_type": "code",
        "outputId": "e9777fde-236a-4b18-f1a1-77501e0ec84e",
        "colab": {
          "base_uri": "https://localhost:8080/",
          "height": 35
        }
      },
      "source": [
        "df_trn.shape, df_val.shape"
      ],
      "execution_count": 0,
      "outputs": [
        {
          "output_type": "execute_result",
          "data": {
            "text/plain": [
              "((817, 2), (351, 2))"
            ]
          },
          "metadata": {
            "tags": []
          },
          "execution_count": 83
        }
      ]
    },
    {
      "cell_type": "code",
      "metadata": {
        "id": "7IBv1kjB79Pn",
        "colab_type": "code",
        "colab": {}
      },
      "source": [
        "# Language model data\n",
        "data_lm = TextLMDataBunch.from_df(train_df = df_trn, valid_df = df_val, path = \"\")\n",
        "\n",
        "# Classifier model data\n",
        "data_clas = TextClasDataBunch.from_df(path = \"\", train_df = df_trn, valid_df = df_val, vocab=data_lm.train_ds.vocab, bs=32)"
      ],
      "execution_count": 0,
      "outputs": []
    },
    {
      "cell_type": "code",
      "metadata": {
        "id": "vUNyDOdC79fT",
        "colab_type": "code",
        "colab": {}
      },
      "source": [
        "#Fine-Tuning \n",
        "learn = language_model_learner(data_lm, pretrained_model=URLs.WT103, drop_mult=0.7)"
      ],
      "execution_count": 0,
      "outputs": []
    },
    {
      "cell_type": "code",
      "metadata": {
        "id": "YftIaDYq8FF9",
        "colab_type": "code",
        "outputId": "67de20e8-b15a-44fd-c0d3-3afd01209004",
        "colab": {
          "base_uri": "https://localhost:8080/",
          "height": 94
        }
      },
      "source": [
        "# train the learner object with learning rate = 1e-2\n",
        "learn.fit_one_cycle(1, 1e-2)"
      ],
      "execution_count": 0,
      "outputs": [
        {
          "output_type": "display_data",
          "data": {
            "text/html": [
              "Total time: 00:06 <p><table style='width:300px; margin-bottom:10px'>\n",
              "  <tr>\n",
              "    <th>epoch</th>\n",
              "    <th>train_loss</th>\n",
              "    <th>valid_loss</th>\n",
              "    <th>accuracy</th>\n",
              "  </tr>\n",
              "  <tr>\n",
              "    <th>1</th>\n",
              "    <th>7.630622</th>\n",
              "    <th>6.603959</th>\n",
              "    <th>0.088823</th>\n",
              "  </tr>\n",
              "</table>\n"
            ],
            "text/plain": [
              "<IPython.core.display.HTML object>"
            ]
          },
          "metadata": {
            "tags": []
          }
        }
      ]
    },
    {
      "cell_type": "code",
      "metadata": {
        "id": "SFym3skf8FXF",
        "colab_type": "code",
        "colab": {}
      },
      "source": [
        "learn.save_encoder('ft_enc')"
      ],
      "execution_count": 0,
      "outputs": []
    },
    {
      "cell_type": "code",
      "metadata": {
        "id": "tKlXRG3l8FnB",
        "colab_type": "code",
        "colab": {}
      },
      "source": [
        "learn = text_classifier_learner(data_clas, drop_mult=0.7)\n",
        "learn.load_encoder('ft_enc')"
      ],
      "execution_count": 0,
      "outputs": []
    },
    {
      "cell_type": "code",
      "metadata": {
        "id": "jj_PLgpI8Xjg",
        "colab_type": "code",
        "outputId": "3ece59fa-4fd4-4ca6-f1c0-f9506e68c634",
        "colab": {
          "base_uri": "https://localhost:8080/",
          "height": 94
        }
      },
      "source": [
        "learn.fit_one_cycle(1, 1e-2)"
      ],
      "execution_count": 0,
      "outputs": [
        {
          "output_type": "display_data",
          "data": {
            "text/html": [
              "Total time: 00:16 <p><table style='width:300px; margin-bottom:10px'>\n",
              "  <tr>\n",
              "    <th>epoch</th>\n",
              "    <th>train_loss</th>\n",
              "    <th>valid_loss</th>\n",
              "    <th>accuracy</th>\n",
              "  </tr>\n",
              "  <tr>\n",
              "    <th>1</th>\n",
              "    <th>0.705888</th>\n",
              "    <th>0.679510</th>\n",
              "    <th>0.584046</th>\n",
              "  </tr>\n",
              "</table>\n"
            ],
            "text/plain": [
              "<IPython.core.display.HTML object>"
            ]
          },
          "metadata": {
            "tags": []
          }
        }
      ]
    },
    {
      "cell_type": "code",
      "metadata": {
        "id": "cSm2otu88X9G",
        "colab_type": "code",
        "outputId": "3e8d9520-98ac-4a40-a19f-797e748787b6",
        "colab": {
          "base_uri": "https://localhost:8080/",
          "height": 141
        }
      },
      "source": [
        "# get predictions\n",
        "preds, targets = learn.get_preds()\n",
        "\n",
        "predictions = np.argmax(preds, axis = 1)\n",
        "pd.crosstab(predictions, targets)"
      ],
      "execution_count": 0,
      "outputs": [
        {
          "output_type": "execute_result",
          "data": {
            "text/html": [
              "<div>\n",
              "<style scoped>\n",
              "    .dataframe tbody tr th:only-of-type {\n",
              "        vertical-align: middle;\n",
              "    }\n",
              "\n",
              "    .dataframe tbody tr th {\n",
              "        vertical-align: top;\n",
              "    }\n",
              "\n",
              "    .dataframe thead th {\n",
              "        text-align: right;\n",
              "    }\n",
              "</style>\n",
              "<table border=\"1\" class=\"dataframe\">\n",
              "  <thead>\n",
              "    <tr style=\"text-align: right;\">\n",
              "      <th>col_0</th>\n",
              "      <th>0</th>\n",
              "      <th>1</th>\n",
              "    </tr>\n",
              "    <tr>\n",
              "      <th>row_0</th>\n",
              "      <th></th>\n",
              "      <th></th>\n",
              "    </tr>\n",
              "  </thead>\n",
              "  <tbody>\n",
              "    <tr>\n",
              "      <th>0</th>\n",
              "      <td>71</td>\n",
              "      <td>40</td>\n",
              "    </tr>\n",
              "    <tr>\n",
              "      <th>1</th>\n",
              "      <td>106</td>\n",
              "      <td>134</td>\n",
              "    </tr>\n",
              "  </tbody>\n",
              "</table>\n",
              "</div>"
            ],
            "text/plain": [
              "col_0    0    1\n",
              "row_0          \n",
              "0       71   40\n",
              "1      106  134"
            ]
          },
          "metadata": {
            "tags": []
          },
          "execution_count": 90
        }
      ]
    },
    {
      "cell_type": "code",
      "metadata": {
        "id": "JzlWi2in8kHv",
        "colab_type": "code",
        "outputId": "73ee9e01-8ec6-4157-aee9-24fc309ef10a",
        "colab": {
          "base_uri": "https://localhost:8080/",
          "height": 35
        }
      },
      "source": [
        "# {0: 4, 1: 1, 2: 2, 3: 5, 4: 3}\n",
        " # 1=comp.graphic, 2= comp.os.ms-windows.misc, 3 = comp.sys.ibm.pc.hardware, 4 = comp.sys.mac.hardware, 5=comp.windows.x, \n",
        "  \n",
        "  dic = dict (enumerate(df3.label.unique()))\n",
        "dic"
      ],
      "execution_count": 0,
      "outputs": [
        {
          "output_type": "execute_result",
          "data": {
            "text/plain": [
              "{0: 4, 1: 3}"
            ]
          },
          "metadata": {
            "tags": []
          },
          "execution_count": 91
        }
      ]
    },
    {
      "cell_type": "code",
      "metadata": {
        "id": "2sXRiATn9C0K",
        "colab_type": "code",
        "outputId": "c0b4397e-28cb-4097-b4b9-caea98ebd9f2",
        "colab": {
          "base_uri": "https://localhost:8080/",
          "height": 202
        }
      },
      "source": [
        "df_trn[:5].sort_index()"
      ],
      "execution_count": 0,
      "outputs": [
        {
          "output_type": "execute_result",
          "data": {
            "text/html": [
              "<div>\n",
              "<style scoped>\n",
              "    .dataframe tbody tr th:only-of-type {\n",
              "        vertical-align: middle;\n",
              "    }\n",
              "\n",
              "    .dataframe tbody tr th {\n",
              "        vertical-align: top;\n",
              "    }\n",
              "\n",
              "    .dataframe thead th {\n",
              "        text-align: right;\n",
              "    }\n",
              "</style>\n",
              "<table border=\"1\" class=\"dataframe\">\n",
              "  <thead>\n",
              "    <tr style=\"text-align: right;\">\n",
              "      <th></th>\n",
              "      <th>label</th>\n",
              "      <th>text</th>\n",
              "    </tr>\n",
              "  </thead>\n",
              "  <tbody>\n",
              "    <tr>\n",
              "      <th>162</th>\n",
              "      <td>4</td>\n",
              "      <td>I Mac IIsi considering upgrades cards hard dri...</td>\n",
              "    </tr>\n",
              "    <tr>\n",
              "      <th>606</th>\n",
              "      <td>3</td>\n",
              "      <td>From article qq INNdqc dns NMSU Edu bgrubb dan...</td>\n",
              "    </tr>\n",
              "    <tr>\n",
              "      <th>983</th>\n",
              "      <td>3</td>\n",
              "      <td>While others may better experiences I share se...</td>\n",
              "    </tr>\n",
              "    <tr>\n",
              "      <th>991</th>\n",
              "      <td>3</td>\n",
              "      <td>Hi When posting Winmark results good idea give...</td>\n",
              "    </tr>\n",
              "    <tr>\n",
              "      <th>1166</th>\n",
              "      <td>4</td>\n",
              "      <td>I would like know people opinions real world d...</td>\n",
              "    </tr>\n",
              "  </tbody>\n",
              "</table>\n",
              "</div>"
            ],
            "text/plain": [
              "      label                                               text\n",
              "162       4  I Mac IIsi considering upgrades cards hard dri...\n",
              "606       3  From article qq INNdqc dns NMSU Edu bgrubb dan...\n",
              "983       3  While others may better experiences I share se...\n",
              "991       3  Hi When posting Winmark results good idea give...\n",
              "1166      4  I would like know people opinions real world d..."
            ]
          },
          "metadata": {
            "tags": []
          },
          "execution_count": 96
        }
      ]
    },
    {
      "cell_type": "code",
      "metadata": {
        "id": "fzkESWC29wfy",
        "colab_type": "code",
        "outputId": "a8d10094-00e8-410b-b0be-da8e0198a1ab",
        "colab": {
          "base_uri": "https://localhost:8080/",
          "height": 35
        }
      },
      "source": [
        "df3.label.unique()"
      ],
      "execution_count": 0,
      "outputs": [
        {
          "output_type": "execute_result",
          "data": {
            "text/plain": [
              "array([4, 3])"
            ]
          },
          "metadata": {
            "tags": []
          },
          "execution_count": 95
        }
      ]
    },
    {
      "cell_type": "code",
      "metadata": {
        "id": "K-P25Ies-Ic5",
        "colab_type": "code",
        "colab": {}
      },
      "source": [
        ""
      ],
      "execution_count": 0,
      "outputs": []
    }
  ]
}